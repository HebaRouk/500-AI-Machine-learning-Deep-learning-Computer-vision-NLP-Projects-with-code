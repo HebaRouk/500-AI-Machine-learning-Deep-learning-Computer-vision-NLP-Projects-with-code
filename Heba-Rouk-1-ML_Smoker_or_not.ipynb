{
  "nbformat": 4,
  "nbformat_minor": 0,
  "metadata": {
    "colab": {
      "provenance": [],
      "include_colab_link": true
    },
    "kernelspec": {
      "name": "python3",
      "display_name": "Python 3"
    }
  },
  "cells": [
    {
      "cell_type": "markdown",
      "metadata": {
        "id": "view-in-github",
        "colab_type": "text"
      },
      "source": [
        "<a href=\"https://colab.research.google.com/github/HebaRouk/500-AI-Machine-learning-Deep-learning-Computer-vision-NLP-Projects-with-code/blob/main/Heba-Rouk-1-ML_Smoker_or_not.ipynb\" target=\"_parent\"><img src=\"https://colab.research.google.com/assets/colab-badge.svg\" alt=\"Open In Colab\"/></a>"
      ]
    },
    {
      "cell_type": "markdown",
      "metadata": {
        "id": "SKzBo_NmCSMR"
      },
      "source": [
        "# **Challenge of the Week - ML Workflow**\n",
        "\n",
        "© 2024, Zaka AI, Inc. All Rights Reserved.\n",
        "\n",
        "---\n",
        "\n",
        "## Case Study: Classifying Smokers vs Non Smokers\n",
        "\n",
        "**Objective:**\n",
        "\n",
        "In this challenge, you will work on a dataset that you saw during week 1 but this time with different aspect. Your goal is not only to make a prediction, it is to make a prediction with the best possible way. So you will be building, evaluating, and improving your model.\n",
        "\n",
        "\n",
        "## Dataset Description\n",
        "\n",
        "\n",
        "*   **age**: age of primary beneficiary\n",
        "*   **sex**: insurance contractor gender, female, male\n",
        "*   **bmi**: Body mass index, providing an understanding of body, weights that are relatively high or low relative to height,\n",
        "objective index of body weight (kg / m ^ 2) using the ratio of height to weight, ideally 18.5 to 24.9\n",
        "*   **children**: Number of children covered by health insurance / Number of dependents\n",
        "*   **smoker**: Smoking\n",
        "*   **region**: the beneficiary's residential area in the US, northeast, southeast, southwest, northwest.\n",
        "*   **charges**: Individual medical costs billed by health insurance"
      ]
    },
    {
      "cell_type": "markdown",
      "metadata": {
        "id": "lW2QzRbXR5Ph"
      },
      "source": [
        "Our problem would be to predict if a person is smoker or not based on all the other features in the dataset."
      ]
    },
    {
      "cell_type": "markdown",
      "metadata": {
        "id": "5k7QqVknG5ya"
      },
      "source": [
        "## 1. Data Loading"
      ]
    },
    {
      "cell_type": "markdown",
      "metadata": {
        "id": "GfyJQMOnE_48"
      },
      "source": [
        "#### Import necessary python modules\n",
        "\n",
        "We will need the following libraries:\n",
        " - Numpy — for scientific computing (e.g., linear algebra (vectors & matrices)).\n",
        " - Pandas — providing high-performance, easy-to-use data reading, manipulation, and analysis.\n",
        " - Matplotlib — plotting & visualization.\n",
        " - scikit-learn — a tool for data mining and machine learning models. We need from it train_test_split and LogisticRegression Functions"
      ]
    },
    {
      "cell_type": "code",
      "source": [
        "from google.colab import drive\n",
        "import pandas as pd\n",
        "\n",
        "# Step 1: Mount Google Drive\n",
        "drive.mount('/content/drive')\n",
        "\n",
        "# Step 2: Create or read a DataFrame (you can replace this with your own data)\n",
        "df = pd.DataFrame({'Name': ['Ali', 'Sara'], 'Age': [25, 30]})\n",
        "\n",
        "# Step 3: Save the DataFrame to Google Drive as an Excel file\n",
        "file_path = '/content/drive/MyDrive/my_file.xlsx'\n",
        "df.to_excel(file_path, index=False)\n",
        "\n",
        "# Step 4: Load the saved Excel file from Google Drive\n",
        "df_loaded = pd.read_excel(file_path)\n",
        "\n",
        "# Step 5: Print the loaded data\n",
        "print(df_loaded)\n"
      ],
      "metadata": {
        "colab": {
          "base_uri": "https://localhost:8080/"
        },
        "id": "XEviGDWym4KQ",
        "outputId": "81297022-a229-444a-af9d-85821c912282"
      },
      "execution_count": 50,
      "outputs": [
        {
          "output_type": "stream",
          "name": "stdout",
          "text": [
            "Drive already mounted at /content/drive; to attempt to forcibly remount, call drive.mount(\"/content/drive\", force_remount=True).\n",
            "   Name  Age\n",
            "0   Ali   25\n",
            "1  Sara   30\n"
          ]
        }
      ]
    },
    {
      "cell_type": "code",
      "metadata": {
        "id": "u9nnDKPjAfGq"
      },
      "source": [
        "# Import necessary libraries\n",
        "import numpy as np  # For numerical operations and linear algebra\n",
        "import pandas as pd  # For data manipulation and analysis\n",
        "import matplotlib.pyplot as plt  # For data visualization\n",
        "from sklearn.model_selection import train_test_split  # For splitting data into training and test sets\n",
        "from sklearn.linear_model import LogisticRegression  # For creating logistic regression models\n"
      ],
      "execution_count": 51,
      "outputs": []
    },
    {
      "cell_type": "markdown",
      "metadata": {
        "id": "4LEivAvUHIE3"
      },
      "source": [
        "#### Read & visualize data\n",
        "To load the data to our code, we use **pandas** module, more specifically, the **read_csv** function. Print the head of your dataset."
      ]
    },
    {
      "cell_type": "code",
      "metadata": {
        "id": "_hep8239AzVU",
        "colab": {
          "base_uri": "https://localhost:8080/"
        },
        "outputId": "a701eab9-716e-46e6-e419-838814471f8b"
      },
      "source": [
        "# Load the dataset using pandas\n",
        "data = pd.read_csv('insurance.csv')  # Replace with the path to your CSV file\n",
        "\n",
        "# Display the first few rows of the dataset\n",
        "print(\"First 5 rows of the dataset:\")\n",
        "print(data.head())\n",
        "\n",
        "# Optional: Visualize the data structure and basic information\n",
        "print(\"\\nDataset Information:\")\n",
        "print(data.info())\n",
        "\n",
        "print(\"\\nSummary Statistics:\")\n",
        "print(data.describe())\n"
      ],
      "execution_count": 52,
      "outputs": [
        {
          "output_type": "stream",
          "name": "stdout",
          "text": [
            "First 5 rows of the dataset:\n",
            "   age     sex     bmi  children smoker     region      charges\n",
            "0   19  female  27.900         0    yes  southwest  16884.92400\n",
            "1   18    male  33.770         1     no  southeast   1725.55230\n",
            "2   28    male  33.000         3     no  southeast   4449.46200\n",
            "3   33    male  22.705         0     no  northwest  21984.47061\n",
            "4   32    male  28.880         0     no  northwest   3866.85520\n",
            "\n",
            "Dataset Information:\n",
            "<class 'pandas.core.frame.DataFrame'>\n",
            "RangeIndex: 1338 entries, 0 to 1337\n",
            "Data columns (total 7 columns):\n",
            " #   Column    Non-Null Count  Dtype  \n",
            "---  ------    --------------  -----  \n",
            " 0   age       1338 non-null   int64  \n",
            " 1   sex       1338 non-null   object \n",
            " 2   bmi       1335 non-null   float64\n",
            " 3   children  1338 non-null   int64  \n",
            " 4   smoker    1338 non-null   object \n",
            " 5   region    1338 non-null   object \n",
            " 6   charges   1338 non-null   float64\n",
            "dtypes: float64(2), int64(2), object(3)\n",
            "memory usage: 73.3+ KB\n",
            "None\n",
            "\n",
            "Summary Statistics:\n",
            "               age          bmi     children       charges\n",
            "count  1338.000000  1335.000000  1338.000000   1338.000000\n",
            "mean     39.207025    30.661423     1.094918  13270.422265\n",
            "std      14.049960     6.101038     1.205493  12110.011237\n",
            "min      18.000000    15.960000     0.000000   1121.873900\n",
            "25%      27.000000    26.302500     0.000000   4740.287150\n",
            "50%      39.000000    30.400000     1.000000   9382.033000\n",
            "75%      51.000000    34.687500     2.000000  16639.912515\n",
            "max      64.000000    53.130000     5.000000  63770.428010\n"
          ]
        }
      ]
    },
    {
      "cell_type": "markdown",
      "metadata": {
        "id": "qgIxvmAKhiqe"
      },
      "source": [
        "## 2. Exploratory Data Analysis\n",
        "\n",
        "Let's dig deeper & understand our data"
      ]
    },
    {
      "cell_type": "markdown",
      "metadata": {
        "id": "LbXDTkiQhzwq"
      },
      "source": [
        "**Task:** how many rows & columns in our dataset"
      ]
    },
    {
      "cell_type": "code",
      "metadata": {
        "id": "nUf0K_SMh1og",
        "colab": {
          "base_uri": "https://localhost:8080/"
        },
        "outputId": "7884c37c-8a57-4c33-bcc0-ffd6efbb6b97"
      },
      "source": [
        "# Get the number of rows and columns in the dataset\n",
        "rows, columns = data.shape\n",
        "\n",
        "print(f\"The dataset has {rows} rows and {columns} columns.\")\n"
      ],
      "execution_count": 53,
      "outputs": [
        {
          "output_type": "stream",
          "name": "stdout",
          "text": [
            "The dataset has 1338 rows and 7 columns.\n"
          ]
        }
      ]
    },
    {
      "cell_type": "markdown",
      "metadata": {
        "id": "rPqsS9S2B2M4"
      },
      "source": [
        "Using the function **info()**, we can check:\n",
        " - data types (int, float, or object (e.g., string))\n",
        " - missing values\n",
        " - memory usage\n",
        " - number of rows and columns"
      ]
    },
    {
      "cell_type": "code",
      "metadata": {
        "id": "exWsHvXSA7nz",
        "colab": {
          "base_uri": "https://localhost:8080/"
        },
        "outputId": "d9fa834f-d251-4d59-f918-db4b343cffa9"
      },
      "source": [
        "# Check the dataset's information\n",
        "print(\"Dataset Information:\")\n",
        "data.info()\n"
      ],
      "execution_count": 54,
      "outputs": [
        {
          "output_type": "stream",
          "name": "stdout",
          "text": [
            "Dataset Information:\n",
            "<class 'pandas.core.frame.DataFrame'>\n",
            "RangeIndex: 1338 entries, 0 to 1337\n",
            "Data columns (total 7 columns):\n",
            " #   Column    Non-Null Count  Dtype  \n",
            "---  ------    --------------  -----  \n",
            " 0   age       1338 non-null   int64  \n",
            " 1   sex       1338 non-null   object \n",
            " 2   bmi       1335 non-null   float64\n",
            " 3   children  1338 non-null   int64  \n",
            " 4   smoker    1338 non-null   object \n",
            " 5   region    1338 non-null   object \n",
            " 6   charges   1338 non-null   float64\n",
            "dtypes: float64(2), int64(2), object(3)\n",
            "memory usage: 73.3+ KB\n"
          ]
        }
      ]
    },
    {
      "cell_type": "markdown",
      "metadata": {
        "id": "Kt2KsZa2B63T"
      },
      "source": [
        "Using the function **describe()**, we can check the mean, standard deviation, maximum, and minimum of each numerical feature (column)"
      ]
    },
    {
      "cell_type": "code",
      "metadata": {
        "id": "pifR8QwkA-DW",
        "colab": {
          "base_uri": "https://localhost:8080/"
        },
        "outputId": "e79f53b2-b849-46f9-9bf8-8fca742a7825"
      },
      "source": [
        "# Get statistical summary of numerical features\n",
        "print(\"Statistical Summary of Numerical Features:\")\n",
        "print(data.describe())\n"
      ],
      "execution_count": 55,
      "outputs": [
        {
          "output_type": "stream",
          "name": "stdout",
          "text": [
            "Statistical Summary of Numerical Features:\n",
            "               age          bmi     children       charges\n",
            "count  1338.000000  1335.000000  1338.000000   1338.000000\n",
            "mean     39.207025    30.661423     1.094918  13270.422265\n",
            "std      14.049960     6.101038     1.205493  12110.011237\n",
            "min      18.000000    15.960000     0.000000   1121.873900\n",
            "25%      27.000000    26.302500     0.000000   4740.287150\n",
            "50%      39.000000    30.400000     1.000000   9382.033000\n",
            "75%      51.000000    34.687500     2.000000  16639.912515\n",
            "max      64.000000    53.130000     5.000000  63770.428010\n"
          ]
        }
      ]
    },
    {
      "cell_type": "markdown",
      "metadata": {
        "id": "-C6DoqLJkZaJ"
      },
      "source": [
        "#### Data Imbalance Checking\n",
        "\n",
        "First, let's see how many smokers vs non-smokers we have."
      ]
    },
    {
      "cell_type": "code",
      "metadata": {
        "id": "2bYxq0B4m4eg",
        "colab": {
          "base_uri": "https://localhost:8080/"
        },
        "outputId": "449ee933-a338-4b61-a046-d51b55f4c04a"
      },
      "source": [
        "import pandas as pd\n",
        "\n",
        "# Read the dataset (replace the path with your actual file path)\n",
        "file_path = '/content/drive/MyDrive/my_file.xlsx'\n",
        "df = pd.read_excel(file_path)\n",
        "\n",
        "# Print the column names to check the correct column name\n",
        "print(\"Columns in the dataset:\", df.columns)\n",
        "\n",
        "# Check the first few rows to understand its structure\n",
        "print(df.head())\n",
        "\n",
        "\n"
      ],
      "execution_count": 59,
      "outputs": [
        {
          "output_type": "stream",
          "name": "stdout",
          "text": [
            "Columns in the dataset: Index(['Name', 'Age'], dtype='object')\n",
            "   Name  Age\n",
            "0   Ali   25\n",
            "1  Sara   30\n"
          ]
        }
      ]
    },
    {
      "cell_type": "markdown",
      "metadata": {
        "id": "ubd9V3ulRbqY"
      },
      "source": [
        "We have an imbalance that we will fix later."
      ]
    },
    {
      "cell_type": "markdown",
      "metadata": {
        "id": "yzGzI6TbaSbB"
      },
      "source": [
        "Let's see how much each feature tells us about a person being  a smoker or not.\n",
        "For each of your numerical features, plot the distribution for the smokers and the non smokers case."
      ]
    },
    {
      "cell_type": "code",
      "metadata": {
        "id": "albiV9oTXWye",
        "colab": {
          "base_uri": "https://localhost:8080/",
          "height": 1000
        },
        "outputId": "1b654202-409c-428c-a811-051ccecb474e"
      },
      "source": [
        "import seaborn as sns\n",
        "import matplotlib.pyplot as plt\n",
        "\n",
        "# Assume 'smoker' is the column indicating if a person is a smoker (1) or not (0)\n",
        "# Loop through all numerical columns in the dataset\n",
        "numerical_features = data.select_dtypes(include=['int64', 'float64']).columns\n",
        "\n",
        "for feature in numerical_features:\n",
        "    if feature != 'smoker':  # Skip the target column itself\n",
        "        plt.figure(figsize=(8, 6))\n",
        "        sns.histplot(data, x=feature, hue='smoker', kde=True, palette='coolwarm', bins=30)\n",
        "        plt.title(f\"Distribution of {feature} by Smoking Status\")\n",
        "        plt.xlabel(feature)\n",
        "        plt.ylabel('Count')\n",
        "        plt.legend(title='Smoker', labels=['Non-Smoker', 'Smoker'])\n",
        "        plt.show()\n"
      ],
      "execution_count": 60,
      "outputs": [
        {
          "output_type": "display_data",
          "data": {
            "text/plain": [
              "<Figure size 800x600 with 1 Axes>"
            ],
            "image/png": "[encoded data removed]"
          },
          "metadata": {}
        },
        {
          "output_type": "display_data",
          "data": {
            "text/plain": [
              "<Figure size 800x600 with 1 Axes>"
            ],
            "image/png": "[encoded data removed]"
          },
          "metadata": {}
        },
        {
          "output_type": "display_data",
          "data": {
            "text/plain": [
              "<Figure size 800x600 with 1 Axes>"
            ],
            "image/png": "[encoded data removed]"
          },
          "metadata": {}
        },
        {
          "output_type": "display_data",
          "data": {
            "text/plain": [
              "<Figure size 800x600 with 1 Axes>"
            ],
            "image/png": "[encoded data removed]"
          },
          "metadata": {}
        }
      ]
    },
    {
      "cell_type": "markdown",
      "metadata": {
        "id": "YWa8eagVZwLg"
      },
      "source": [
        "WHat do you think is the feature that tells us the most about a person being smoker or not?"
      ]
    },
    {
      "cell_type": "markdown",
      "metadata": {
        "id": "u35V2azRs1Zs"
      },
      "source": [
        "To determine the feature that tells us the most about whether a person is a smoker or not, we would need to analyze the dataset and evaluate which attributes are most strongly correlated with smoking status. Common features that might influence smoking status in health-related datasets include:\n",
        "\n",
        "Age: Younger people may be more likely to start smoking, while older people may have quit.\n",
        "Gender: In some populations, smoking habits may differ between males and females.\n",
        "BMI (Body Mass Index): Smoking is often linked with weight and health factors, so BMI could be an indicator.\n",
        "Health Conditions: Conditions such as respiratory or cardiovascular diseases may correlate with smoking habits.\n",
        "Education Level: There may be differences in smoking prevalence based on education level.\n",
        "Income: Socioeconomic status may influence smoking behavior.\n",
        "Alcohol Consumption: People who drink alcohol may also be more likely to smoke, as there can be a correlation between these behaviors.\n",
        "To identify the feature that is most strongly associated with smoking status, you could use statistical or machine learning methods like:\n",
        "\n",
        "Correlation Analysis: Check the correlation between each feature and the smoking status.\n",
        "Feature Importance from a Model: Use machine learning models like Random Forest or Decision Trees to identify which features have the highest importance for predicting smoking status.bold text"
      ]
    },
    {
      "cell_type": "markdown",
      "metadata": {
        "id": "5gjS7Ss5aji3"
      },
      "source": [
        "Now let's see if the gender influences being a smoker or not.\n",
        "<br>Hint: You can use crosstabbing and then plot distributions"
      ]
    },
    {
      "cell_type": "code",
      "metadata": {
        "id": "defv0Lx4aqDy",
        "colab": {
          "base_uri": "https://localhost:8080/",
          "height": 651
        },
        "outputId": "1e37ddd7-cb7a-49ab-e389-c55a2b7c49b6"
      },
      "source": [
        "# Crosstabulation to see the relationship between sex and smoking status\n",
        "gender_smoker = pd.crosstab(data['sex'], data['smoker'])\n",
        "\n",
        "# Display the crosstab result\n",
        "print(\"Crosstab of Sex and Smoking Status:\")\n",
        "print(gender_smoker)\n",
        "\n",
        "# Plotting the crosstab as a bar plot\n",
        "gender_smoker.plot(kind='bar', figsize=(8, 6), stacked=True, colormap='coolwarm')\n",
        "\n",
        "# Add labels and title\n",
        "plt.title(\"Sex vs Smoking Status\")\n",
        "plt.xlabel(\"Sex\")\n",
        "plt.ylabel(\"Count\")\n",
        "plt.legend(title=\"Smoker\", labels=[\"Non-Smoker\", \"Smoker\"])\n",
        "plt.xticks(rotation=0)\n",
        "plt.show()\n",
        "\n"
      ],
      "execution_count": 84,
      "outputs": [
        {
          "output_type": "stream",
          "name": "stdout",
          "text": [
            "Crosstab of Sex and Smoking Status:\n",
            "smoker   no  yes\n",
            "sex             \n",
            "female  547  115\n",
            "male    517  159\n"
          ]
        },
        {
          "output_type": "display_data",
          "data": {
            "text/plain": [
              "<Figure size 800x600 with 1 Axes>"
            ],
            "image/png": "[encoded data removed]"
          },
          "metadata": {}
        }
      ]
    },
    {
      "cell_type": "markdown",
      "metadata": {
        "id": "PELhantCbEGV"
      },
      "source": [
        "Do you think the gender has an effect on smoking according to your results?"
      ]
    },
    {
      "cell_type": "markdown",
      "metadata": {
        "id": "BbuCA54aumYz"
      },
      "source": [
        "**[Share Your Zaka here]**"
      ]
    },
    {
      "cell_type": "markdown",
      "metadata": {
        "id": "nNG_bxWkuvkI"
      },
      "source": [
        "Do the same for the column 'region'"
      ]
    },
    {
      "cell_type": "code",
      "metadata": {
        "id": "RteNFVg-b-lj",
        "colab": {
          "base_uri": "https://localhost:8080/",
          "height": 685
        },
        "outputId": "6d8fb09d-8b44-4b3f-bf8c-af9c1a46b9e3"
      },
      "source": [
        "# Crosstabulation to see the relationship between region and smoking status\n",
        "region_smoker = pd.crosstab(data['region'], data['smoker'])\n",
        "\n",
        "# Display the crosstab result\n",
        "print(\"Crosstab of Region and Smoking Status:\")\n",
        "print(region_smoker)\n",
        "\n",
        "# Plotting the crosstab as a bar plot\n",
        "region_smoker.plot(kind='bar', figsize=(8, 6), stacked=True, colormap='coolwarm')\n",
        "\n",
        "# Add labels and title\n",
        "plt.title(\"Region vs Smoking Status\")\n",
        "plt.xlabel(\"Region\")\n",
        "plt.ylabel(\"Count\")\n",
        "plt.legend(title=\"Smoker\", labels=[\"Non-Smoker\", \"Smoker\"])\n",
        "plt.xticks(rotation=0)\n",
        "plt.show()\n"
      ],
      "execution_count": 85,
      "outputs": [
        {
          "output_type": "stream",
          "name": "stdout",
          "text": [
            "Crosstab of Region and Smoking Status:\n",
            "smoker      no  yes\n",
            "region             \n",
            "northeast  257   67\n",
            "northwest  267   58\n",
            "southeast  273   91\n",
            "southwest  267   58\n"
          ]
        },
        {
          "output_type": "display_data",
          "data": {
            "text/plain": [
              "<Figure size 800x600 with 1 Axes>"
            ],
            "image/png": "[encoded data removed]"
          },
          "metadata": {}
        }
      ]
    },
    {
      "cell_type": "markdown",
      "metadata": {
        "id": "g3X3fDBXnX16"
      },
      "source": [
        "## 3. Data Preprocessing\n",
        "\"Garbage in, garbage out\".\n",
        "\n",
        "Data should be preprocessed and cleaned to get rid of noisy data.\n",
        "Preprocessing includes:\n",
        " - dealing with missing data\n",
        "   - remove whole rows (if they are not a lot)\n",
        "   - infer (e.g., date of birth & age)\n",
        "   - fill with mean, median, or even 0\n",
        " - removing unsued column(s)\n",
        " - convert categorical (non numerical) data into numerical\n",
        " - normalization: standarize data ranges for all features (e.g., between 0 and 1)\n",
        "\n",
        "\n",
        "\n",
        "---\n",
        "\n",
        "\n",
        "\n",
        " Let's start by seeing if we have missing data."
      ]
    },
    {
      "cell_type": "code",
      "metadata": {
        "id": "mslOEw7wmf_N",
        "colab": {
          "base_uri": "https://localhost:8080/"
        },
        "outputId": "0c83e46c-9412-43b6-96d0-3767925a0775"
      },
      "source": [
        "# Check for missing data in the dataset\n",
        "missing_data = data.isnull().sum()\n",
        "\n",
        "# Display the columns with missing data\n",
        "print(\"Missing Data Count for Each Column:\")\n",
        "print(missing_data)\n",
        "\n",
        "# Optional: To get a summary of the missing data as a percentage\n",
        "missing_percentage = (missing_data / len(data)) * 100\n",
        "print(\"\\nPercentage of Missing Data in Each Column:\")\n",
        "print(missing_percentage)\n"
      ],
      "execution_count": 86,
      "outputs": [
        {
          "output_type": "stream",
          "name": "stdout",
          "text": [
            "Missing Data Count for Each Column:\n",
            "age         0\n",
            "sex         0\n",
            "bmi         3\n",
            "children    0\n",
            "smoker      0\n",
            "region      0\n",
            "charges     0\n",
            "dtype: int64\n",
            "\n",
            "Percentage of Missing Data in Each Column:\n",
            "age         0.000000\n",
            "sex         0.000000\n",
            "bmi         0.224215\n",
            "children    0.000000\n",
            "smoker      0.000000\n",
            "region      0.000000\n",
            "charges     0.000000\n",
            "dtype: float64\n"
          ]
        }
      ]
    },
    {
      "cell_type": "markdown",
      "metadata": {
        "id": "2nC4WKW5u_Ka"
      },
      "source": [
        "Drop rows with missing values, and make sure you have no nulls anymore."
      ]
    },
    {
      "cell_type": "code",
      "metadata": {
        "id": "ZXvduiy1nckz",
        "colab": {
          "base_uri": "https://localhost:8080/"
        },
        "outputId": "73f2c13d-8404-4d03-c522-7f488c2a9595"
      },
      "source": [
        "# Drop rows with any missing values\n",
        "data_cleaned = data.dropna()\n",
        "\n",
        "# Verify that there are no missing values left\n",
        "missing_data_after = data_cleaned.isnull().sum()\n",
        "\n",
        "# Display the columns with missing data after cleaning\n",
        "print(\"Missing Data Count After Cleaning:\")\n",
        "print(missing_data_after)\n",
        "\n",
        "# Optional: Verify the shape of the cleaned dataset\n",
        "print(\"\\nShape of the cleaned dataset (rows, columns):\", data_cleaned.shape)\n"
      ],
      "execution_count": 87,
      "outputs": [
        {
          "output_type": "stream",
          "name": "stdout",
          "text": [
            "Missing Data Count After Cleaning:\n",
            "age         0\n",
            "sex         0\n",
            "bmi         0\n",
            "children    0\n",
            "smoker      0\n",
            "region      0\n",
            "charges     0\n",
            "dtype: int64\n",
            "\n",
            "Shape of the cleaned dataset (rows, columns): (1335, 7)\n"
          ]
        }
      ]
    },
    {
      "cell_type": "markdown",
      "metadata": {
        "id": "T0_-xq9PvHFF"
      },
      "source": [
        "See the type of each of your columns"
      ]
    },
    {
      "cell_type": "code",
      "metadata": {
        "id": "bSEzYUz-nevs",
        "colab": {
          "base_uri": "https://localhost:8080/"
        },
        "outputId": "e23f2cad-76be-4ebf-d540-7371c92fc1c6"
      },
      "source": [
        "# Check the data types of each column in the cleaned dataset\n",
        "print(\"Data Types of Each Column:\")\n",
        "print(data_cleaned.dtypes)\n"
      ],
      "execution_count": 88,
      "outputs": [
        {
          "output_type": "stream",
          "name": "stdout",
          "text": [
            "Data Types of Each Column:\n",
            "age           int64\n",
            "sex          object\n",
            "bmi         float64\n",
            "children      int64\n",
            "smoker       object\n",
            "region       object\n",
            "charges     float64\n",
            "dtype: object\n"
          ]
        }
      ]
    },
    {
      "cell_type": "markdown",
      "metadata": {
        "id": "VGcXlEP6ryIZ"
      },
      "source": [
        "#### Convert Categorical columns to numerical\n",
        "\n",
        "*   We need to convert the sex column from male/female to 0/1.\n",
        "*   We need to convert the smoker column from no/yes to 0/1.\n",
        "\n",
        "\n",
        "Let's start with the sex column\n",
        "\n"
      ]
    },
    {
      "cell_type": "code",
      "metadata": {
        "id": "cpEbrz7HnfuY",
        "colab": {
          "base_uri": "https://localhost:8080/"
        },
        "outputId": "047b5d5c-afca-4759-a2ef-522f192fddb6"
      },
      "source": [
        "# Convert 'sex' column from 'male'/'female' to 0/1\n",
        "data_cleaned['sex'] = data_cleaned['sex'].map({'male': 0, 'female': 1})\n",
        "\n",
        "# Verify the conversion\n",
        "print(\"Updated 'sex' column:\")\n",
        "print(data_cleaned['sex'].head())\n"
      ],
      "execution_count": 89,
      "outputs": [
        {
          "output_type": "stream",
          "name": "stdout",
          "text": [
            "Updated 'sex' column:\n",
            "0    1\n",
            "1    0\n",
            "2    0\n",
            "3    0\n",
            "4    0\n",
            "Name: sex, dtype: int64\n"
          ]
        },
        {
          "output_type": "stream",
          "name": "stderr",
          "text": [
            "<ipython-input-89-d66039ab96e5>:2: SettingWithCopyWarning: \n",
            "A value is trying to be set on a copy of a slice from a DataFrame.\n",
            "Try using .loc[row_indexer,col_indexer] = value instead\n",
            "\n",
            "See the caveats in the documentation: https://pandas.pydata.org/pandas-docs/stable/user_guide/indexing.html#returning-a-view-versus-a-copy\n",
            "  data_cleaned['sex'] = data_cleaned['sex'].map({'male': 0, 'female': 1})\n"
          ]
        }
      ]
    },
    {
      "cell_type": "markdown",
      "metadata": {
        "id": "AuX-fpHesgmi"
      },
      "source": [
        "And now the smokers column"
      ]
    },
    {
      "cell_type": "code",
      "metadata": {
        "id": "LfU8gCe7sCDS",
        "colab": {
          "base_uri": "https://localhost:8080/"
        },
        "outputId": "53a3846f-4f5f-4e69-9d6f-2e28ce4df97d"
      },
      "source": [
        "# Convert 'smoker' column from 'no'/'yes' to 0/1\n",
        "data_cleaned['smoker'] = data_cleaned['smoker'].map({'no': 0, 'yes': 1})\n",
        "\n",
        "# Verify the conversion\n",
        "print(\"Updated 'smoker' column:\")\n",
        "print(data_cleaned['smoker'].head())\n"
      ],
      "execution_count": 90,
      "outputs": [
        {
          "output_type": "stream",
          "name": "stdout",
          "text": [
            "Updated 'smoker' column:\n",
            "0    1\n",
            "1    0\n",
            "2    0\n",
            "3    0\n",
            "4    0\n",
            "Name: smoker, dtype: int64\n"
          ]
        },
        {
          "output_type": "stream",
          "name": "stderr",
          "text": [
            "<ipython-input-90-6026d18b0883>:2: SettingWithCopyWarning: \n",
            "A value is trying to be set on a copy of a slice from a DataFrame.\n",
            "Try using .loc[row_indexer,col_indexer] = value instead\n",
            "\n",
            "See the caveats in the documentation: https://pandas.pydata.org/pandas-docs/stable/user_guide/indexing.html#returning-a-view-versus-a-copy\n",
            "  data_cleaned['smoker'] = data_cleaned['smoker'].map({'no': 0, 'yes': 1})\n"
          ]
        }
      ]
    },
    {
      "cell_type": "markdown",
      "metadata": {
        "id": "7ovM89R-eYCi"
      },
      "source": [
        "And now the Region Column"
      ]
    },
    {
      "cell_type": "code",
      "metadata": {
        "id": "Ug0gruFnebxI",
        "colab": {
          "base_uri": "https://localhost:8080/"
        },
        "outputId": "d5e6fe4b-a69c-428b-bd70-c60f2f1d46a7"
      },
      "source": [
        "# Convert 'region' column to numerical values\n",
        "region_map = {'southwest': 0, 'southeast': 1, 'northwest': 2, 'northeast': 3}\n",
        "data_cleaned['region'] = data_cleaned['region'].map(region_map)\n",
        "\n",
        "# Verify the conversion\n",
        "print(\"Updated 'region' column:\")\n",
        "print(data_cleaned['region'].head())\n"
      ],
      "execution_count": 91,
      "outputs": [
        {
          "output_type": "stream",
          "name": "stdout",
          "text": [
            "Updated 'region' column:\n",
            "0    0\n",
            "1    1\n",
            "2    1\n",
            "3    2\n",
            "4    2\n",
            "Name: region, dtype: int64\n"
          ]
        },
        {
          "output_type": "stream",
          "name": "stderr",
          "text": [
            "<ipython-input-91-d77612dfae1b>:3: SettingWithCopyWarning: \n",
            "A value is trying to be set on a copy of a slice from a DataFrame.\n",
            "Try using .loc[row_indexer,col_indexer] = value instead\n",
            "\n",
            "See the caveats in the documentation: https://pandas.pydata.org/pandas-docs/stable/user_guide/indexing.html#returning-a-view-versus-a-copy\n",
            "  data_cleaned['region'] = data_cleaned['region'].map(region_map)\n"
          ]
        }
      ]
    },
    {
      "cell_type": "markdown",
      "metadata": {
        "id": "uwfqKXYftiS-"
      },
      "source": [
        "#### Normalization\n",
        "\n",
        "Let's scale all the columns by dividing by the maximum"
      ]
    },
    {
      "cell_type": "code",
      "metadata": {
        "id": "hJrBAhytsq8c",
        "colab": {
          "base_uri": "https://localhost:8080/"
        },
        "outputId": "f854ffab-1842-43ce-efa8-8e628489f438"
      },
      "source": [
        "# Normalize all numerical columns by dividing by the maximum value of each column\n",
        "data_normalized = data_cleaned.apply(lambda x: x / x.max() if x.dtype in ['float64', 'int64'] else x)\n",
        "\n",
        "# Verify the normalization\n",
        "print(\"Normalized Data (first few rows):\")\n",
        "print(data_normalized.head())\n"
      ],
      "execution_count": 92,
      "outputs": [
        {
          "output_type": "stream",
          "name": "stdout",
          "text": [
            "Normalized Data (first few rows):\n",
            "        age  sex       bmi  children  smoker    region   charges\n",
            "0  0.296875  1.0  0.525127       0.0     1.0  0.000000  0.264777\n",
            "1  0.281250  0.0  0.635611       0.2     0.0  0.333333  0.027059\n",
            "2  0.437500  0.0  0.621118       0.6     0.0  0.333333  0.069773\n",
            "3  0.515625  0.0  0.427348       0.0     0.0  0.666667  0.344744\n",
            "4  0.500000  0.0  0.543572       0.0     0.0  0.666667  0.060637\n"
          ]
        }
      ]
    },
    {
      "cell_type": "markdown",
      "metadata": {
        "id": "nwQPUuGy8vmw"
      },
      "source": [
        "## 4. Model Training & Testing\n",
        "\n"
      ]
    },
    {
      "cell_type": "markdown",
      "metadata": {
        "id": "LTNYhHSpHezL"
      },
      "source": [
        "#### Data splits\n",
        "\n",
        "Before training, we need to split data into training (80%) & testing (20%), and fix the random_state parameter to 42 <br>Print the shapes of your training and testing data."
      ]
    },
    {
      "cell_type": "code",
      "metadata": {
        "id": "5n3DqBUG892K",
        "colab": {
          "base_uri": "https://localhost:8080/"
        },
        "outputId": "45d79be3-d477-4515-d178-65f5ffb7991e"
      },
      "source": [
        "from sklearn.model_selection import train_test_split\n",
        "\n",
        "# Define the features (X) and target (y)\n",
        "X = data_normalized.drop('smoker', axis=1)  # Features (all columns except 'smoker')\n",
        "y = data_normalized['smoker']  # Target variable (smoker)\n",
        "\n",
        "# Split the data into training (80%) and testing (20%) sets\n",
        "X_train, X_test, y_train, y_test = train_test_split(X, y, test_size=0.2, random_state=42)\n",
        "\n",
        "# Print the shapes of the training and testing sets\n",
        "print(\"Training data shape (features):\", X_train.shape)\n",
        "print(\"Testing data shape (features):\", X_test.shape)\n",
        "print(\"Training data shape (target):\", y_train.shape)\n",
        "print(\"Testing data shape (target):\", y_test.shape)\n"
      ],
      "execution_count": 93,
      "outputs": [
        {
          "output_type": "stream",
          "name": "stdout",
          "text": [
            "Training data shape (features): (1068, 6)\n",
            "Testing data shape (features): (267, 6)\n",
            "Training data shape (target): (1068,)\n",
            "Testing data shape (target): (267,)\n"
          ]
        }
      ]
    },
    {
      "cell_type": "markdown",
      "metadata": {
        "id": "7dPqqZiT97Eg"
      },
      "source": [
        "#### Logistic Regression Modeling\n"
      ]
    },
    {
      "cell_type": "markdown",
      "metadata": {
        "id": "hRNys9cPvr4W"
      },
      "source": [
        "Define the logistic Regression model, and fit it on the training data"
      ]
    },
    {
      "cell_type": "code",
      "metadata": {
        "id": "CYUD8wNF9bm3",
        "colab": {
          "base_uri": "https://localhost:8080/"
        },
        "outputId": "6380702c-5877-47be-c9ec-c9983ec6865e"
      },
      "source": [
        "from sklearn.linear_model import LogisticRegression\n",
        "\n",
        "# Define the Logistic Regression model\n",
        "logreg_model = LogisticRegression(random_state=42)\n",
        "\n",
        "# Fit the model on the training data\n",
        "logreg_model.fit(X_train, y_train)\n",
        "\n",
        "# Check the model's coefficients (optional)\n",
        "print(\"Model Coefficients:\", logreg_model.coef_)\n",
        "print(\"Model Intercept:\", logreg_model.intercept_)\n"
      ],
      "execution_count": 71,
      "outputs": [
        {
          "output_type": "stream",
          "name": "stdout",
          "text": [
            "Model Coefficients: [[-2.25986423 -0.25430761 -3.08492925 -0.35989854 -0.03534348 10.06343845]]\n",
            "Model Intercept: [-0.68319869]\n"
          ]
        }
      ]
    },
    {
      "cell_type": "markdown",
      "metadata": {
        "id": "8KIBXHUKHijy"
      },
      "source": [
        "#### Evaluation"
      ]
    },
    {
      "cell_type": "markdown",
      "metadata": {
        "id": "Wxz6PsUGv0gB"
      },
      "source": [
        "Evaluate your model on the testing data, and compute: Accuracy, Precision, Recall and F1 score"
      ]
    },
    {
      "cell_type": "code",
      "metadata": {
        "id": "jEhqbtbCHmg8",
        "colab": {
          "base_uri": "https://localhost:8080/"
        },
        "outputId": "984dc4ee-92de-4fda-d739-a7643cf58bfc"
      },
      "source": [
        "from sklearn.metrics import accuracy_score, precision_score, recall_score, f1_score, classification_report\n",
        "\n",
        "# Make predictions on the test set\n",
        "y_pred = logreg_model.predict(X_test)\n",
        "\n",
        "# Compute accuracy, precision, recall, and F1 score\n",
        "accuracy = accuracy_score(y_test, y_pred)\n",
        "precision = precision_score(y_test, y_pred)\n",
        "recall = recall_score(y_test, y_pred)\n",
        "f1 = f1_score(y_test, y_pred)\n",
        "\n",
        "# Print the evaluation metrics\n",
        "print(\"Accuracy:\", accuracy)\n",
        "print(\"Precision:\", precision)\n",
        "print(\"Recall:\", recall)\n",
        "print(\"F1 Score:\", f1)\n",
        "\n",
        "# Alternatively, you can use classification_report for a detailed overview\n",
        "print(\"\\nClassification Report:\\n\", classification_report(y_test, y_pred))\n"
      ],
      "execution_count": 72,
      "outputs": [
        {
          "output_type": "stream",
          "name": "stdout",
          "text": [
            "Accuracy: 0.898876404494382\n",
            "Precision: 0.9523809523809523\n",
            "Recall: 0.6153846153846154\n",
            "F1 Score: 0.7476635514018691\n",
            "\n",
            "Classification Report:\n",
            "               precision    recall  f1-score   support\n",
            "\n",
            "         0.0       0.89      0.99      0.94       202\n",
            "         1.0       0.95      0.62      0.75        65\n",
            "\n",
            "    accuracy                           0.90       267\n",
            "   macro avg       0.92      0.80      0.84       267\n",
            "weighted avg       0.90      0.90      0.89       267\n",
            "\n"
          ]
        }
      ]
    },
    {
      "cell_type": "markdown",
      "metadata": {
        "id": "HTuXCuF4kJKX"
      },
      "source": [
        "Which metrics you think can be improved?"
      ]
    },
    {
      "cell_type": "markdown",
      "metadata": {
        "id": "0v1qLhLJwJ6y"
      },
      "source": [
        "**[Share your Zaka here]**"
      ]
    },
    {
      "cell_type": "markdown",
      "metadata": {
        "id": "GvDITkSAj1GI"
      },
      "source": [
        "##5. Model Improvement"
      ]
    },
    {
      "cell_type": "markdown",
      "metadata": {
        "id": "kEQegNwxkE4t"
      },
      "source": [
        "Now we will try to improve the model that we built."
      ]
    },
    {
      "cell_type": "markdown",
      "metadata": {
        "id": "muAmLM-Hmpv0"
      },
      "source": [
        "####Handle data Imbalance"
      ]
    },
    {
      "cell_type": "markdown",
      "metadata": {
        "id": "apVdsILUwUUn"
      },
      "source": [
        "Plot a histogram that shows the numbers of smokers and non smokers"
      ]
    },
    {
      "cell_type": "code",
      "metadata": {
        "id": "1KMyylha2Y-g",
        "colab": {
          "base_uri": "https://localhost:8080/",
          "height": 410
        },
        "outputId": "61279bd0-995a-4961-da61-282a9b0f156b"
      },
      "source": [
        "import matplotlib.pyplot as plt\n",
        "\n",
        "# Plotting the distribution of smokers and non-smokers\n",
        "plt.figure(figsize=(6, 4))\n",
        "data['smoker'].value_counts().plot(kind='bar', color=['skyblue', 'salmon'])\n",
        "plt.title('Distribution of Smokers and Non-Smokers')\n",
        "plt.xlabel('Smoker Status')\n",
        "plt.ylabel('Count')\n",
        "plt.xticks(ticks=[0, 1], labels=['Non-Smoker', 'Smoker'], rotation=0)\n",
        "plt.show()\n"
      ],
      "execution_count": 73,
      "outputs": [
        {
          "output_type": "display_data",
          "data": {
            "text/plain": [
              "<Figure size 600x400 with 1 Axes>"
            ],
            "image/png": "[encoded data removed]"
          },
          "metadata": {}
        }
      ]
    },
    {
      "cell_type": "markdown",
      "metadata": {
        "id": "9MzV8OJ5m03J"
      },
      "source": [
        "We can see that we have a clearly imbalanced dataset. To handle it, we choose to do 2 steps:\n",
        "* Oversampling the minority class with a factor of 0.5\n",
        "* Undersampling the majority class to obtain the same number in the 2 classes\n",
        "<br>\n",
        "We do that by using the RandomOverSaampler and RandomUnderSampler from the imblearn library."
      ]
    },
    {
      "cell_type": "code",
      "metadata": {
        "id": "9-ZRF4gMnjuf",
        "colab": {
          "base_uri": "https://localhost:8080/"
        },
        "outputId": "add3426e-b990-4b94-f7af-f841683d4e84"
      },
      "source": [
        "from imblearn.over_sampling import RandomOverSampler\n",
        "from imblearn.under_sampling import RandomUnderSampler\n",
        "from collections import Counter\n",
        "\n",
        "# Initialize the RandomOverSampler and RandomUnderSampler\n",
        "oversampler = RandomOverSampler(sampling_strategy=0.5, random_state=42)  # Oversample minority class by 50%\n",
        "undersampler = RandomUnderSampler(sampling_strategy='majority', random_state=42)  # Undersample majority class to match\n",
        "\n",
        "# Apply oversampling to the training set\n",
        "X_train_oversampled, y_train_oversampled = oversampler.fit_resample(X_train, y_train)\n",
        "\n",
        "# Apply undersampling to the oversampled training set\n",
        "X_train_balanced, y_train_balanced = undersampler.fit_resample(X_train_oversampled, y_train_oversampled)\n",
        "\n",
        "# Check the new distribution of the classes\n",
        "print(\"Class distribution after oversampling and undersampling:\")\n",
        "print(Counter(y_train_balanced))\n"
      ],
      "execution_count": 74,
      "outputs": [
        {
          "output_type": "stream",
          "name": "stdout",
          "text": [
            "Class distribution after oversampling and undersampling:\n",
            "Counter({0.0: 429, 1.0: 429})\n"
          ]
        },
        {
          "output_type": "stream",
          "name": "stderr",
          "text": [
            "/usr/local/lib/python3.10/dist-packages/sklearn/base.py:484: FutureWarning: `BaseEstimator._check_n_features` is deprecated in 1.6 and will be removed in 1.7. Use `sklearn.utils.validation._check_n_features` instead.\n",
            "  warnings.warn(\n",
            "/usr/local/lib/python3.10/dist-packages/sklearn/base.py:493: FutureWarning: `BaseEstimator._check_feature_names` is deprecated in 1.6 and will be removed in 1.7. Use `sklearn.utils.validation._check_feature_names` instead.\n",
            "  warnings.warn(\n",
            "/usr/local/lib/python3.10/dist-packages/sklearn/base.py:484: FutureWarning: `BaseEstimator._check_n_features` is deprecated in 1.6 and will be removed in 1.7. Use `sklearn.utils.validation._check_n_features` instead.\n",
            "  warnings.warn(\n",
            "/usr/local/lib/python3.10/dist-packages/sklearn/base.py:493: FutureWarning: `BaseEstimator._check_feature_names` is deprecated in 1.6 and will be removed in 1.7. Use `sklearn.utils.validation._check_feature_names` instead.\n",
            "  warnings.warn(\n"
          ]
        }
      ]
    },
    {
      "cell_type": "markdown",
      "metadata": {
        "id": "J-_mELCkwgnR"
      },
      "source": [
        "Plot a new histogram on the new data we have."
      ]
    },
    {
      "cell_type": "code",
      "metadata": {
        "id": "WjVUHgi_ou-g",
        "colab": {
          "base_uri": "https://localhost:8080/",
          "height": 564
        },
        "outputId": "a82984d3-cb4f-4203-9eb5-9140067d199f"
      },
      "source": [
        "import matplotlib.pyplot as plt\n",
        "\n",
        "# Plot a histogram with different colors for smokers and non-smokers\n",
        "plt.figure(figsize=(8, 6))\n",
        "\n",
        "# Plot non-smokers\n",
        "plt.hist(y_train_balanced[y_train_balanced == 0], bins=1, color='skyblue', label='Non-Smoker', edgecolor='black', rwidth=0.8)\n",
        "\n",
        "# Plot smokers\n",
        "plt.hist(y_train_balanced[y_train_balanced == 1], bins=1, color='salmon', label='Smoker', edgecolor='black', rwidth=0.8)\n",
        "\n",
        "# Adding labels and title\n",
        "plt.title(\"Distribution of Smokers and Non-Smokers After Balancing\")\n",
        "plt.xlabel(\"Smoking Status\")\n",
        "plt.ylabel(\"Count\")\n",
        "plt.xticks([0, 1], ['Non-Smoker', 'Smoker'])\n",
        "plt.legend()\n",
        "plt.show()\n"
      ],
      "execution_count": 75,
      "outputs": [
        {
          "output_type": "display_data",
          "data": {
            "text/plain": [
              "<Figure size 800x600 with 1 Axes>"
            ],
            "image/png": "[encoded data removed]"
          },
          "metadata": {}
        }
      ]
    },
    {
      "cell_type": "markdown",
      "metadata": {
        "id": "jZx2-2mawnhU"
      },
      "source": [
        "Split the new data you obtained (80%, 20%), and build a Logistic Regression mode, and fit it on this data. Fix the random_state at 42"
      ]
    },
    {
      "cell_type": "code",
      "metadata": {
        "id": "Z_z-8P_io7GK",
        "colab": {
          "base_uri": "https://localhost:8080/"
        },
        "outputId": "1d6a3492-deba-4425-d4e9-ff1f8270e012"
      },
      "source": [
        "from sklearn.model_selection import train_test_split\n",
        "from sklearn.linear_model import LogisticRegression\n",
        "from sklearn.metrics import accuracy_score, precision_score, recall_score, f1_score\n",
        "\n",
        "# Split the balanced data into features (X) and target (y)\n",
        "X_balanced = X_train_balanced  # Your feature data after balancing\n",
        "y_balanced = y_train_balanced  # Your target data after balancing\n",
        "\n",
        "# Split into training and testing sets (80%, 20%)\n",
        "X_train_split, X_test_split, y_train_split, y_test_split = train_test_split(X_balanced, y_balanced, test_size=0.2, random_state=42)\n",
        "\n",
        "# Build the Logistic Regression model\n",
        "logreg_model = LogisticRegression(random_state=42)\n",
        "\n",
        "# Fit the model to the training data\n",
        "logreg_model.fit(X_train_split, y_train_split)\n",
        "\n",
        "# Predict on the test data\n",
        "y_pred_split = logreg_model.predict(X_test_split)\n",
        "\n",
        "# Evaluate the model\n",
        "accuracy = accuracy_score(y_test_split, y_pred_split)\n",
        "precision = precision_score(y_test_split, y_pred_split)\n",
        "recall = recall_score(y_test_split, y_pred_split)\n",
        "f1 = f1_score(y_test_split, y_pred_split)\n",
        "\n",
        "# Print the evaluation metrics\n",
        "print(\"Accuracy:\", accuracy)\n",
        "print(\"Precision:\", precision)\n",
        "print(\"Recall:\", recall)\n",
        "print(\"F1 Score:\", f1)\n"
      ],
      "execution_count": 76,
      "outputs": [
        {
          "output_type": "stream",
          "name": "stdout",
          "text": [
            "Accuracy: 0.9476744186046512\n",
            "Precision: 0.9072164948453608\n",
            "Recall: 1.0\n",
            "F1 Score: 0.9513513513513514\n"
          ]
        }
      ]
    },
    {
      "cell_type": "markdown",
      "metadata": {
        "id": "igAMMumCw53W"
      },
      "source": [
        "Asses your model on the testing data, and Compute the same metrics you computed before"
      ]
    },
    {
      "cell_type": "code",
      "metadata": {
        "id": "q6pV29t-pcFm",
        "colab": {
          "base_uri": "https://localhost:8080/"
        },
        "outputId": "99c7d05a-bc12-4f53-a6b0-ebebd3eb8f2d"
      },
      "source": [
        "# Evaluate the model on the test data\n",
        "accuracy_test = accuracy_score(y_test_split, y_pred_split)\n",
        "precision_test = precision_score(y_test_split, y_pred_split)\n",
        "recall_test = recall_score(y_test_split, y_pred_split)\n",
        "f1_test = f1_score(y_test_split, y_pred_split)\n",
        "\n",
        "# Print the evaluation metrics\n",
        "print(\"Test Accuracy:\", accuracy_test)\n",
        "print(\"Test Precision:\", precision_test)\n",
        "print(\"Test Recall:\", recall_test)\n",
        "print(\"Test F1 Score:\", f1_test)\n"
      ],
      "execution_count": 77,
      "outputs": [
        {
          "output_type": "stream",
          "name": "stdout",
          "text": [
            "Test Accuracy: 0.9476744186046512\n",
            "Test Precision: 0.9072164948453608\n",
            "Test Recall: 1.0\n",
            "Test F1 Score: 0.9513513513513514\n"
          ]
        }
      ]
    },
    {
      "cell_type": "markdown",
      "metadata": {
        "id": "yDP6PNQUtzJZ"
      },
      "source": [
        "We can see how much our scores got better when we balanced our dataset."
      ]
    },
    {
      "cell_type": "markdown",
      "metadata": {
        "id": "0kIR_0OOuehK"
      },
      "source": [
        "####Regularization with Hyperparameter Tuning"
      ]
    },
    {
      "cell_type": "markdown",
      "metadata": {
        "id": "r4JMLSS4uj-y"
      },
      "source": [
        "We will be tuning the hyperparameter C in the logistic regression model that we used. This hyperparameter represents regularization.\n",
        "<br><img src=\"https://equatio-api.texthelp.com/svg/C%5C%20%3D%5C%20%5Cfrac%7B1%7D%7B%5Clambda%7D\" alt=\"C equals 1 over lamda\">"
      ]
    },
    {
      "cell_type": "markdown",
      "metadata": {
        "id": "BJQlUrE3xf0G"
      },
      "source": [
        "The possible values of C will be: [0.1, 1, 10, 100, 1000]"
      ]
    },
    {
      "cell_type": "markdown",
      "metadata": {
        "id": "r46K-FU-0_N2"
      },
      "source": [
        "We will also know have to decide what type of regularization we will use: L1, or L2.\n",
        "\n",
        "Since we have several parameters to tune, we will be doing what we call a GridSearch, to search for the best model having the best pair of hyperparameters.\n",
        "We will be doing a 5 folds cross validation"
      ]
    },
    {
      "cell_type": "markdown",
      "metadata": {
        "id": "SIin4G7vxtTA"
      },
      "source": [
        "Note: Specify the solver='liblinear' in your LogisticRegression model, and this is because other solvers do not support L1 regularization."
      ]
    },
    {
      "cell_type": "markdown",
      "metadata": {
        "id": "Rib4gF9Dx-en"
      },
      "source": [
        "Print the best score and the best parameters"
      ]
    },
    {
      "cell_type": "code",
      "metadata": {
        "id": "Jp_8fVD6u9YC",
        "colab": {
          "base_uri": "https://localhost:8080/"
        },
        "outputId": "86ac2bfe-cdfb-44a0-fb72-83d2ef811eb9"
      },
      "source": [
        "from sklearn.model_selection import GridSearchCV\n",
        "from sklearn.linear_model import LogisticRegression\n",
        "\n",
        "# Define the logistic regression model\n",
        "log_reg = LogisticRegression(solver='liblinear')\n",
        "\n",
        "# Define the hyperparameters to tune\n",
        "param_grid = {\n",
        "    'C': [0.1, 1, 10, 100, 1000],  # Regularization strength\n",
        "    'penalty': ['l1', 'l2'],  # Regularization type (L1 or L2)\n",
        "}\n",
        "\n",
        "# Perform GridSearchCV with 5-fold cross-validation\n",
        "grid_search = GridSearchCV(estimator=log_reg, param_grid=param_grid, cv=5, scoring='accuracy')\n",
        "\n",
        "# Fit the model with the training data\n",
        "grid_search.fit(X_train_balanced, y_train_balanced)\n",
        "\n",
        "# Print the best score and best parameters\n",
        "print(\"Best Score (Accuracy):\", grid_search.best_score_)\n",
        "print(\"Best Hyperparameters:\", grid_search.best_params_)\n"
      ],
      "execution_count": 78,
      "outputs": [
        {
          "output_type": "stream",
          "name": "stdout",
          "text": [
            "Best Score (Accuracy): 0.9825105399156806\n",
            "Best Hyperparameters: {'C': 1000, 'penalty': 'l1'}\n"
          ]
        }
      ]
    },
    {
      "cell_type": "markdown",
      "metadata": {
        "id": "ledU43xMviNL"
      },
      "source": [
        "Let's assess the model's performance in general for the best specified hyperparameters using the same metrics we used earlier."
      ]
    },
    {
      "cell_type": "code",
      "metadata": {
        "id": "1mwc0KjxvoZe",
        "colab": {
          "base_uri": "https://localhost:8080/"
        },
        "outputId": "40a116ea-9183-4ee7-a8e2-f39fe59615b1"
      },
      "source": [
        "from imblearn.over_sampling import RandomOverSampler\n",
        "from imblearn.under_sampling import RandomUnderSampler\n",
        "from sklearn.model_selection import train_test_split\n",
        "from sklearn.linear_model import LogisticRegression\n",
        "from sklearn.metrics import accuracy_score, precision_score, recall_score, f1_score\n",
        "\n",
        "# Step 1: Resample the data\n",
        "# Assuming your original features are stored in X and target in y\n",
        "# Apply oversampling to the minority class with a factor of 0.5 and undersampling to the majority class\n",
        "\n",
        "ros = RandomOverSampler(sampling_strategy=0.5, random_state=42)  # Oversampling minority class by 50%\n",
        "rus = RandomUnderSampler(sampling_strategy='auto', random_state=42)  # Undersampling to match\n",
        "\n",
        "# First, apply oversampling\n",
        "X_resampled, y_resampled = ros.fit_resample(X, y)\n",
        "\n",
        "# Then, apply undersampling\n",
        "X_resampled, y_resampled = rus.fit_resample(X_resampled, y_resampled)\n",
        "\n",
        "# Step 2: Split the resampled data into training and testing sets (80% training, 20% testing)\n",
        "X_train_balanced, X_test_balanced, y_train_balanced, y_test_balanced = train_test_split(\n",
        "    X_resampled, y_resampled, test_size=0.2, random_state=42\n",
        ")\n",
        "\n",
        "# Step 3: Train the logistic regression model with the best hyperparameters from GridSearchCV\n",
        "# Assuming grid_search has already been performed and best_model is available\n",
        "best_model = grid_search.best_estimator_\n",
        "\n",
        "# Train the model on the balanced training data\n",
        "best_model.fit(X_train_balanced, y_train_balanced)\n",
        "\n",
        "# Step 4: Make predictions on the test data\n",
        "y_pred = best_model.predict(X_test_balanced)\n",
        "\n",
        "# Step 5: Calculate the evaluation metrics\n",
        "accuracy = accuracy_score(y_test_balanced, y_pred)\n",
        "precision = precision_score(y_test_balanced, y_pred)\n",
        "recall = recall_score(y_test_balanced, y_pred)\n",
        "f1 = f1_score(y_test_balanced, y_pred)\n",
        "\n",
        "# Step 6: Print the evaluation metrics\n",
        "print(\"Model Evaluation Metrics (Best Hyperparameters):\")\n",
        "print(\"Accuracy:\", accuracy)\n",
        "print(\"Precision:\", precision)\n",
        "print(\"Recall:\", recall)\n",
        "print(\"F1 Score:\", f1)\n"
      ],
      "execution_count": 79,
      "outputs": [
        {
          "output_type": "stream",
          "name": "stdout",
          "text": [
            "Model Evaluation Metrics (Best Hyperparameters):\n",
            "Accuracy: 0.9858490566037735\n",
            "Precision: 0.9705882352941176\n",
            "Recall: 1.0\n",
            "F1 Score: 0.9850746268656716\n"
          ]
        },
        {
          "output_type": "stream",
          "name": "stderr",
          "text": [
            "/usr/local/lib/python3.10/dist-packages/sklearn/base.py:484: FutureWarning: `BaseEstimator._check_n_features` is deprecated in 1.6 and will be removed in 1.7. Use `sklearn.utils.validation._check_n_features` instead.\n",
            "  warnings.warn(\n",
            "/usr/local/lib/python3.10/dist-packages/sklearn/base.py:493: FutureWarning: `BaseEstimator._check_feature_names` is deprecated in 1.6 and will be removed in 1.7. Use `sklearn.utils.validation._check_feature_names` instead.\n",
            "  warnings.warn(\n",
            "/usr/local/lib/python3.10/dist-packages/sklearn/base.py:484: FutureWarning: `BaseEstimator._check_n_features` is deprecated in 1.6 and will be removed in 1.7. Use `sklearn.utils.validation._check_n_features` instead.\n",
            "  warnings.warn(\n",
            "/usr/local/lib/python3.10/dist-packages/sklearn/base.py:493: FutureWarning: `BaseEstimator._check_feature_names` is deprecated in 1.6 and will be removed in 1.7. Use `sklearn.utils.validation._check_feature_names` instead.\n",
            "  warnings.warn(\n"
          ]
        }
      ]
    },
    {
      "cell_type": "markdown",
      "metadata": {
        "id": "wwHhYH8zzcdt"
      },
      "source": [
        "We can see that the results improved compared to the last model we built."
      ]
    },
    {
      "cell_type": "markdown",
      "metadata": {
        "id": "Q4BLDv8hsAyM"
      },
      "source": [
        "####AdaBoost Classifier"
      ]
    },
    {
      "cell_type": "markdown",
      "metadata": {
        "id": "YFX7ljdRzruM"
      },
      "source": [
        "Now, we will work on improving our model, but this time through using ensemble methods, and what we will use for today is Adaboost.\n",
        "\n",
        "AdaBoost is a boosting ensemble method that relies on the boosting concepts that we learned about during the week.\n",
        "In Adaboost, each model is learning to correct the previous model's mistakes (misclassified examples). After that, each model will have a weight that depends on how well it performed on the training data. And after that, different results are aggregated based on weighted averaging."
      ]
    },
    {
      "cell_type": "markdown",
      "metadata": {
        "id": "5dTYTtsPyZ36"
      },
      "source": [
        "Create an AdaBoostClassifier Model from sklearn library with n_estimators=10, and fit it on the training data you have."
      ]
    },
    {
      "cell_type": "code",
      "metadata": {
        "id": "xozI_6NvqWHu",
        "colab": {
          "base_uri": "https://localhost:8080/"
        },
        "outputId": "4aa46511-1600-4653-d0ff-47467792969e"
      },
      "source": [
        "from sklearn.ensemble import AdaBoostClassifier\n",
        "from sklearn.tree import DecisionTreeClassifier\n",
        "from sklearn.metrics import accuracy_score, precision_score, recall_score, f1_score\n",
        "\n",
        "# Step 1: Create an AdaBoost model with a decision tree as the base estimator and n_estimators=10\n",
        "adaboost_model = AdaBoostClassifier(\n",
        "    DecisionTreeClassifier(max_depth=1),  # Using decision trees as weak learners\n",
        "    n_estimators=10,\n",
        "    random_state=42\n",
        ")\n",
        "\n",
        "# Step 2: Fit the model on the balanced training data\n",
        "adaboost_model.fit(X_train_balanced, y_train_balanced)\n",
        "\n",
        "# Step 3: Make predictions on the test data\n",
        "y_pred_adaboost = adaboost_model.predict(X_test_balanced)\n",
        "\n",
        "# Step 4: Calculate the evaluation metrics\n",
        "accuracy = accuracy_score(y_test_balanced, y_pred_adaboost)\n",
        "precision = precision_score(y_test_balanced, y_pred_adaboost)\n",
        "recall = recall_score(y_test_balanced, y_pred_adaboost)\n",
        "f1 = f1_score(y_test_balanced, y_pred_adaboost)\n",
        "\n",
        "# Step 5: Print the evaluation metrics\n",
        "print(\"AdaBoost Model Evaluation Metrics:\")\n",
        "print(\"Accuracy:\", accuracy)\n",
        "print(\"Precision:\", precision)\n",
        "print(\"Recall:\", recall)\n",
        "print(\"F1 Score:\", f1)\n"
      ],
      "execution_count": 80,
      "outputs": [
        {
          "output_type": "stream",
          "name": "stdout",
          "text": [
            "AdaBoost Model Evaluation Metrics:\n",
            "Accuracy: 0.9622641509433962\n",
            "Precision: 0.9333333333333333\n",
            "Recall: 0.98989898989899\n",
            "F1 Score: 0.9607843137254902\n"
          ]
        }
      ]
    },
    {
      "cell_type": "markdown",
      "metadata": {
        "id": "l7kkGl10yjkN"
      },
      "source": [
        "Asses the performance of your model on the testing data, and compute the same metrics we computed earlier."
      ]
    },
    {
      "cell_type": "code",
      "metadata": {
        "id": "V2EhqVjWsHfY",
        "colab": {
          "base_uri": "https://localhost:8080/"
        },
        "outputId": "d4841185-cf66-4b2e-b186-4e30abc6271b"
      },
      "source": [
        "# Step 1: Make predictions on the test data\n",
        "y_pred_adaboost = adaboost_model.predict(X_test_balanced)\n",
        "\n",
        "# Step 2: Calculate the evaluation metrics\n",
        "accuracy = accuracy_score(y_test_balanced, y_pred_adaboost)\n",
        "precision = precision_score(y_test_balanced, y_pred_adaboost)\n",
        "recall = recall_score(y_test_balanced, y_pred_adaboost)\n",
        "f1 = f1_score(y_test_balanced, y_pred_adaboost)\n",
        "\n",
        "# Step 3: Print the evaluation metrics\n",
        "print(\"AdaBoost Model Evaluation Metrics on Testing Data:\")\n",
        "print(\"Accuracy:\", accuracy)\n",
        "print(\"Precision:\", precision)\n",
        "print(\"Recall:\", recall)\n",
        "print(\"F1 Score:\", f1)\n"
      ],
      "execution_count": 81,
      "outputs": [
        {
          "output_type": "stream",
          "name": "stdout",
          "text": [
            "AdaBoost Model Evaluation Metrics on Testing Data:\n",
            "Accuracy: 0.9622641509433962\n",
            "Precision: 0.9333333333333333\n",
            "Recall: 0.98989898989899\n",
            "F1 Score: 0.9607843137254902\n"
          ]
        }
      ]
    },
    {
      "cell_type": "markdown",
      "metadata": {
        "id": "8sKli1DO0qol"
      },
      "source": [
        "**BONUS:** One thing you can try on your own, is to tune the Hyperparameters of the Adaboost algorithm, and build an even more powerful model :)"
      ]
    },
    {
      "cell_type": "code",
      "metadata": {
        "id": "L61L4aJ5y626",
        "colab": {
          "base_uri": "https://localhost:8080/"
        },
        "outputId": "3cc82d03-431a-4499-c045-90f6ed00318e"
      },
      "source": [
        "import sklearn\n",
        "print(sklearn.__version__)\n",
        "\n",
        "from sklearn.model_selection import GridSearchCV\n",
        "from sklearn.ensemble import AdaBoostClassifier\n",
        "from sklearn.tree import DecisionTreeClassifier\n",
        "from sklearn.metrics import accuracy_score, precision_score, recall_score, f1_score\n",
        "\n",
        "# Step 1: Define the hyperparameter grid for tuning\n",
        "param_grid = {\n",
        "    'n_estimators': [50, 100, 150, 200],  # Number of weak learners\n",
        "    'learning_rate': [0.01, 0.1, 0.5, 1.0],  # Learning rate for each weak learner\n",
        "}\n",
        "\n",
        "# Step 2: Initialize AdaBoost model (use default base estimator)\n",
        "adaboost_model = AdaBoostClassifier(DecisionTreeClassifier(max_depth=1), random_state=42)\n",
        "\n",
        "# Step 3: Set up GridSearchCV for hyperparameter tuning\n",
        "grid_search = GridSearchCV(estimator=adaboost_model,\n",
        "                           param_grid=param_grid,\n",
        "                           cv=5,  # 5-fold cross-validation\n",
        "                           scoring='accuracy',  # You can choose 'accuracy', 'precision', etc.\n",
        "                           n_jobs=-1,  # Use all available cores for faster computation\n",
        "                           verbose=1)  # Print out progress of GridSearchCV\n",
        "\n",
        "# Step 4: Fit the grid search on the training data\n",
        "grid_search.fit(X_train_balanced, y_train_balanced)\n",
        "\n",
        "# Step 5: Print the best hyperparameters and best score\n",
        "print(\"Best Hyperparameters:\", grid_search.best_params_)\n",
        "print(\"Best Cross-Validation Score:\", grid_search.best_score_)\n",
        "\n",
        "# Step 6: Evaluate the best model on the testing data\n",
        "best_adaboost_model = grid_search.best_estimator_\n",
        "y_pred_best = best_adaboost_model.predict(X_test_balanced)\n",
        "\n",
        "# Step 7: Calculate evaluation metrics for the best model\n",
        "accuracy = accuracy_score(y_test_balanced, y_pred_best)\n",
        "precision = precision_score(y_test_balanced, y_pred_best, average='binary')  # Use 'macro' or 'weighted' for multi-class\n",
        "recall = recall_score(y_test_balanced, y_pred_best, average='binary')  # Use 'macro' or 'weighted' for multi-class\n",
        "f1 = f1_score(y_test_balanced, y_pred_best, average='binary')  # Use 'macro' or 'weighted' for multi-class\n",
        "\n",
        "# Step 8: Print the evaluation metrics\n",
        "print(\"Evaluation Metrics for Best AdaBoost Model:\")\n",
        "print(\"Accuracy:\", accuracy)\n",
        "print(\"Precision:\", precision)\n",
        "print(\"Recall:\", recall)\n",
        "print(\"F1 Score:\", f1)\n"
      ],
      "execution_count": 82,
      "outputs": [
        {
          "output_type": "stream",
          "name": "stdout",
          "text": [
            "1.6.0\n",
            "Fitting 5 folds for each of 16 candidates, totalling 80 fits\n",
            "Best Hyperparameters: {'learning_rate': 1.0, 'n_estimators': 100}\n",
            "Best Cross-Validation Score: 0.9657918552036199\n",
            "Evaluation Metrics for Best AdaBoost Model:\n",
            "Accuracy: 0.9811320754716981\n",
            "Precision: 0.9702970297029703\n",
            "Recall: 0.98989898989899\n",
            "F1 Score: 0.98\n"
          ]
        }
      ]
    }
  ]
}