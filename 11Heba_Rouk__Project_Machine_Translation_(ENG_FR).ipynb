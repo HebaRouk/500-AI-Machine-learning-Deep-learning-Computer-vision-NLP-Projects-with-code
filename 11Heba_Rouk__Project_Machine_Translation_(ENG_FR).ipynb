{
  "cells": [
    {
      "cell_type": "markdown",
      "metadata": {
        "id": "view-in-github",
        "colab_type": "text"
      },
      "source": [
        "<a href=\"https://colab.research.google.com/github/HebaRouk/500-AI-Machine-learning-Deep-learning-Computer-vision-NLP-Projects-with-code/blob/main/11Heba_Rouk__Project_Machine_Translation_(ENG_FR).ipynb\" target=\"_parent\"><img src=\"https://colab.research.google.com/assets/colab-badge.svg\" alt=\"Open In Colab\"/></a>"
      ]
    },
    {
      "cell_type": "markdown",
      "source": [
        "##Machine Translation Using a Seq2Seq Architecture\n",
        "© 2024, Zaka AI, Inc. All Rights Reserved.\n",
        "\n",
        "---\n",
        "The goal of this colab is to get you more familiar with the Seq2Seq models and their challenges. For this reason, you will be working on machine translation problem where we would have a sentence as input (in english), and the output is gonna be the translated sentence (in french). So just like what happens with Google Translate.\n"
      ],
      "metadata": {
        "id": "xiC75uo6u_Of"
      }
    },
    {
      "cell_type": "markdown",
      "source": [
        "**Just to give you a heads up:** We won't be having a model performing like Google translate, but at least we will have an idea about how Google Translate works and the challenges that exist with a translation problem.  "
      ],
      "metadata": {
        "id": "TeK4LPupvg_c"
      }
    },
    {
      "cell_type": "markdown",
      "source": [
        "## Importing Libraries"
      ],
      "metadata": {
        "id": "SBTvDTzBv293"
      }
    },
    {
      "cell_type": "markdown",
      "source": [
        "We start by importing numpy and pandas and then we can add the rest"
      ],
      "metadata": {
        "id": "4_j1ZzS3v6N3"
      }
    },
    {
      "cell_type": "code",
      "execution_count": 140,
      "metadata": {
        "id": "n0IARXAX1e1m"
      },
      "outputs": [],
      "source": [
        "import pandas as pd\n",
        "import numpy as np"
      ]
    },
    {
      "cell_type": "markdown",
      "source": [
        "We clone the github repository where our data exists. Here is the github link: https://github.com/zaka-ai/machine_learning_certification/tree/main/Challenge%207"
      ],
      "metadata": {
        "id": "vAcLqZ7uv-SJ"
      }
    },
    {
      "cell_type": "markdown",
      "source": [
        "## Getting the data"
      ],
      "metadata": {
        "id": "i3hLN42axOjn"
      }
    },
    {
      "cell_type": "code",
      "source": [
        "import pandas as pd\n",
        "import os\n",
        "from git import Repo  # To clone the repository\n",
        "\n",
        "# Clone the GitHub repository\n",
        "repo_url = \"https://github.com/zaka-ai/machine_learning_certification.git\"\n",
        "repo_dir = \"Challenge_7\"  # Directory to clone the repository into\n",
        "\n",
        "# Check if the directory exists before cloning\n",
        "if not os.path.exists(repo_dir):\n",
        "    Repo.clone_from(repo_url, repo_dir)\n",
        "\n",
        "# List files in the cloned repository to find the correct data file path\n",
        "print(os.listdir(repo_dir))  # This will show the contents of the cloned repo\n",
        "\n",
        "# Select one of the available CSV files (e.g., 'Advertising.csv')\n",
        "data_file_path = os.path.join(repo_dir, \"Advertising.csv\")\n",
        "\n",
        "# Load the data (update file path if needed)\n",
        "data = pd.read_csv(data_file_path)\n",
        "\n",
        "# Show the first few rows of the data\n",
        "print(data.head())\n",
        "\n",
        "\n"
      ],
      "metadata": {
        "id": "0-M7cFxTPpqy",
        "colab": {
          "base_uri": "https://localhost:8080/"
        },
        "outputId": "e5bc2ae0-7f42-4db9-82d1-4d35fce19f67"
      },
      "execution_count": 141,
      "outputs": [
        {
          "output_type": "stream",
          "name": "stdout",
          "text": [
            "['Advertising.csv', 'breast-cancer-wisconsin.csv', 'README.md', '.git', 'Challenge 7', 'hotel_bookings.csv', 'flu.csv', 'titanic.csv', 'store_data.csv', 'model-deployment-lab']\n",
            "   Unnamed: 0     TV  Radio  Newspaper  Sales\n",
            "0           1  230.1   37.8       69.2   22.1\n",
            "1           2   44.5   39.3       45.1   10.4\n",
            "2           3   17.2   45.9       69.3    9.3\n",
            "3           4  151.5   41.3       58.5   18.5\n",
            "4           5  180.8   10.8       58.4   12.9\n"
          ]
        }
      ]
    },
    {
      "cell_type": "markdown",
      "source": [
        "We read the english sentences in a dataframe named \"english\", and the french sentences in a dataframe named \"french\""
      ],
      "metadata": {
        "id": "BaPr0N8cwGAv"
      }
    },
    {
      "cell_type": "code",
      "execution_count": 142,
      "metadata": {
        "id": "kFj8gkP01lGT",
        "colab": {
          "base_uri": "https://localhost:8080/"
        },
        "outputId": "773602ba-be5d-49a1-88dc-17219c9d1408"
      },
      "outputs": [
        {
          "output_type": "stream",
          "name": "stdout",
          "text": [
            "Columns in the dataset:\n",
            "Index(['PassengerId', 'Survived', 'Pclass', 'Name', 'Sex', 'Age', 'SibSp',\n",
            "       'Parch', 'Ticket', 'Fare', 'Cabin', 'Embarked'],\n",
            "      dtype='object')\n",
            "\n",
            "First few rows of the dataset:\n",
            "   PassengerId  Survived  Pclass  \\\n",
            "0            1         0       3   \n",
            "1            2         1       1   \n",
            "2            3         1       3   \n",
            "3            4         1       1   \n",
            "4            5         0       3   \n",
            "\n",
            "                                                Name     Sex   Age  SibSp  \\\n",
            "0                            Braund, Mr. Owen Harris    male  22.0      1   \n",
            "1  Cumings, Mrs. John Bradley (Florence Briggs Th...  female  38.0      1   \n",
            "2                             Heikkinen, Miss. Laina  female  26.0      0   \n",
            "3       Futrelle, Mrs. Jacques Heath (Lily May Peel)  female  35.0      1   \n",
            "4                           Allen, Mr. William Henry    male  35.0      0   \n",
            "\n",
            "   Parch            Ticket     Fare Cabin Embarked  \n",
            "0      0         A/5 21171   7.2500   NaN        S  \n",
            "1      0          PC 17599  71.2833   C85        C  \n",
            "2      0  STON/O2. 3101282   7.9250   NaN        S  \n",
            "3      0            113803  53.1000  C123        S  \n",
            "4      0            373450   8.0500   NaN        S  \n"
          ]
        }
      ],
      "source": [
        "import pandas as pd\n",
        "\n",
        "# Load the dataset you want to inspect (replace with the correct file path)\n",
        "data_file_path = '/content/Challenge_7/titanic.csv'  # Specify the correct file path\n",
        "data = pd.read_csv(data_file_path)\n",
        "\n",
        "# Print column names to inspect the dataset structure\n",
        "print(\"Columns in the dataset:\")\n",
        "print(data.columns)\n",
        "\n",
        "# Show the first few rows of the dataset to understand its structure\n",
        "print(\"\\nFirst few rows of the dataset:\")\n",
        "print(data.head())\n",
        "\n",
        "\n",
        "\n",
        "\n",
        "\n"
      ]
    },
    {
      "cell_type": "code",
      "execution_count": 143,
      "metadata": {
        "id": "P4A7ZKt32A7s",
        "colab": {
          "base_uri": "https://localhost:8080/"
        },
        "outputId": "d9a95fef-d05e-417c-99ec-0b2737f13171"
      },
      "outputs": [
        {
          "output_type": "stream",
          "name": "stdout",
          "text": [
            "Columns in the dataset:\n",
            "Index(['PassengerId', 'Survived', 'Pclass', 'Name', 'Sex', 'Age', 'SibSp',\n",
            "       'Parch', 'Ticket', 'Fare', 'Cabin', 'Embarked'],\n",
            "      dtype='object')\n",
            "Columns 'english' and 'french' not found in the dataset.\n"
          ]
        }
      ],
      "source": [
        "import pandas as pd\n",
        "\n",
        "# Load the dataset (replace with the correct file path)\n",
        "data_file_path = '/content/Challenge_7/titanic.csv'  # Specify the correct file path\n",
        "data = pd.read_csv(data_file_path)\n",
        "# Print the columns to check the structure\n",
        "print(\"Columns in the dataset:\")\n",
        "print(data.columns)\n",
        "\n",
        "# Check if the 'english' and 'french' columns exist\n",
        "if 'english' in data.columns and 'french' in data.columns:\n",
        "    # Extract the 'english' and 'french' sentences into separate DataFrames\n",
        "    english = data['english']\n",
        "    french = data['french']\n",
        "\n",
        "    # Show the first few rows of both DataFrames\n",
        "    print(\"\\nFirst few rows of English sentences:\")\n",
        "    print(english.head())\n",
        "\n",
        "    print(\"\\nFirst few rows of French sentences:\")\n",
        "    print(french.head())\n",
        "else:\n",
        "    print(\"Columns 'english' and 'french' not found in the dataset.\")\n"
      ]
    },
    {
      "cell_type": "markdown",
      "source": [
        "**How many sentences does each of the files contain?**"
      ],
      "metadata": {
        "id": "jr8OO1OhwSp4"
      }
    },
    {
      "cell_type": "code",
      "execution_count": 144,
      "metadata": {
        "id": "XhWJP-b02HKq",
        "colab": {
          "base_uri": "https://localhost:8080/"
        },
        "outputId": "cbe367b5-77b7-4c8d-e922-d15967aa9e69"
      },
      "outputs": [
        {
          "output_type": "stream",
          "name": "stdout",
          "text": [
            "Columns in the dataset:\n",
            "Index(['PassengerId', 'Survived', 'Pclass', 'Name', 'Sex', 'Age', 'SibSp',\n",
            "       'Parch', 'Ticket', 'Fare', 'Cabin', 'Embarked'],\n",
            "      dtype='object')\n",
            "Columns 'english' and 'french' not found in the dataset.\n"
          ]
        }
      ],
      "source": [
        "import pandas as pd\n",
        "\n",
        "# Load the dataset (replace with the correct file path)\n",
        "data_file_path = '/content/Challenge_7/titanic.csv'  # Specify the correct file path\n",
        "data = pd.read_csv(data_file_path)\n",
        "\n",
        "# Print the columns to check the structure\n",
        "print(\"Columns in the dataset:\")\n",
        "print(data.columns)\n",
        "\n",
        "# Check if the 'english' and 'french' columns exist\n",
        "if 'english' in data.columns and 'french' in data.columns:\n",
        "    # Count the number of sentences (rows) in each column\n",
        "    english_sentence_count = len(data['english'])\n",
        "    french_sentence_count = len(data['french'])\n",
        "\n",
        "    # Output the sentence counts\n",
        "    print(f\"\\nNumber of English sentences: {english_sentence_count}\")\n",
        "    print(f\"Number of French sentences: {french_sentence_count}\")\n",
        "else:\n",
        "    print(\"Columns 'english' and 'french' not found in the dataset.\")\n"
      ]
    },
    {
      "cell_type": "markdown",
      "source": [
        "Now let us concatenate the 2 dataframes into one dataframe that we call **df** where one column has the english senetnces and the other has the french sentences"
      ],
      "metadata": {
        "id": "ITGJN5tIwkDO"
      }
    },
    {
      "cell_type": "code",
      "execution_count": 145,
      "metadata": {
        "id": "-ZXxahsB2njn",
        "colab": {
          "base_uri": "https://localhost:8080/"
        },
        "outputId": "5875266f-6841-4ba3-d055-619eceb54c8d"
      },
      "outputs": [
        {
          "output_type": "stream",
          "name": "stdout",
          "text": [
            "Columns in the dataset:\n",
            "Index(['PassengerId', 'Survived', 'Pclass', 'Name', 'Sex', 'Age', 'SibSp',\n",
            "       'Parch', 'Ticket', 'Fare', 'Cabin', 'Embarked'],\n",
            "      dtype='object')\n",
            "Columns 'english' and 'french' not found in the dataset.\n"
          ]
        }
      ],
      "source": [
        "import pandas as pd\n",
        "\n",
        "# Load the dataset (replace with the correct file path)\n",
        "data_file_path = '/content/Challenge_7/titanic.csv'  # Specify the correct file path\n",
        "data = pd.read_csv(data_file_path)\n",
        "\n",
        "\n",
        "# Print the columns to check the structure\n",
        "print(\"Columns in the dataset:\")\n",
        "print(data.columns)\n",
        "\n",
        "# Check if the 'english' and 'french' columns exist\n",
        "if 'english' in data.columns and 'french' in data.columns:\n",
        "    # Extract the 'english' and 'french' sentences\n",
        "    english = data['english']\n",
        "    french = data['french']\n",
        "\n",
        "    # Concatenate the two columns into a new DataFrame\n",
        "    df = pd.DataFrame({\n",
        "        'English': english,\n",
        "        'French': french\n",
        "    })\n",
        "\n",
        "    # Show the first few rows of the concatenated DataFrame\n",
        "    print(\"\\nFirst few rows of the concatenated DataFrame:\")\n",
        "    print(df.head())\n",
        "else:\n",
        "    print(\"Columns 'english' and 'french' not found in the dataset.\")\n"
      ]
    },
    {
      "cell_type": "markdown",
      "source": [
        "Let's name the columns as **English** and **French** so that we access them easier."
      ],
      "metadata": {
        "id": "nAr_caXkwwE7"
      }
    },
    {
      "cell_type": "code",
      "execution_count": 146,
      "metadata": {
        "id": "eOHiQDXx3jFS",
        "colab": {
          "base_uri": "https://localhost:8080/"
        },
        "outputId": "be7b7220-ee15-429c-d0c9-bfcad0199361"
      },
      "outputs": [
        {
          "output_type": "stream",
          "name": "stdout",
          "text": [
            "Files in the directory: ['Advertising.csv', 'breast-cancer-wisconsin.csv', 'README.md', '.git', 'Challenge 7', 'hotel_bookings.csv', 'flu.csv', 'titanic.csv', 'store_data.csv', 'model-deployment-lab']\n",
            "\n",
            "Columns in the dataset:\n",
            "Index(['Unnamed: 0', 'TV', 'Radio', 'Newspaper', 'Sales'], dtype='object')\n",
            "Columns 'english' and 'french' not found in the dataset.\n"
          ]
        }
      ],
      "source": [
        "import pandas as pd\n",
        "import os\n",
        "\n",
        "# List all files in the Challenge_7 directory to find the correct file\n",
        "directory_path = '/content/Challenge_7/'\n",
        "files = os.listdir(directory_path)\n",
        "print(\"Files in the directory:\", files)\n",
        "\n",
        "# Load the dataset (update with the correct file name if needed)\n",
        "data_file_path = '/content/Challenge_7/Advertising.csv'  # Change this to your actual file name\n",
        "try:\n",
        "    data = pd.read_csv(data_file_path)\n",
        "except FileNotFoundError:\n",
        "    print(f\"File not found: {data_file_path}\")\n",
        "    # If the file is not found, stop execution\n",
        "    raise\n",
        "\n",
        "# Print the columns to check the structure\n",
        "print(\"\\nColumns in the dataset:\")\n",
        "print(data.columns)\n",
        "\n",
        "# Check if the 'english' and 'french' columns exist\n",
        "if 'english' in data.columns and 'french' in data.columns:\n",
        "    # Extract the 'english' and 'french' sentences\n",
        "    english = data['english']\n",
        "    french = data['french']\n",
        "\n",
        "    # Concatenate the two columns into a new DataFrame with custom column names\n",
        "    df = pd.DataFrame({\n",
        "        'English': english,\n",
        "        'French': french\n",
        "    })\n",
        "\n",
        "    # Display the first few rows of the concatenated DataFrame\n",
        "    print(\"\\nFirst few rows of the concatenated DataFrame:\")\n",
        "    print(df.head())\n",
        "\n",
        "else:\n",
        "    print(\"Columns 'english' and 'french' not found in the dataset.\")\n",
        "\n"
      ]
    },
    {
      "cell_type": "markdown",
      "source": [
        "Pick a sentence and print it in both languages"
      ],
      "metadata": {
        "id": "4xc1TsEHw9yC"
      }
    },
    {
      "cell_type": "code",
      "execution_count": 147,
      "metadata": {
        "id": "QuRVWch23ujo",
        "colab": {
          "base_uri": "https://localhost:8080/"
        },
        "outputId": "bcb2081b-56a6-4b67-f565-cfeab777febc"
      },
      "outputs": [
        {
          "output_type": "stream",
          "name": "stdout",
          "text": [
            "Files in the directory: ['Advertising.csv', 'breast-cancer-wisconsin.csv', 'README.md', '.git', 'Challenge 7', 'hotel_bookings.csv', 'flu.csv', 'titanic.csv', 'store_data.csv', 'model-deployment-lab']\n",
            "\n",
            "Columns in the dataset:\n",
            "Index(['Unnamed: 0', 'TV', 'Radio', 'Newspaper', 'Sales'], dtype='object')\n",
            "Columns 'english' and 'french' not found in the dataset.\n"
          ]
        }
      ],
      "source": [
        "import pandas as pd\n",
        "import os\n",
        "\n",
        "# List all files in the Challenge_7 directory to find the correct file\n",
        "directory_path = '/content/Challenge_7/'\n",
        "files = os.listdir(directory_path)\n",
        "print(\"Files in the directory:\", files)\n",
        "\n",
        "# Load the dataset (update with the correct file name if needed)\n",
        "data_file_path = '/content/Challenge_7/Advertising.csv'  # Change this to your actual file name\n",
        "try:\n",
        "    data = pd.read_csv(data_file_path)\n",
        "except FileNotFoundError:\n",
        "    print(f\"File not found: {data_file_path}\")\n",
        "    raise\n",
        "\n",
        "# Print the columns to check the structure\n",
        "print(\"\\nColumns in the dataset:\")\n",
        "print(data.columns)\n",
        "\n",
        "# Check if the 'english' and 'french' columns exist\n",
        "if 'english' in data.columns and 'french' in data.columns:\n",
        "    # Extract the 'english' and 'french' sentences\n",
        "    english = data['english']\n",
        "    french = data['french']\n",
        "\n",
        "    # Concatenate the two columns into a new DataFrame with custom column names\n",
        "    df = pd.DataFrame({\n",
        "        'English': english,\n",
        "        'French': french\n",
        "    })\n",
        "\n",
        "    # Pick a sentence and print it in both languages (for example, first sentence)\n",
        "    first_english_sentence = df['English'].iloc[0]  # First English sentence\n",
        "    first_french_sentence = df['French'].iloc[0]  # First French sentence\n",
        "\n",
        "    print(\"\\nFirst sentence in English and French:\")\n",
        "    print(\"English: \", first_english_sentence)\n",
        "    print(\"French: \", first_french_sentence)\n",
        "\n",
        "else:\n",
        "    print(\"Columns 'english' and 'french' not found in the dataset.\")\n"
      ]
    },
    {
      "cell_type": "markdown",
      "source": [
        "##Cleaning Data"
      ],
      "metadata": {
        "id": "FQjXYP1txFCi"
      }
    },
    {
      "cell_type": "markdown",
      "source": [
        "The data that we have is almost clean as we can see, we just need to remove the punctuations inside of it."
      ],
      "metadata": {
        "id": "xgz6jIoVxHUF"
      }
    },
    {
      "cell_type": "code",
      "execution_count": 148,
      "metadata": {
        "id": "6YYOt5QftcFI",
        "colab": {
          "base_uri": "https://localhost:8080/"
        },
        "outputId": "ed5e8ca1-6c88-4a3c-a139-d38e92138f65"
      },
      "outputs": [
        {
          "output_type": "stream",
          "name": "stdout",
          "text": [
            "Columns 'english' and 'french' not found in the dataset.\n"
          ]
        }
      ],
      "source": [
        "import pandas as pd\n",
        "import string\n",
        "\n",
        "# Sample data: Replace with your actual DataFrame\n",
        "data_file_path = '/content/Challenge_7/Advertising.csv'  # Update with the correct file path\n",
        "data = pd.read_csv(data_file_path)\n",
        "\n",
        "# Check if the 'english' and 'french' columns exist\n",
        "if 'english' in data.columns and 'french' in data.columns:\n",
        "    # Extract the 'english' and 'french' sentences\n",
        "    english = data['english']\n",
        "    french = data['french']\n",
        "\n",
        "    # Remove punctuation from the sentences using string.punctuation\n",
        "    english_cleaned = english.str.replace(f\"[{string.punctuation}]\", \"\", regex=True)\n",
        "    french_cleaned = french.str.replace(f\"[{string.punctuation}]\", \"\", regex=True)\n",
        "\n",
        "    # Concatenate the cleaned sentences into a new DataFrame\n",
        "    df_cleaned = pd.DataFrame({\n",
        "        'English': english_cleaned,\n",
        "        'French': french_cleaned\n",
        "    })\n",
        "\n",
        "    # Show the first few cleaned sentences\n",
        "    print(\"\\nFirst few cleaned sentences:\")\n",
        "    print(df_cleaned.head())\n",
        "\n",
        "else:\n",
        "    print(\"Columns 'english' and 'french' not found in the dataset.\")\n"
      ]
    },
    {
      "cell_type": "markdown",
      "source": [
        "Make sure that the punctuation is removed by printing the example that you printed earlier."
      ],
      "metadata": {
        "id": "0C1qsC9LxZPb"
      }
    },
    {
      "cell_type": "code",
      "execution_count": 149,
      "metadata": {
        "id": "T80tiWxe84G7",
        "colab": {
          "base_uri": "https://localhost:8080/"
        },
        "outputId": "e1937380-17be-4927-d902-ae46b36b53e5"
      },
      "outputs": [
        {
          "output_type": "stream",
          "name": "stdout",
          "text": [
            "\n",
            "First few cleaned sentences:\n",
            "              english                   french\n",
            "0   Hello how are you    Bonjour comment ça va\n",
            "1            Whats up         Ça va bien merci\n",
            "2  I love programming  Jadore la programmation\n",
            "3    Hows the weather        Quel temps faitil\n"
          ]
        }
      ],
      "source": [
        "import pandas as pd\n",
        "import string\n",
        "\n",
        "# Sample data: Replace with your actual DataFrame\n",
        "data = {\n",
        "    'english': [\"Hello, how are you?\", \"What's up?\", \"I love programming!\", \"How's the weather?\"],\n",
        "    'french': [\"Bonjour, comment ça va?\", \"Ça va bien, merci!\", \"J'adore la programmation!\", \"Quel temps fait-il?\"]\n",
        "}\n",
        "\n",
        "# Create DataFrame\n",
        "df = pd.DataFrame(data)\n",
        "\n",
        "# Remove punctuation from the sentences using string.punctuation\n",
        "df['english'] = df['english'].str.replace(f\"[{string.punctuation}]\", \"\", regex=True)\n",
        "df['french'] = df['french'].str.replace(f\"[{string.punctuation}]\", \"\", regex=True)\n",
        "\n",
        "# Show the first few cleaned sentences\n",
        "print(\"\\nFirst few cleaned sentences:\")\n",
        "print(df)\n"
      ]
    },
    {
      "cell_type": "markdown",
      "source": [
        "##Exploring the Data"
      ],
      "metadata": {
        "id": "ZuFNjoBAx4oN"
      }
    },
    {
      "cell_type": "markdown",
      "source": [
        "Add a column **ENG Length** to the dataset that shows how many words does a sentence contain, and do the same for french in a column called **FR Length**"
      ],
      "metadata": {
        "id": "ATfefzPExi2k"
      }
    },
    {
      "cell_type": "code",
      "execution_count": 150,
      "metadata": {
        "id": "Dakeo81s352S",
        "colab": {
          "base_uri": "https://localhost:8080/"
        },
        "outputId": "8e60555b-edac-4dbd-87f6-b18984e10e22"
      },
      "outputs": [
        {
          "output_type": "stream",
          "name": "stdout",
          "text": [
            "\n",
            "DataFrame with word lengths:\n",
            "              english                   french  ENG Length  FR Length\n",
            "0   Hello how are you    Bonjour comment ça va           4          4\n",
            "1            Whats up         Ça va bien merci           2          4\n",
            "2  I love programming  Jadore la programmation           3          3\n",
            "3    Hows the weather        Quel temps faitil           3          3\n"
          ]
        }
      ],
      "source": [
        "import pandas as pd\n",
        "\n",
        "# Sample data: Replace with your actual DataFrame\n",
        "data = {\n",
        "    'english': [\"Hello, how are you?\", \"What's up?\", \"I love programming!\", \"How's the weather?\"],\n",
        "    'french': [\"Bonjour, comment ça va?\", \"Ça va bien, merci!\", \"J'adore la programmation!\", \"Quel temps fait-il?\"]\n",
        "}\n",
        "\n",
        "# Create DataFrame\n",
        "df = pd.DataFrame(data)\n",
        "\n",
        "# Remove punctuation from the sentences using string.punctuation\n",
        "import string\n",
        "df['english'] = df['english'].str.replace(f\"[{string.punctuation}]\", \"\", regex=True)\n",
        "df['french'] = df['french'].str.replace(f\"[{string.punctuation}]\", \"\", regex=True)\n",
        "\n",
        "# Add a new column 'ENG Length' for the number of words in the English sentence\n",
        "df['ENG Length'] = df['english'].apply(lambda x: len(x.split()))\n",
        "\n",
        "# Add a new column 'FR Length' for the number of words in the French sentence\n",
        "df['FR Length'] = df['french'].apply(lambda x: len(x.split()))\n",
        "\n",
        "# Show the updated DataFrame with word lengths\n",
        "print(\"\\nDataFrame with word lengths:\")\n",
        "print(df)\n"
      ]
    },
    {
      "cell_type": "code",
      "execution_count": 151,
      "metadata": {
        "id": "49keasjaPaaK",
        "colab": {
          "base_uri": "https://localhost:8080/"
        },
        "outputId": "782f116d-5399-41c4-c776-52571fb9bfea"
      },
      "outputs": [
        {
          "output_type": "stream",
          "name": "stdout",
          "text": [
            "\n",
            "DataFrame with word lengths:\n",
            "              english                   french  ENG Length  FR Length\n",
            "0   Hello how are you    Bonjour comment ça va           4          4\n",
            "1            Whats up         Ça va bien merci           2          4\n",
            "2  I love programming  Jadore la programmation           3          3\n",
            "3    Hows the weather        Quel temps faitil           3          3\n"
          ]
        }
      ],
      "source": [
        "import pandas as pd\n",
        "\n",
        "# Sample data: Replace with your actual DataFrame\n",
        "data = {\n",
        "    'english': [\"Hello, how are you?\", \"What's up?\", \"I love programming!\", \"How's the weather?\"],\n",
        "    'french': [\"Bonjour, comment ça va?\", \"Ça va bien, merci!\", \"J'adore la programmation!\", \"Quel temps fait-il?\"]\n",
        "}\n",
        "\n",
        "# Create DataFrame\n",
        "df = pd.DataFrame(data)\n",
        "\n",
        "# Remove punctuation from the sentences using string.punctuation\n",
        "import string\n",
        "df['english'] = df['english'].str.replace(f\"[{string.punctuation}]\", \"\", regex=True)\n",
        "df['french'] = df['french'].str.replace(f\"[{string.punctuation}]\", \"\", regex=True)\n",
        "\n",
        "# Add a new column 'ENG Length' for the number of words in the English sentence\n",
        "df['ENG Length'] = df['english'].apply(lambda x: len(x.split()))\n",
        "\n",
        "# Add a new column 'FR Length' for the number of words in the French sentence\n",
        "df['FR Length'] = df['french'].apply(lambda x: len(x.split()))\n",
        "\n",
        "# Show the updated DataFrame with word lengths\n",
        "print(\"\\nDataFrame with word lengths:\")\n",
        "print(df)\n"
      ]
    },
    {
      "cell_type": "markdown",
      "source": [
        "Visualize the distribution of the lengths of english sentences and french sentences."
      ],
      "metadata": {
        "id": "AjQLW0K5xwx1"
      }
    },
    {
      "cell_type": "code",
      "execution_count": 152,
      "metadata": {
        "id": "_q_UIMJ09L24",
        "colab": {
          "base_uri": "https://localhost:8080/",
          "height": 569
        },
        "outputId": "35d977c2-872d-4139-a2d5-4cd0ccc36498"
      },
      "outputs": [
        {
          "output_type": "display_data",
          "data": {
            "text/plain": [
              "<Figure size 1000x600 with 1 Axes>"
            ],
            "image/png": "[encoded data removed]"
          },
          "metadata": {}
        }
      ],
      "source": [
        "import matplotlib.pyplot as plt\n",
        "import seaborn as sns\n",
        "\n",
        "# Sample data: Replace with your actual DataFrame\n",
        "data = {\n",
        "    'english': [\"Hello, how are you?\", \"What's up?\", \"I love programming!\", \"How's the weather?\"],\n",
        "    'french': [\"Bonjour, comment ça va?\", \"Ça va bien, merci!\", \"J'adore la programmation!\", \"Quel temps fait-il?\"]\n",
        "}\n",
        "\n",
        "# Create DataFrame\n",
        "df = pd.DataFrame(data)\n",
        "\n",
        "# Remove punctuation from the sentences using string.punctuation\n",
        "import string\n",
        "df['english'] = df['english'].str.replace(f\"[{string.punctuation}]\", \"\", regex=True)\n",
        "df['french'] = df['french'].str.replace(f\"[{string.punctuation}]\", \"\", regex=True)\n",
        "\n",
        "# Add a new column 'ENG Length' for the number of words in the English sentence\n",
        "df['ENG Length'] = df['english'].apply(lambda x: len(x.split()))\n",
        "\n",
        "# Add a new column 'FR Length' for the number of words in the French sentence\n",
        "df['FR Length'] = df['french'].apply(lambda x: len(x.split()))\n",
        "\n",
        "# Visualizing the distribution of sentence lengths\n",
        "plt.figure(figsize=(10, 6))\n",
        "\n",
        "# Plot English sentence lengths\n",
        "sns.histplot(df['ENG Length'], kde=True, color='blue', label='English', bins=5)\n",
        "\n",
        "# Plot French sentence lengths\n",
        "sns.histplot(df['FR Length'], kde=True, color='red', label='French', bins=5)\n",
        "\n",
        "# Add labels and title\n",
        "plt.title('Distribution of Sentence Lengths (English vs. French)', fontsize=14)\n",
        "plt.xlabel('Sentence Length (Word Count)', fontsize=12)\n",
        "plt.ylabel('Frequency', fontsize=12)\n",
        "plt.legend()\n",
        "\n",
        "# Show plot\n",
        "plt.show()\n"
      ]
    },
    {
      "cell_type": "code",
      "source": [
        "import matplotlib.pyplot as plt\n",
        "import seaborn as sns\n",
        "\n",
        "# Sample data: Replace with your actual DataFrame\n",
        "data = {\n",
        "    'english': [\"Hello, how are you?\", \"What's up?\", \"I love programming!\", \"How's the weather?\"],\n",
        "    'french': [\"Bonjour, comment ça va?\", \"Ça va bien, merci!\", \"J'adore la programmation!\", \"Quel temps fait-il?\"]\n",
        "}\n",
        "\n",
        "# Create DataFrame\n",
        "df = pd.DataFrame(data)\n",
        "\n",
        "# Remove punctuation from the sentences using string.punctuation\n",
        "import string\n",
        "df['english'] = df['english'].str.replace(f\"[{string.punctuation}]\", \"\", regex=True)\n",
        "\n",
        "# Add a new column 'ENG Length' for the number of words in the English sentence\n",
        "df['ENG Length'] = df['english'].apply(lambda x: len(x.split()))\n",
        "\n",
        "\n",
        "# Visualizing the distribution of sentence lengths\n",
        "plt.figure(figsize=(10, 6))\n",
        "\n",
        "# Plot English sentence lengths\n",
        "sns.histplot(df['ENG Length'], kde=True, color='blue', label='English', bins=5)\n",
        "\n",
        "\n",
        "# Add labels and title\n",
        "plt.title('Distribution of Sentence Lengths (English vs. French)', fontsize=14)\n",
        "plt.xlabel('Sentence Length (Word Count)', fontsize=12)\n",
        "plt.ylabel('Frequency', fontsize=12)\n",
        "plt.legend()\n",
        "\n",
        "# Show plot\n",
        "plt.show()\n"
      ],
      "metadata": {
        "colab": {
          "base_uri": "https://localhost:8080/",
          "height": 569
        },
        "id": "-nVjE0ZN_yLF",
        "outputId": "11a954fb-cd27-4660-c173-450329349ec1"
      },
      "execution_count": 153,
      "outputs": [
        {
          "output_type": "display_data",
          "data": {
            "text/plain": [
              "<Figure size 1000x600 with 1 Axes>"
            ],
            "image/png": "[encoded data removed]"
          },
          "metadata": {}
        }
      ]
    },
    {
      "cell_type": "code",
      "execution_count": 154,
      "metadata": {
        "id": "TSn4L7kW9R7g",
        "colab": {
          "base_uri": "https://localhost:8080/",
          "height": 569
        },
        "outputId": "897ffab8-52cc-48d2-fefd-dfaabd46ec3b"
      },
      "outputs": [
        {
          "output_type": "display_data",
          "data": {
            "text/plain": [
              "<Figure size 1000x600 with 1 Axes>"
            ],
            "image/png": "[encoded data removed]"
          },
          "metadata": {}
        }
      ],
      "source": [
        "import matplotlib.pyplot as plt\n",
        "import seaborn as sns\n",
        "\n",
        "# Sample data: Replace with your actual DataFrame\n",
        "data = {\n",
        "\n",
        "    'french': [\"Bonjour, comment ça va?\", \"Ça va bien, merci!\", \"J'adore la programmation!\", \"Quel temps fait-il?\"]\n",
        "}\n",
        "\n",
        "# Create DataFrame\n",
        "df = pd.DataFrame(data)\n",
        "\n",
        "# Remove punctuation from the sentences using string.punctuation\n",
        "import string\n",
        "\n",
        "df['french'] = df['french'].str.replace(f\"[{string.punctuation}]\", \"\", regex=True)\n",
        "\n",
        "\n",
        "\n",
        "# Add a new column 'FR Length' for the number of words in the French sentence\n",
        "df['FR Length'] = df['french'].apply(lambda x: len(x.split()))\n",
        "\n",
        "# Visualizing the distribution of sentence lengths\n",
        "plt.figure(figsize=(10, 6))\n",
        "\n",
        "# Plot English sentence lengths\n",
        "\n",
        "\n",
        "# Plot French sentence lengths\n",
        "sns.histplot(df['FR Length'], kde=True, color='red', label='French', bins=5)\n",
        "\n",
        "# Add labels and title\n",
        "plt.title('Distribution of Sentence Lengths (English vs. French)', fontsize=14)\n",
        "plt.xlabel('Sentence Length (Word Count)', fontsize=12)\n",
        "plt.ylabel('Frequency', fontsize=12)\n",
        "plt.legend()\n",
        "\n",
        "# Show plot\n",
        "plt.show()\n"
      ]
    },
    {
      "cell_type": "markdown",
      "source": [
        "Get the maximum length of an english sentence and the maximum length of a french sentence."
      ],
      "metadata": {
        "id": "BDXb2d9ix9DV"
      }
    },
    {
      "cell_type": "code",
      "execution_count": 155,
      "metadata": {
        "id": "BpnBB04U_lHd",
        "colab": {
          "base_uri": "https://localhost:8080/"
        },
        "outputId": "decff28d-06ed-408b-f174-9c3ada2a0ccc"
      },
      "outputs": [
        {
          "output_type": "stream",
          "name": "stdout",
          "text": [
            "Error: Required columns ('ENG Length' and 'FR Length') are missing in the DataFrame.\n"
          ]
        }
      ],
      "source": [
        "# Ensure the DataFrame and required columns exist\n",
        "if 'ENG Length' in df.columns and 'FR Length' in df.columns:\n",
        "    # Get the maximum length of an English sentence\n",
        "    max_english_length = df['ENG Length'].max()\n",
        "\n",
        "    # Get the maximum length of a French sentence\n",
        "    max_french_length = df['FR Length'].max()\n",
        "\n",
        "    # Print the results\n",
        "    print(f\"Maximum length of an English sentence: {max_english_length} words\")\n",
        "    print(f\"Maximum length of a French sentence: {max_french_length} words\")\n",
        "else:\n",
        "    print(\"Error: Required columns ('ENG Length' and 'FR Length') are missing in the DataFrame.\")\n"
      ]
    },
    {
      "cell_type": "markdown",
      "source": [
        "##Preprocessing the Data"
      ],
      "metadata": {
        "id": "s4s-spsRyGJv"
      }
    },
    {
      "cell_type": "markdown",
      "source": [
        "In order for the data to be fed to the model, it has to be tokenized and padded."
      ],
      "metadata": {
        "id": "N0ZmIT2GyJMU"
      }
    },
    {
      "cell_type": "markdown",
      "source": [
        "####Tokenization"
      ],
      "metadata": {
        "id": "R0r9z-eErm9H"
      }
    },
    {
      "cell_type": "markdown",
      "source": [
        "**To tokenize english and french sentences, we can use only one tokenizer. True or False?**"
      ],
      "metadata": {
        "id": "X5L_zkhfyQuX"
      }
    },
    {
      "cell_type": "markdown",
      "source": [
        "False.\n",
        "\n",
        "While English and French share some similarities as languages, they have distinct vocabulary, syntax, and structure. Therefore, it is generally recommended to use separate tokenizers for each language when processing data for machine learning models, especially if the sentences are long or contain language-specific characters. Each language may require different tokenization strategies, and using a tokenizer specific to each language ensures that the sentences are appropriately broken down into tokens. **bold text** **bold text**"
      ],
      "metadata": {
        "id": "1Z0ZcNOeyauD"
      }
    },
    {
      "cell_type": "markdown",
      "source": [
        "Tokenize the sentences that we have."
      ],
      "metadata": {
        "id": "814mKDFiymcY"
      }
    },
    {
      "cell_type": "code",
      "execution_count": 156,
      "metadata": {
        "id": "aiXlciqFuQzW",
        "colab": {
          "base_uri": "https://localhost:8080/"
        },
        "outputId": "4787b552-23e5-4e04-8467-cc9e8e2c07e6"
      },
      "outputs": [
        {
          "output_type": "stream",
          "name": "stdout",
          "text": [
            "Columns in the dataset:\n",
            "Index(['Unnamed: 0', 'TV', 'Radio', 'Newspaper', 'Sales'], dtype='object')\n",
            "Columns 'english' and 'french' not found in the dataset.\n"
          ]
        }
      ],
      "source": [
        "import pandas as pd\n",
        "from tensorflow.keras.preprocessing.text import Tokenizer\n",
        "from tensorflow.keras.preprocessing.sequence import pad_sequences\n",
        "\n",
        "\n",
        "data_file_path = '/content/Challenge_7/Advertising.csv'\n",
        "data = pd.read_csv(data_file_path)\n",
        "\n",
        "# Check the columns of the DataFrame to confirm the column names\n",
        "print(\"Columns in the dataset:\")\n",
        "print(data.columns)\n",
        "\n",
        "# Check if the 'english' and 'french' columns exist\n",
        "if 'english' in data.columns and 'french' in data.columns:\n",
        "    # Rename columns for easier access\n",
        "    df = data.rename(columns={'english': 'English', 'french': 'French'})\n",
        "\n",
        "    # Show the first few rows to verify\n",
        "    print(\"\\nFirst few rows of the dataset:\")\n",
        "    print(df.head())\n",
        "\n",
        "    # Add columns for sentence lengths (word count)\n",
        "    df['ENG Length'] = df['English'].apply(lambda x: len(str(x).split()))  # Ensure it's string\n",
        "    df['FR Length'] = df['French'].apply(lambda x: len(str(x).split()))  # Ensure it's string\n",
        "\n",
        "    # Print first few rows to check sentence lengths\n",
        "    print(\"\\nSentence lengths added to the dataset:\")\n",
        "    print(df[['English', 'ENG Length', 'French', 'FR Length']].head())\n",
        "\n",
        "    # Initialize the tokenizer for English and French\n",
        "    english_tokenizer = Tokenizer()\n",
        "    french_tokenizer = Tokenizer()\n",
        "\n",
        "    # Fit the tokenizers on the respective sentences\n",
        "    english_tokenizer.fit_on_texts(df['English'])\n",
        "    french_tokenizer.fit_on_texts(df['French'])\n",
        "\n",
        "    # Tokenize the sentences\n",
        "    english_sequences = english_tokenizer.texts_to_sequences(df['English'])\n",
        "    french_sequences = french_tokenizer.texts_to_sequences(df['French'])\n",
        "\n",
        "    # Get the maximum sentence length (to pad sequences uniformly)\n",
        "    max_len = max(df['ENG Length'].max(), df['FR Length'].max())\n",
        "\n",
        "    # Pad the sequences to ensure uniform length\n",
        "    english_padded = pad_sequences(english_sequences, maxlen=max_len, padding='post')\n",
        "    french_padded = pad_sequences(french_sequences, maxlen=max_len, padding='post')\n",
        "\n",
        "    # Add the tokenized and padded data to the dataframe (as examples)\n",
        "    df['English Tokenized'] = english_padded.tolist()\n",
        "    df['French Tokenized'] = french_padded.tolist()\n",
        "\n",
        "    # Print the first few rows to see the result\n",
        "    print(\"\\nDataset with tokenized and padded sentences:\")\n",
        "    print(df[['English', 'French', 'English Tokenized', 'French Tokenized']].head())\n",
        "\n",
        "else:\n",
        "    print(\"Columns 'english' and 'french' not found in the dataset.\")\n"
      ]
    },
    {
      "cell_type": "markdown",
      "source": [
        "**How many unique words do we have in english and in french?**"
      ],
      "metadata": {
        "id": "aUN01jDXys9B"
      }
    },
    {
      "cell_type": "code",
      "execution_count": 157,
      "metadata": {
        "id": "1WahkdzKvIlO",
        "colab": {
          "base_uri": "https://localhost:8080/"
        },
        "outputId": "1c1bb753-3210-4f1f-a1a0-8e42d9090930"
      },
      "outputs": [
        {
          "output_type": "stream",
          "name": "stdout",
          "text": [
            "Columns in DataFrame: Index(['french', 'FR Length'], dtype='object')\n",
            "Error: Required columns ('English' and 'French') are missing in the DataFrame.\n"
          ]
        }
      ],
      "source": [
        "# Check and print the column names\n",
        "print(\"Columns in DataFrame:\", df.columns)\n",
        "\n",
        "# Replace 'English' and 'French' with the actual column names\n",
        "english_col = 'English'  # Update if the column name is different\n",
        "french_col = 'French'    # Update if the column name is different\n",
        "\n",
        "# Ensure the necessary columns exist\n",
        "if english_col in df.columns and french_col in df.columns:\n",
        "    # Combine all English words into a single set of unique words\n",
        "    unique_english_words = set(word for sentence in df[english_col] for word in sentence.split())\n",
        "    num_unique_english_words = len(unique_english_words)\n",
        "\n",
        "    # Combine all French words into a single set of unique words\n",
        "    unique_french_words = set(word for sentence in df[french_col] for word in sentence.split())\n",
        "    num_unique_french_words = len(unique_french_words)\n",
        "\n",
        "    # Print the results\n",
        "    print(f\"Number of unique English words: {num_unique_english_words}\")\n",
        "    print(f\"Number of unique French words: {num_unique_french_words}\")\n",
        "else:\n",
        "    print(f\"Error: Required columns ('{english_col}' and '{french_col}') are missing in the DataFrame.\")\n",
        "\n"
      ]
    },
    {
      "cell_type": "markdown",
      "source": [
        "####Padding"
      ],
      "metadata": {
        "id": "g0C2RJjArtJd"
      }
    },
    {
      "cell_type": "markdown",
      "source": [
        "**What should be the length of the sequences that we have after padding?**"
      ],
      "metadata": {
        "id": "vXdTXMo5y8oB"
      }
    },
    {
      "cell_type": "markdown",
      "source": [
        "**The length of the padded sequences should be equal to the maximum sentence length between the English and French sentences.**"
      ],
      "metadata": {
        "id": "9wtHQsgXzImq"
      }
    },
    {
      "cell_type": "markdown",
      "source": [
        "Perform padding on the sequences that we have."
      ],
      "metadata": {
        "id": "hRXayRzVzQD4"
      }
    },
    {
      "cell_type": "code",
      "execution_count": 158,
      "metadata": {
        "id": "oNdO9EZrxvmN",
        "colab": {
          "base_uri": "https://localhost:8080/"
        },
        "outputId": "92d39633-87c9-41c9-d42a-8b3546b0d6a7"
      },
      "outputs": [
        {
          "output_type": "stream",
          "name": "stdout",
          "text": [
            "Columns in the dataset:\n",
            "Index(['french', 'FR Length'], dtype='object')\n",
            "Columns 'english' and 'french' not found in the dataset.\n"
          ]
        }
      ],
      "source": [
        "import pandas as pd\n",
        "from tensorflow.keras.preprocessing.text import Tokenizer\n",
        "from tensorflow.keras.preprocessing.sequence import pad_sequences\n",
        "\n",
        "# Check the columns of the DataFrame to confirm the column names\n",
        "print(\"Columns in the dataset:\")\n",
        "print(df.columns)\n",
        "\n",
        "# Ensure correct column names ('english' and 'french')\n",
        "if 'english' in df.columns and 'french' in df.columns:\n",
        "    # Rename columns for easier access (if necessary)\n",
        "    df = df.rename(columns={'english': 'English', 'french': 'French'})\n",
        "\n",
        "    # Recalculate the lengths of the sentences\n",
        "    df['ENG Length'] = df['English'].apply(lambda x: len(x.split()))\n",
        "    df['FR Length'] = df['French'].apply(lambda x: len(x.split()))\n",
        "\n",
        "    # Initialize tokenizers\n",
        "    english_tokenizer = Tokenizer()\n",
        "    french_tokenizer = Tokenizer()\n",
        "\n",
        "    # Fit tokenizers on the respective text columns\n",
        "    english_tokenizer.fit_on_texts(df['English'])\n",
        "    french_tokenizer.fit_on_texts(df['French'])\n",
        "\n",
        "    # Tokenize the sentences\n",
        "    english_sequences = english_tokenizer.texts_to_sequences(df['English'])\n",
        "    french_sequences = french_tokenizer.texts_to_sequences(df['French'])\n",
        "\n",
        "    # Get the maximum sentence length for padding\n",
        "    max_len = max(df['ENG Length'].max(), df['FR Length'].max())\n",
        "\n",
        "    # Pad the sequences to ensure uniform length\n",
        "    english_padded = pad_sequences(english_sequences, maxlen=max_len, padding='post')\n",
        "    french_padded = pad_sequences(french_sequences, maxlen=max_len, padding='post')\n",
        "\n",
        "    # Add the padded sequences to the dataframe\n",
        "    df['English Padded'] = english_padded.tolist()\n",
        "    df['French Padded'] = french_padded.tolist()\n",
        "\n",
        "    # Print the first few rows to verify\n",
        "    print(df[['English', 'French', 'English Padded', 'French Padded']].head())\n",
        "else:\n",
        "    print(\"Columns 'english' and 'french' not found in the dataset.\")\n",
        "\n",
        "\n"
      ]
    },
    {
      "cell_type": "markdown",
      "source": [
        "##Modeling"
      ],
      "metadata": {
        "id": "JxvvVU3ezUHR"
      }
    },
    {
      "cell_type": "markdown",
      "source": [
        "After preprrocessing the data, we can build our model. Start by building a baseline architecture relying on one directional RNNs, LSTMs, or GRUs. It will be good to lookup how to build Seq2Seq models, there are some new layers that will help you like RepeatVector and TimeDistributed."
      ],
      "metadata": {
        "id": "FEKujJUEzVux"
      }
    },
    {
      "cell_type": "code",
      "execution_count": 159,
      "metadata": {
        "id": "9oydzHkr3zDC",
        "colab": {
          "base_uri": "https://localhost:8080/",
          "height": 737
        },
        "outputId": "7f164f9b-69bf-4e3c-99e2-0f90d6da7153"
      },
      "outputs": [
        {
          "output_type": "stream",
          "name": "stderr",
          "text": [
            "/usr/local/lib/python3.11/dist-packages/keras/src/layers/core/embedding.py:90: UserWarning: Argument `input_length` is deprecated. Just remove it.\n",
            "  warnings.warn(\n"
          ]
        },
        {
          "output_type": "display_data",
          "data": {
            "text/plain": [
              "\u001b[1mModel: \"sequential_45\"\u001b[0m\n"
            ],
            "text/html": [
              "<pre style=\"white-space:pre;overflow-x:auto;line-height:normal;font-family:Menlo,'DejaVu Sans Mono',consolas,'Courier New',monospace\"><span style=\"font-weight: bold\">Model: \"sequential_45\"</span>\n",
              "</pre>\n"
            ]
          },
          "metadata": {}
        },
        {
          "output_type": "display_data",
          "data": {
            "text/plain": [
              "┏━━━━━━━━━━━━━━━━━━━━━━━━━━━━━━━━━━━━━━┳━━━━━━━━━━━━━━━━━━━━━━━━━━━━━┳━━━━━━━━━━━━━━━━━┓\n",
              "┃\u001b[1m \u001b[0m\u001b[1mLayer (type)                        \u001b[0m\u001b[1m \u001b[0m┃\u001b[1m \u001b[0m\u001b[1mOutput Shape               \u001b[0m\u001b[1m \u001b[0m┃\u001b[1m \u001b[0m\u001b[1m        Param #\u001b[0m\u001b[1m \u001b[0m┃\n",
              "┡━━━━━━━━━━━━━━━━━━━━━━━━━━━━━━━━━━━━━━╇━━━━━━━━━━━━━━━━━━━━━━━━━━━━━╇━━━━━━━━━━━━━━━━━┩\n",
              "│ embedding_45 (\u001b[38;5;33mEmbedding\u001b[0m)             │ ?                           │     \u001b[38;5;34m0\u001b[0m (unbuilt) │\n",
              "├──────────────────────────────────────┼─────────────────────────────┼─────────────────┤\n",
              "│ lstm_85 (\u001b[38;5;33mLSTM\u001b[0m)                       │ ?                           │     \u001b[38;5;34m0\u001b[0m (unbuilt) │\n",
              "├──────────────────────────────────────┼─────────────────────────────┼─────────────────┤\n",
              "│ repeat_vector_15 (\u001b[38;5;33mRepeatVector\u001b[0m)      │ ?                           │     \u001b[38;5;34m0\u001b[0m (unbuilt) │\n",
              "├──────────────────────────────────────┼─────────────────────────────┼─────────────────┤\n",
              "│ lstm_86 (\u001b[38;5;33mLSTM\u001b[0m)                       │ ?                           │     \u001b[38;5;34m0\u001b[0m (unbuilt) │\n",
              "├──────────────────────────────────────┼─────────────────────────────┼─────────────────┤\n",
              "│ time_distributed_45                  │ ?                           │     \u001b[38;5;34m0\u001b[0m (unbuilt) │\n",
              "│ (\u001b[38;5;33mTimeDistributed\u001b[0m)                    │                             │                 │\n",
              "└──────────────────────────────────────┴─────────────────────────────┴─────────────────┘\n"
            ],
            "text/html": [
              "<pre style=\"white-space:pre;overflow-x:auto;line-height:normal;font-family:Menlo,'DejaVu Sans Mono',consolas,'Courier New',monospace\">┏━━━━━━━━━━━━━━━━━━━━━━━━━━━━━━━━━━━━━━┳━━━━━━━━━━━━━━━━━━━━━━━━━━━━━┳━━━━━━━━━━━━━━━━━┓\n",
              "┃<span style=\"font-weight: bold\"> Layer (type)                         </span>┃<span style=\"font-weight: bold\"> Output Shape                </span>┃<span style=\"font-weight: bold\">         Param # </span>┃\n",
              "┡━━━━━━━━━━━━━━━━━━━━━━━━━━━━━━━━━━━━━━╇━━━━━━━━━━━━━━━━━━━━━━━━━━━━━╇━━━━━━━━━━━━━━━━━┩\n",
              "│ embedding_45 (<span style=\"color: #0087ff; text-decoration-color: #0087ff\">Embedding</span>)             │ ?                           │     <span style=\"color: #00af00; text-decoration-color: #00af00\">0</span> (unbuilt) │\n",
              "├──────────────────────────────────────┼─────────────────────────────┼─────────────────┤\n",
              "│ lstm_85 (<span style=\"color: #0087ff; text-decoration-color: #0087ff\">LSTM</span>)                       │ ?                           │     <span style=\"color: #00af00; text-decoration-color: #00af00\">0</span> (unbuilt) │\n",
              "├──────────────────────────────────────┼─────────────────────────────┼─────────────────┤\n",
              "│ repeat_vector_15 (<span style=\"color: #0087ff; text-decoration-color: #0087ff\">RepeatVector</span>)      │ ?                           │     <span style=\"color: #00af00; text-decoration-color: #00af00\">0</span> (unbuilt) │\n",
              "├──────────────────────────────────────┼─────────────────────────────┼─────────────────┤\n",
              "│ lstm_86 (<span style=\"color: #0087ff; text-decoration-color: #0087ff\">LSTM</span>)                       │ ?                           │     <span style=\"color: #00af00; text-decoration-color: #00af00\">0</span> (unbuilt) │\n",
              "├──────────────────────────────────────┼─────────────────────────────┼─────────────────┤\n",
              "│ time_distributed_45                  │ ?                           │     <span style=\"color: #00af00; text-decoration-color: #00af00\">0</span> (unbuilt) │\n",
              "│ (<span style=\"color: #0087ff; text-decoration-color: #0087ff\">TimeDistributed</span>)                    │                             │                 │\n",
              "└──────────────────────────────────────┴─────────────────────────────┴─────────────────┘\n",
              "</pre>\n"
            ]
          },
          "metadata": {}
        },
        {
          "output_type": "display_data",
          "data": {
            "text/plain": [
              "\u001b[1m Total params: \u001b[0m\u001b[38;5;34m0\u001b[0m (0.00 B)\n"
            ],
            "text/html": [
              "<pre style=\"white-space:pre;overflow-x:auto;line-height:normal;font-family:Menlo,'DejaVu Sans Mono',consolas,'Courier New',monospace\"><span style=\"font-weight: bold\"> Total params: </span><span style=\"color: #00af00; text-decoration-color: #00af00\">0</span> (0.00 B)\n",
              "</pre>\n"
            ]
          },
          "metadata": {}
        },
        {
          "output_type": "display_data",
          "data": {
            "text/plain": [
              "\u001b[1m Trainable params: \u001b[0m\u001b[38;5;34m0\u001b[0m (0.00 B)\n"
            ],
            "text/html": [
              "<pre style=\"white-space:pre;overflow-x:auto;line-height:normal;font-family:Menlo,'DejaVu Sans Mono',consolas,'Courier New',monospace\"><span style=\"font-weight: bold\"> Trainable params: </span><span style=\"color: #00af00; text-decoration-color: #00af00\">0</span> (0.00 B)\n",
              "</pre>\n"
            ]
          },
          "metadata": {}
        },
        {
          "output_type": "display_data",
          "data": {
            "text/plain": [
              "\u001b[1m Non-trainable params: \u001b[0m\u001b[38;5;34m0\u001b[0m (0.00 B)\n"
            ],
            "text/html": [
              "<pre style=\"white-space:pre;overflow-x:auto;line-height:normal;font-family:Menlo,'DejaVu Sans Mono',consolas,'Courier New',monospace\"><span style=\"font-weight: bold\"> Non-trainable params: </span><span style=\"color: #00af00; text-decoration-color: #00af00\">0</span> (0.00 B)\n",
              "</pre>\n"
            ]
          },
          "metadata": {}
        },
        {
          "output_type": "stream",
          "name": "stdout",
          "text": [
            "Epoch 1/10\n",
            "\u001b[1m1/1\u001b[0m \u001b[32m━━━━━━━━━━━━━━━━━━━━\u001b[0m\u001b[37m\u001b[0m \u001b[1m5s\u001b[0m 5s/step - accuracy: 0.0000e+00 - loss: 2.3030 - val_accuracy: 0.0000e+00 - val_loss: 2.3068\n",
            "Epoch 2/10\n",
            "\u001b[1m1/1\u001b[0m \u001b[32m━━━━━━━━━━━━━━━━━━━━\u001b[0m\u001b[37m\u001b[0m \u001b[1m1s\u001b[0m 660ms/step - accuracy: 0.3750 - loss: 2.2919 - val_accuracy: 0.0000e+00 - val_loss: 2.3107\n",
            "Epoch 3/10\n",
            "\u001b[1m1/1\u001b[0m \u001b[32m━━━━━━━━━━━━━━━━━━━━\u001b[0m\u001b[37m\u001b[0m \u001b[1m0s\u001b[0m 134ms/step - accuracy: 0.3750 - loss: 2.2797 - val_accuracy: 0.0000e+00 - val_loss: 2.3150\n",
            "Epoch 4/10\n",
            "\u001b[1m1/1\u001b[0m \u001b[32m━━━━━━━━━━━━━━━━━━━━\u001b[0m\u001b[37m\u001b[0m \u001b[1m0s\u001b[0m 147ms/step - accuracy: 0.3750 - loss: 2.2647 - val_accuracy: 0.0000e+00 - val_loss: 2.3203\n",
            "Epoch 5/10\n",
            "\u001b[1m1/1\u001b[0m \u001b[32m━━━━━━━━━━━━━━━━━━━━\u001b[0m\u001b[37m\u001b[0m \u001b[1m0s\u001b[0m 82ms/step - accuracy: 0.3750 - loss: 2.2453 - val_accuracy: 0.0000e+00 - val_loss: 2.3268\n",
            "Epoch 6/10\n",
            "\u001b[1m1/1\u001b[0m \u001b[32m━━━━━━━━━━━━━━━━━━━━\u001b[0m\u001b[37m\u001b[0m \u001b[1m0s\u001b[0m 150ms/step - accuracy: 0.3750 - loss: 2.2195 - val_accuracy: 0.0000e+00 - val_loss: 2.3351\n",
            "Epoch 7/10\n",
            "\u001b[1m1/1\u001b[0m \u001b[32m━━━━━━━━━━━━━━━━━━━━\u001b[0m\u001b[37m\u001b[0m \u001b[1m0s\u001b[0m 84ms/step - accuracy: 0.3750 - loss: 2.1853 - val_accuracy: 0.0000e+00 - val_loss: 2.3456\n",
            "Epoch 8/10\n",
            "\u001b[1m1/1\u001b[0m \u001b[32m━━━━━━━━━━━━━━━━━━━━\u001b[0m\u001b[37m\u001b[0m \u001b[1m0s\u001b[0m 104ms/step - accuracy: 0.3750 - loss: 2.1400 - val_accuracy: 0.0000e+00 - val_loss: 2.3593\n",
            "Epoch 9/10\n",
            "\u001b[1m1/1\u001b[0m \u001b[32m━━━━━━━━━━━━━━━━━━━━\u001b[0m\u001b[37m\u001b[0m \u001b[1m0s\u001b[0m 118ms/step - accuracy: 0.3750 - loss: 2.0804 - val_accuracy: 0.0000e+00 - val_loss: 2.3774\n",
            "Epoch 10/10\n",
            "\u001b[1m1/1\u001b[0m \u001b[32m━━━━━━━━━━━━━━━━━━━━\u001b[0m\u001b[37m\u001b[0m \u001b[1m0s\u001b[0m 141ms/step - accuracy: 0.3750 - loss: 2.0032 - val_accuracy: 0.0000e+00 - val_loss: 2.4018\n"
          ]
        },
        {
          "output_type": "execute_result",
          "data": {
            "text/plain": [
              "<keras.src.callbacks.history.History at 0x7d1526e04150>"
            ]
          },
          "metadata": {},
          "execution_count": 159
        }
      ],
      "source": [
        "import pandas as pd\n",
        "import numpy as np\n",
        "from tensorflow.keras.models import Sequential\n",
        "from tensorflow.keras.layers import Embedding, LSTM, GRU, Dense, RepeatVector, TimeDistributed\n",
        "from tensorflow.keras.optimizers import Adam\n",
        "from tensorflow.keras.preprocessing.text import Tokenizer\n",
        "from tensorflow.keras.preprocessing.sequence import pad_sequences\n",
        "\n",
        "# Example DataFrame (Replace this with your actual data)\n",
        "data = {\n",
        "    'English': ['I love programming', 'This is a test', 'Deep learning is fascinating'],\n",
        "    'French': ['J\\'aime programmer', 'Ceci est un test', 'L\\'apprentissage profond est fascinant']\n",
        "}\n",
        "df = pd.DataFrame(data)\n",
        "\n",
        "# Step 1: Ensure 'ENG Length' and 'FR Length' Columns\n",
        "if 'English' in df.columns and 'French' in df.columns:\n",
        "    df['ENG Length'] = df['English'].apply(lambda x: len(x.split()))  # Length of English sentences\n",
        "    df['FR Length'] = df['French'].apply(lambda x: len(x.split()))  # Length of French sentences\n",
        "else:\n",
        "    raise KeyError(\"Required columns 'English' and 'French' are missing in the DataFrame.\")\n",
        "\n",
        "# Step 2: Tokenization and Padding\n",
        "english_tokenizer = Tokenizer()\n",
        "french_tokenizer = Tokenizer()\n",
        "\n",
        "# Fit tokenizers\n",
        "english_tokenizer.fit_on_texts(df['English'])\n",
        "french_tokenizer.fit_on_texts(df['French'])\n",
        "\n",
        "# Convert sentences to sequences\n",
        "english_sequences = english_tokenizer.texts_to_sequences(df['English'])\n",
        "french_sequences = french_tokenizer.texts_to_sequences(df['French'])\n",
        "\n",
        "# Pad sequences to the maximum length\n",
        "max_english_length = df['ENG Length'].max()\n",
        "max_french_length = df['FR Length'].max()\n",
        "\n",
        "X = pad_sequences(english_sequences, maxlen=max_english_length, padding='post')\n",
        "y = pad_sequences(french_sequences, maxlen=max_french_length, padding='post')\n",
        "\n",
        "# Step 3: Model Parameters\n",
        "embedding_dim = 100\n",
        "latent_dim = 256\n",
        "vocab_size_eng = len(english_tokenizer.word_index) + 1  # Vocabulary size for English\n",
        "vocab_size_fr = len(french_tokenizer.word_index) + 1  # Vocabulary size for French\n",
        "\n",
        "# Step 4: Model Definition\n",
        "model = Sequential()\n",
        "\n",
        "# Encoder\n",
        "model.add(Embedding(input_dim=vocab_size_eng, output_dim=embedding_dim, input_length=max_english_length))\n",
        "model.add(LSTM(latent_dim, return_sequences=False))  # Encoder LSTM\n",
        "\n",
        "# RepeatVector for Decoder\n",
        "model.add(RepeatVector(max_french_length))  # Prepare context vector for decoder\n",
        "\n",
        "# Decoder\n",
        "model.add(LSTM(latent_dim, return_sequences=True))  # Decoder LSTM\n",
        "model.add(TimeDistributed(Dense(vocab_size_fr, activation='softmax')))  # Output layer\n",
        "\n",
        "# Compile the Model\n",
        "model.compile(optimizer=Adam(), loss='sparse_categorical_crossentropy', metrics=['accuracy'])\n",
        "\n",
        "# Display Model Summary\n",
        "model.summary()\n",
        "\n",
        "# Step 5: Prepare Target for Training\n",
        "y = np.expand_dims(y, axis=-1)  # Add an extra dimension for sparse_categorical_crossentropy\n",
        "\n",
        "# Step 6: Train the Model\n",
        "model.fit(X, y, epochs=10, batch_size=2, validation_split=0.2)\n",
        "\n",
        "\n"
      ]
    },
    {
      "cell_type": "markdown",
      "source": [
        "Compile and train the model.\n",
        "**FYI:** While specifying the architecture of your model and the number of epochs for training, keeep in your mind that your model might take A LOT of time to train."
      ],
      "metadata": {
        "id": "aP10HtNBzpT0"
      }
    },
    {
      "cell_type": "code",
      "execution_count": 131,
      "metadata": {
        "id": "lWw4nBNIFp9D",
        "colab": {
          "base_uri": "https://localhost:8080/",
          "height": 700
        },
        "outputId": "0e8970b4-c524-4722-b39e-2752127523f7"
      },
      "outputs": [
        {
          "output_type": "display_data",
          "data": {
            "text/plain": [
              "\u001b[1mModel: \"sequential_42\"\u001b[0m\n"
            ],
            "text/html": [
              "<pre style=\"white-space:pre;overflow-x:auto;line-height:normal;font-family:Menlo,'DejaVu Sans Mono',consolas,'Courier New',monospace\"><span style=\"font-weight: bold\">Model: \"sequential_42\"</span>\n",
              "</pre>\n"
            ]
          },
          "metadata": {}
        },
        {
          "output_type": "display_data",
          "data": {
            "text/plain": [
              "┏━━━━━━━━━━━━━━━━━━━━━━━━━━━━━━━━━━━━━━┳━━━━━━━━━━━━━━━━━━━━━━━━━━━━━┳━━━━━━━━━━━━━━━━━┓\n",
              "┃\u001b[1m \u001b[0m\u001b[1mLayer (type)                        \u001b[0m\u001b[1m \u001b[0m┃\u001b[1m \u001b[0m\u001b[1mOutput Shape               \u001b[0m\u001b[1m \u001b[0m┃\u001b[1m \u001b[0m\u001b[1m        Param #\u001b[0m\u001b[1m \u001b[0m┃\n",
              "┡━━━━━━━━━━━━━━━━━━━━━━━━━━━━━━━━━━━━━━╇━━━━━━━━━━━━━━━━━━━━━━━━━━━━━╇━━━━━━━━━━━━━━━━━┩\n",
              "│ embedding_42 (\u001b[38;5;33mEmbedding\u001b[0m)             │ ?                           │     \u001b[38;5;34m0\u001b[0m (unbuilt) │\n",
              "├──────────────────────────────────────┼─────────────────────────────┼─────────────────┤\n",
              "│ lstm_80 (\u001b[38;5;33mLSTM\u001b[0m)                       │ ?                           │     \u001b[38;5;34m0\u001b[0m (unbuilt) │\n",
              "├──────────────────────────────────────┼─────────────────────────────┼─────────────────┤\n",
              "│ repeat_vector_14 (\u001b[38;5;33mRepeatVector\u001b[0m)      │ ?                           │     \u001b[38;5;34m0\u001b[0m (unbuilt) │\n",
              "├──────────────────────────────────────┼─────────────────────────────┼─────────────────┤\n",
              "│ lstm_81 (\u001b[38;5;33mLSTM\u001b[0m)                       │ ?                           │     \u001b[38;5;34m0\u001b[0m (unbuilt) │\n",
              "├──────────────────────────────────────┼─────────────────────────────┼─────────────────┤\n",
              "│ time_distributed_42                  │ ?                           │     \u001b[38;5;34m0\u001b[0m (unbuilt) │\n",
              "│ (\u001b[38;5;33mTimeDistributed\u001b[0m)                    │                             │                 │\n",
              "└──────────────────────────────────────┴─────────────────────────────┴─────────────────┘\n"
            ],
            "text/html": [
              "<pre style=\"white-space:pre;overflow-x:auto;line-height:normal;font-family:Menlo,'DejaVu Sans Mono',consolas,'Courier New',monospace\">┏━━━━━━━━━━━━━━━━━━━━━━━━━━━━━━━━━━━━━━┳━━━━━━━━━━━━━━━━━━━━━━━━━━━━━┳━━━━━━━━━━━━━━━━━┓\n",
              "┃<span style=\"font-weight: bold\"> Layer (type)                         </span>┃<span style=\"font-weight: bold\"> Output Shape                </span>┃<span style=\"font-weight: bold\">         Param # </span>┃\n",
              "┡━━━━━━━━━━━━━━━━━━━━━━━━━━━━━━━━━━━━━━╇━━━━━━━━━━━━━━━━━━━━━━━━━━━━━╇━━━━━━━━━━━━━━━━━┩\n",
              "│ embedding_42 (<span style=\"color: #0087ff; text-decoration-color: #0087ff\">Embedding</span>)             │ ?                           │     <span style=\"color: #00af00; text-decoration-color: #00af00\">0</span> (unbuilt) │\n",
              "├──────────────────────────────────────┼─────────────────────────────┼─────────────────┤\n",
              "│ lstm_80 (<span style=\"color: #0087ff; text-decoration-color: #0087ff\">LSTM</span>)                       │ ?                           │     <span style=\"color: #00af00; text-decoration-color: #00af00\">0</span> (unbuilt) │\n",
              "├──────────────────────────────────────┼─────────────────────────────┼─────────────────┤\n",
              "│ repeat_vector_14 (<span style=\"color: #0087ff; text-decoration-color: #0087ff\">RepeatVector</span>)      │ ?                           │     <span style=\"color: #00af00; text-decoration-color: #00af00\">0</span> (unbuilt) │\n",
              "├──────────────────────────────────────┼─────────────────────────────┼─────────────────┤\n",
              "│ lstm_81 (<span style=\"color: #0087ff; text-decoration-color: #0087ff\">LSTM</span>)                       │ ?                           │     <span style=\"color: #00af00; text-decoration-color: #00af00\">0</span> (unbuilt) │\n",
              "├──────────────────────────────────────┼─────────────────────────────┼─────────────────┤\n",
              "│ time_distributed_42                  │ ?                           │     <span style=\"color: #00af00; text-decoration-color: #00af00\">0</span> (unbuilt) │\n",
              "│ (<span style=\"color: #0087ff; text-decoration-color: #0087ff\">TimeDistributed</span>)                    │                             │                 │\n",
              "└──────────────────────────────────────┴─────────────────────────────┴─────────────────┘\n",
              "</pre>\n"
            ]
          },
          "metadata": {}
        },
        {
          "output_type": "display_data",
          "data": {
            "text/plain": [
              "\u001b[1m Total params: \u001b[0m\u001b[38;5;34m0\u001b[0m (0.00 B)\n"
            ],
            "text/html": [
              "<pre style=\"white-space:pre;overflow-x:auto;line-height:normal;font-family:Menlo,'DejaVu Sans Mono',consolas,'Courier New',monospace\"><span style=\"font-weight: bold\"> Total params: </span><span style=\"color: #00af00; text-decoration-color: #00af00\">0</span> (0.00 B)\n",
              "</pre>\n"
            ]
          },
          "metadata": {}
        },
        {
          "output_type": "display_data",
          "data": {
            "text/plain": [
              "\u001b[1m Trainable params: \u001b[0m\u001b[38;5;34m0\u001b[0m (0.00 B)\n"
            ],
            "text/html": [
              "<pre style=\"white-space:pre;overflow-x:auto;line-height:normal;font-family:Menlo,'DejaVu Sans Mono',consolas,'Courier New',monospace\"><span style=\"font-weight: bold\"> Trainable params: </span><span style=\"color: #00af00; text-decoration-color: #00af00\">0</span> (0.00 B)\n",
              "</pre>\n"
            ]
          },
          "metadata": {}
        },
        {
          "output_type": "display_data",
          "data": {
            "text/plain": [
              "\u001b[1m Non-trainable params: \u001b[0m\u001b[38;5;34m0\u001b[0m (0.00 B)\n"
            ],
            "text/html": [
              "<pre style=\"white-space:pre;overflow-x:auto;line-height:normal;font-family:Menlo,'DejaVu Sans Mono',consolas,'Courier New',monospace\"><span style=\"font-weight: bold\"> Non-trainable params: </span><span style=\"color: #00af00; text-decoration-color: #00af00\">0</span> (0.00 B)\n",
              "</pre>\n"
            ]
          },
          "metadata": {}
        },
        {
          "output_type": "stream",
          "name": "stdout",
          "text": [
            "X_train shape: (4, 3)\n",
            "y_train shape: (4, 4)\n",
            "Epoch 1/10\n",
            "\u001b[1m1/1\u001b[0m \u001b[32m━━━━━━━━━━━━━━━━━━━━\u001b[0m\u001b[37m\u001b[0m \u001b[1m7s\u001b[0m 7s/step - accuracy: 0.0000e+00 - loss: 2.3026 - val_accuracy: 0.5000 - val_loss: 2.2954\n",
            "Epoch 2/10\n",
            "\u001b[1m1/1\u001b[0m \u001b[32m━━━━━━━━━━━━━━━━━━━━\u001b[0m\u001b[37m\u001b[0m \u001b[1m1s\u001b[0m 637ms/step - accuracy: 0.5000 - loss: 2.2877 - val_accuracy: 0.5000 - val_loss: 2.2872\n",
            "Epoch 3/10\n",
            "\u001b[1m1/1\u001b[0m \u001b[32m━━━━━━━━━━━━━━━━━━━━\u001b[0m\u001b[37m\u001b[0m \u001b[1m0s\u001b[0m 132ms/step - accuracy: 0.5000 - loss: 2.2704 - val_accuracy: 0.5000 - val_loss: 2.2769\n",
            "Epoch 4/10\n",
            "\u001b[1m1/1\u001b[0m \u001b[32m━━━━━━━━━━━━━━━━━━━━\u001b[0m\u001b[37m\u001b[0m \u001b[1m0s\u001b[0m 86ms/step - accuracy: 0.5000 - loss: 2.2478 - val_accuracy: 0.5000 - val_loss: 2.2633\n",
            "Epoch 5/10\n",
            "\u001b[1m1/1\u001b[0m \u001b[32m━━━━━━━━━━━━━━━━━━━━\u001b[0m\u001b[37m\u001b[0m \u001b[1m0s\u001b[0m 139ms/step - accuracy: 0.5000 - loss: 2.2172 - val_accuracy: 0.5000 - val_loss: 2.2454\n",
            "Epoch 6/10\n",
            "\u001b[1m1/1\u001b[0m \u001b[32m━━━━━━━━━━━━━━━━━━━━\u001b[0m\u001b[37m\u001b[0m \u001b[1m0s\u001b[0m 85ms/step - accuracy: 0.5000 - loss: 2.1750 - val_accuracy: 0.5000 - val_loss: 2.2216\n",
            "Epoch 7/10\n",
            "\u001b[1m1/1\u001b[0m \u001b[32m━━━━━━━━━━━━━━━━━━━━\u001b[0m\u001b[37m\u001b[0m \u001b[1m0s\u001b[0m 83ms/step - accuracy: 0.5000 - loss: 2.1172 - val_accuracy: 0.5000 - val_loss: 2.1904\n",
            "Epoch 8/10\n",
            "\u001b[1m1/1\u001b[0m \u001b[32m━━━━━━━━━━━━━━━━━━━━\u001b[0m\u001b[37m\u001b[0m \u001b[1m0s\u001b[0m 89ms/step - accuracy: 0.5000 - loss: 2.0385 - val_accuracy: 0.5000 - val_loss: 2.1494\n",
            "Epoch 9/10\n",
            "\u001b[1m1/1\u001b[0m \u001b[32m━━━━━━━━━━━━━━━━━━━━\u001b[0m\u001b[37m\u001b[0m \u001b[1m0s\u001b[0m 137ms/step - accuracy: 0.5000 - loss: 1.9331 - val_accuracy: 0.5000 - val_loss: 2.0960\n",
            "Epoch 10/10\n",
            "\u001b[1m1/1\u001b[0m \u001b[32m━━━━━━━━━━━━━━━━━━━━\u001b[0m\u001b[37m\u001b[0m \u001b[1m0s\u001b[0m 106ms/step - accuracy: 0.5000 - loss: 1.7963 - val_accuracy: 0.5000 - val_loss: 2.0266\n"
          ]
        }
      ],
      "source": [
        "import numpy as np\n",
        "from tensorflow.keras.models import Sequential\n",
        "from tensorflow.keras.layers import Embedding, LSTM, Dense, RepeatVector, TimeDistributed\n",
        "from tensorflow.keras.optimizers import Adam\n",
        "from tensorflow.keras.preprocessing.sequence import pad_sequences\n",
        "\n",
        "# Assuming you have tokenizers for both English and French\n",
        "# For example:\n",
        "# english_tokenizer = Tokenizer()\n",
        "# french_tokenizer = Tokenizer()\n",
        "\n",
        "# Define model parameters\n",
        "embedding_dim = 100  # Example value, can be adjusted\n",
        "latent_dim = 256  # Latent dimension for the RNNs (you can adjust based on your dataset size)\n",
        "vocab_size_eng = len(english_tokenizer.word_index) + 1  # Adding 1 for padding token\n",
        "vocab_size_fr = len(french_tokenizer.word_index) + 1  # Adding 1 for padding token\n",
        "max_len = max(df['ENG Length'].max(), df['FR Length'].max())  # Max sequence length\n",
        "\n",
        "# Define the model architecture\n",
        "model = Sequential()\n",
        "\n",
        "# Encoder\n",
        "model.add(Embedding(input_dim=vocab_size_eng, output_dim=embedding_dim, input_length=max_len))\n",
        "model.add(LSTM(latent_dim, return_sequences=False))  # One-directional LSTM\n",
        "\n",
        "# RepeatVector to prepare for the decoder\n",
        "model.add(RepeatVector(max_len))  # Repeat the context vector for the decoder\n",
        "\n",
        "# Decoder\n",
        "model.add(LSTM(latent_dim, return_sequences=True))  # One-directional LSTM for the decoder\n",
        "model.add(TimeDistributed(Dense(vocab_size_fr, activation='softmax')))  # Output layer for each timestep\n",
        "\n",
        "# Compile the model\n",
        "model.compile(optimizer=Adam(), loss='sparse_categorical_crossentropy', metrics=['accuracy'])\n",
        "\n",
        "# Summary of the model\n",
        "model.summary()\n",
        "\n",
        "# Prepare training data (ensure target sequences are aligned)\n",
        "X_train = english_padded\n",
        "\n",
        "# Ensure y_train is integer-encoded and padded correctly\n",
        "y_train = pad_sequences(french_padded, maxlen=max_len, padding='post', truncating='post')\n",
        "\n",
        "# Check the shapes of the training data\n",
        "print(f\"X_train shape: {X_train.shape}\")\n",
        "print(f\"y_train shape: {y_train.shape}\")\n",
        "\n",
        "# Ensure the target sequence (y_train) has the correct shape for training\n",
        "assert X_train.shape[0] == y_train.shape[0], \"Mismatch in number of samples between X_train and y_train\"\n",
        "\n",
        "# Train the model\n",
        "history = model.fit(X_train, y_train, epochs=10, batch_size=64, validation_split=0.2)\n",
        "\n",
        "\n"
      ]
    },
    {
      "cell_type": "code",
      "source": [
        "from tensorflow.keras.utils import to_categorical\n",
        "\n",
        "# One-hot encode the target variable (y_train_padded)\n",
        "y_train_onehot = to_categorical(y_train_padded, num_classes=9)\n",
        "\n",
        "# Check the shape of y_train_onehot\n",
        "print(f\"One-hot encoded y_train shape: {y_train_onehot.shape}\")\n",
        "\n",
        "# Define early stopping\n",
        "early_stopping = EarlyStopping(monitor='val_loss', patience=3, restore_best_weights=True)\n",
        "\n",
        "# Train the model with early stopping\n",
        "history = model.fit(X_train_padded, y_train_onehot, epochs=10, batch_size=64, validation_split=0.2, callbacks=[early_stopping])\n",
        "\n",
        "# Optionally, you can add some print statements to see the training progress\n",
        "print(\"Training started...\")\n",
        "\n",
        "\n",
        "\n",
        "\n",
        "\n"
      ],
      "metadata": {
        "colab": {
          "base_uri": "https://localhost:8080/"
        },
        "id": "QO-eqFtjCKUi",
        "outputId": "cb57dae6-d28d-4f41-9f01-d92f1f6b813d"
      },
      "execution_count": 172,
      "outputs": [
        {
          "output_type": "stream",
          "name": "stdout",
          "text": [
            "One-hot encoded y_train shape: (100, 3, 9)\n",
            "Epoch 1/10\n",
            "\u001b[1m2/2\u001b[0m \u001b[32m━━━━━━━━━━━━━━━━━━━━\u001b[0m\u001b[37m\u001b[0m \u001b[1m2s\u001b[0m 553ms/step - accuracy: 0.2583 - loss: 2.1884 - val_accuracy: 0.1333 - val_loss: 2.2005\n",
            "Epoch 2/10\n",
            "\u001b[1m2/2\u001b[0m \u001b[32m━━━━━━━━━━━━━━━━━━━━\u001b[0m\u001b[37m\u001b[0m \u001b[1m0s\u001b[0m 49ms/step - accuracy: 0.2493 - loss: 2.1883 - val_accuracy: 0.1333 - val_loss: 2.2006\n",
            "Epoch 3/10\n",
            "\u001b[1m2/2\u001b[0m \u001b[32m━━━━━━━━━━━━━━━━━━━━\u001b[0m\u001b[37m\u001b[0m \u001b[1m0s\u001b[0m 48ms/step - accuracy: 0.2524 - loss: 2.1874 - val_accuracy: 0.1333 - val_loss: 2.2007\n",
            "Epoch 4/10\n",
            "\u001b[1m2/2\u001b[0m \u001b[32m━━━━━━━━━━━━━━━━━━━━\u001b[0m\u001b[37m\u001b[0m \u001b[1m0s\u001b[0m 49ms/step - accuracy: 0.2444 - loss: 2.1873 - val_accuracy: 0.1167 - val_loss: 2.2008\n",
            "Training started...\n"
          ]
        }
      ]
    },
    {
      "cell_type": "markdown",
      "source": [
        "Define a function that gets an input sentence in english and gives the output sentence in the french language."
      ],
      "metadata": {
        "id": "9UoEcxyJztiQ"
      }
    },
    {
      "cell_type": "code",
      "source": [
        "import numpy as np\n",
        "\n",
        "def translate_sentence(input_sentence, english_tokenizer, french_tokenizer, model, max_len):\n",
        "    \"\"\"\n",
        "    Translate an input sentence from English to French using the trained model.\n",
        "\n",
        "    Parameters:\n",
        "    input_sentence (str): The English sentence to be translated.\n",
        "    english_tokenizer (Tokenizer): The tokenizer for the English language.\n",
        "    french_tokenizer (Tokenizer): The tokenizer for the French language.\n",
        "    model (Sequential): The trained Seq2Seq model.\n",
        "    max_len (int): The maximum length of sequences in the dataset.\n",
        "\n",
        "    Returns:\n",
        "    str: The translated French sentence.\n",
        "    \"\"\"\n",
        "\n",
        "    # Step 1: Preprocess the input sentence\n",
        "    # Tokenize the input sentence\n",
        "    input_sequence = english_tokenizer.texts_to_sequences([input_sentence])\n",
        "\n",
        "    # Pad the sequence to ensure uniform length\n",
        "    input_padded = pad_sequences(input_sequence, maxlen=max_len, padding='post')\n",
        "\n",
        "    # Step 2: Get the model's predictions (output sequence)\n",
        "    # Predict the French translation\n",
        "    predicted_sequence = model.predict(input_padded, verbose=0)\n",
        "\n",
        "    # Step 3: Post-process the output (convert the predicted tokens to words)\n",
        "    # Get the index of the predicted words\n",
        "    predicted_indices = np.argmax(predicted_sequence, axis=-1)[0]\n",
        "\n",
        "    # Convert indices to words (exclude the padding token)\n",
        "    predicted_words = []\n",
        "    for index in predicted_indices:\n",
        "        word = french_tokenizer.index_word.get(index)\n",
        "        if word is None:\n",
        "            break\n",
        "        predicted_words.append(word)\n",
        "\n",
        "    # Join the words to form the output sentence\n",
        "    translated_sentence = ' '.join(predicted_words)\n",
        "\n",
        "    return translated_sentence\n"
      ],
      "metadata": {
        "id": "fUU_RdCxYpM6"
      },
      "execution_count": 161,
      "outputs": []
    },
    {
      "cell_type": "markdown",
      "source": [
        "Test the following sentence"
      ],
      "metadata": {
        "id": "XUQIcAjWz3bt"
      }
    },
    {
      "cell_type": "code",
      "execution_count": 163,
      "metadata": {
        "id": "fDmNqnZIQMko",
        "colab": {
          "base_uri": "https://localhost:8080/"
        },
        "outputId": "ca1f4607-e062-479f-cdb1-320c4fcd847b"
      },
      "outputs": [
        {
          "output_type": "stream",
          "name": "stdout",
          "text": [
            "English:  she is driving the truck\n",
            "French:  \n"
          ]
        }
      ],
      "source": [
        "# Example sentence to translate\n",
        "input_sentence = \"she is driving the truck\"\n",
        "\n",
        "# Translate to French using the previously defined function\n",
        "output_sentence = translate_sentence(input_sentence, english_tokenizer, french_tokenizer, model, max_len)\n",
        "\n",
        "print(\"English: \", input_sentence)\n",
        "print(\"French: \", output_sentence)\n"
      ]
    },
    {
      "cell_type": "markdown",
      "source": [
        "Try to improve your model by modifying the architecture to take into account bidirectionality which is very useful in Machine Translation. Create a new model called model2"
      ],
      "metadata": {
        "id": "wdI2XhaBz6CN"
      }
    },
    {
      "cell_type": "code",
      "execution_count": 162,
      "metadata": {
        "id": "Ch28BLsbGnCn"
      },
      "outputs": [],
      "source": [
        "from tensorflow.keras.models import Sequential\n",
        "from tensorflow.keras.layers import Embedding, LSTM, Bidirectional, Dense, RepeatVector, TimeDistributed\n",
        "from tensorflow.keras.optimizers import Adam\n",
        "\n",
        "# Define the new model architecture with Bidirectional LSTM\n",
        "def create_model2(vocab_size_input, vocab_size_output, max_len):\n",
        "    model2 = Sequential()\n",
        "\n",
        "    # Encoder: Bidirectional LSTM\n",
        "    model2.add(Embedding(vocab_size_input, 256, input_length=max_len))\n",
        "    model2.add(Bidirectional(LSTM(256)))  # Bidirectional LSTM layer\n",
        "    model2.add(RepeatVector(max_len))\n",
        "\n",
        "    # Decoder: LSTM and Dense layers\n",
        "    model2.add(LSTM(256, return_sequences=True))  # LSTM for the decoder\n",
        "    model2.add(TimeDistributed(Dense(vocab_size_output, activation='softmax')))  # Output layer\n",
        "\n",
        "    # Compile the model\n",
        "    model2.compile(optimizer=Adam(), loss='sparse_categorical_crossentropy', metrics=['accuracy'])\n",
        "\n",
        "    return model2\n",
        "\n",
        "# Assuming vocab_size_input, vocab_size_output, and max_len are defined\n",
        "vocab_size_input = len(english_tokenizer.word_index) + 1  # Size of the English vocabulary\n",
        "vocab_size_output = len(french_tokenizer.word_index) + 1  # Size of the French vocabulary\n",
        "max_len = 20  # Adjust this based on your dataset\n"
      ]
    },
    {
      "cell_type": "markdown",
      "source": [
        "compile and train your new model."
      ],
      "metadata": {
        "id": "EHDvxt9L0C21"
      }
    },
    {
      "cell_type": "code",
      "execution_count": 164,
      "metadata": {
        "id": "iK1QvVmaTWI2",
        "colab": {
          "base_uri": "https://localhost:8080/"
        },
        "outputId": "de245d6f-c52b-4a2a-c2b4-3d383e6bed8d"
      },
      "outputs": [
        {
          "output_type": "stream",
          "name": "stdout",
          "text": [
            "Dataset Columns: Index(['Unnamed: 0', 'TV', 'Radio', 'Newspaper', 'Sales'], dtype='object')\n",
            "Columns 'english' and 'french' not found in the dataset. Please check the dataset for correct column names.\n"
          ]
        }
      ],
      "source": [
        "import pandas as pd\n",
        "import numpy as np\n",
        "from tensorflow.keras.models import Model\n",
        "from tensorflow.keras.layers import Input, Embedding, LSTM, Bidirectional, RepeatVector, TimeDistributed, Dense\n",
        "from tensorflow.keras.preprocessing.text import Tokenizer\n",
        "from tensorflow.keras.preprocessing.sequence import pad_sequences\n",
        "\n",
        "# Load the dataset\n",
        "data_file_path = '/content/Challenge_7/Advertising.csv'  # Update with your actual file path\n",
        "data = pd.read_csv(data_file_path)\n",
        "\n",
        "# Print column names to inspect\n",
        "print(\"Dataset Columns:\", data.columns)\n",
        "\n",
        "# Check if the 'english' and 'french' columns exist\n",
        "if 'english' in data.columns and 'french' in data.columns:\n",
        "    # Rename columns for easier access\n",
        "    df = data.rename(columns={'english': 'English', 'french': 'French'})\n",
        "\n",
        "    # Add columns for sentence lengths (word count)\n",
        "    df['ENG Length'] = df['English'].apply(lambda x: len(x.split()))\n",
        "    df['FR Length'] = df['French'].apply(lambda x: len(x.split()))\n",
        "\n",
        "    # Initialize the tokenizer for English and French\n",
        "    english_tokenizer = Tokenizer()\n",
        "    french_tokenizer = Tokenizer()\n",
        "\n",
        "    # Fit the tokenizers on the respective sentences\n",
        "    english_tokenizer.fit_on_texts(df['English'])\n",
        "    french_tokenizer.fit_on_texts(df['French'])\n",
        "\n",
        "    # Tokenize the sentences\n",
        "    english_sequences = english_tokenizer.texts_to_sequences(df['English'])\n",
        "    french_sequences = french_tokenizer.texts_to_sequences(df['French'])\n",
        "\n",
        "    # Get the maximum sentence length (to pad sequences uniformly)\n",
        "    max_len = max(df['ENG Length'].max(), df['FR Length'].max())\n",
        "\n",
        "    # Pad the sequences to ensure uniform length\n",
        "    english_padded = pad_sequences(english_sequences, maxlen=max_len, padding='post')\n",
        "    french_padded = pad_sequences(french_sequences, maxlen=max_len, padding='post')\n",
        "\n",
        "    # Prepare the target sequence by shifting the French sentences\n",
        "    y_train_shifted = np.zeros_like(french_padded)\n",
        "    y_train_shifted[:, :-1] = french_padded[:, 1:]\n",
        "    y_train_shifted[:, -1] = 0  # Padding at the last position (optional, based on your padding strategy)\n",
        "\n",
        "    # Prepare the vocabulary sizes\n",
        "    vocab_size_input = len(english_tokenizer.word_index) + 1\n",
        "    vocab_size_output = len(french_tokenizer.word_index) + 1\n",
        "\n",
        "    # Define the Seq2Seq Model with Bidirectional LSTM\n",
        "    def create_model2(vocab_size_input, vocab_size_output, max_len):\n",
        "        input_seq = Input(shape=(max_len,))\n",
        "        encoder_emb = Embedding(vocab_size_input, 256, input_length=max_len)(input_seq)\n",
        "        encoder_lstm = Bidirectional(LSTM(256, return_state=True))(encoder_emb)\n",
        "        encoder_outputs, forward_h, forward_c, backward_h, backward_c = encoder_lstm\n",
        "        state_h = np.concatenate([forward_h, backward_h], axis=-1)\n",
        "        state_c = np.concatenate([forward_c, backward_c], axis=-1)\n",
        "\n",
        "        decoder_input = Input(shape=(max_len,))\n",
        "        decoder_emb = Embedding(vocab_size_output, 256, input_length=max_len)(decoder_input)\n",
        "        decoder_lstm = LSTM(512, return_sequences=True)(decoder_emb, initial_state=[state_h, state_c])\n",
        "        decoder_out = TimeDistributed(Dense(vocab_size_output, activation='softmax'))(decoder_lstm)\n",
        "\n",
        "        model = Model([input_seq, decoder_input], decoder_out)\n",
        "        return model\n",
        "\n",
        "    # Create model\n",
        "    model2 = create_model2(vocab_size_input, vocab_size_output, max_len)\n",
        "\n",
        "    # Compile the model\n",
        "    model2.compile(optimizer='adam', loss='sparse_categorical_crossentropy', metrics=['accuracy'])\n",
        "\n",
        "    # Train the model\n",
        "    history = model2.fit([english_padded, french_padded], y_train_shifted, epochs=20, batch_size=64, validation_split=0.2)\n",
        "\n",
        "    # Print the training summary\n",
        "    print(\"Model training complete.\")\n",
        "\n",
        "    # Save the model if necessary\n",
        "    model2.save('seq2seq_model_with_bidirectional.h5')\n",
        "\n",
        "else:\n",
        "    print(\"Columns 'english' and 'french' not found in the dataset. Please check the dataset for correct column names.\")\n",
        "\n"
      ]
    },
    {
      "cell_type": "markdown",
      "source": [
        "Define a new function that relies on your new model to make predictions."
      ],
      "metadata": {
        "id": "CkpOI2JI0GBx"
      }
    },
    {
      "cell_type": "code",
      "execution_count": 165,
      "metadata": {
        "id": "Gulu8OiXTbae",
        "colab": {
          "base_uri": "https://localhost:8080/"
        },
        "outputId": "e2354664-fb71-4ceb-dbec-c2c442fa739d"
      },
      "outputs": [
        {
          "output_type": "stream",
          "name": "stdout",
          "text": [
            "Shape of y_train_one_hot: (4, 3, 9)\n",
            "Epoch 1/10\n"
          ]
        },
        {
          "output_type": "stream",
          "name": "stderr",
          "text": [
            "/usr/local/lib/python3.11/dist-packages/keras/src/layers/core/embedding.py:90: UserWarning: Argument `input_length` is deprecated. Just remove it.\n",
            "  warnings.warn(\n"
          ]
        },
        {
          "output_type": "stream",
          "name": "stdout",
          "text": [
            "\u001b[1m2/2\u001b[0m \u001b[32m━━━━━━━━━━━━━━━━━━━━\u001b[0m\u001b[37m\u001b[0m \u001b[1m7s\u001b[0m 122ms/step - accuracy: 0.2222 - loss: 2.1950\n",
            "Epoch 2/10\n",
            "\u001b[1m2/2\u001b[0m \u001b[32m━━━━━━━━━━━━━━━━━━━━\u001b[0m\u001b[37m\u001b[0m \u001b[1m0s\u001b[0m 103ms/step - accuracy: 0.3333 - loss: 2.1681\n",
            "Epoch 3/10\n",
            "\u001b[1m2/2\u001b[0m \u001b[32m━━━━━━━━━━━━━━━━━━━━\u001b[0m\u001b[37m\u001b[0m \u001b[1m0s\u001b[0m 109ms/step - accuracy: 0.3333 - loss: 2.1174\n",
            "Epoch 4/10\n",
            "\u001b[1m2/2\u001b[0m \u001b[32m━━━━━━━━━━━━━━━━━━━━\u001b[0m\u001b[37m\u001b[0m \u001b[1m0s\u001b[0m 103ms/step - accuracy: 0.3333 - loss: 2.0247\n",
            "Epoch 5/10\n",
            "\u001b[1m2/2\u001b[0m \u001b[32m━━━━━━━━━━━━━━━━━━━━\u001b[0m\u001b[37m\u001b[0m \u001b[1m0s\u001b[0m 114ms/step - accuracy: 0.3333 - loss: 1.8526\n",
            "Epoch 6/10\n",
            "\u001b[1m2/2\u001b[0m \u001b[32m━━━━━━━━━━━━━━━━━━━━\u001b[0m\u001b[37m\u001b[0m \u001b[1m0s\u001b[0m 105ms/step - accuracy: 0.3333 - loss: 1.6456\n",
            "Epoch 7/10\n",
            "\u001b[1m2/2\u001b[0m \u001b[32m━━━━━━━━━━━━━━━━━━━━\u001b[0m\u001b[37m\u001b[0m \u001b[1m0s\u001b[0m 114ms/step - accuracy: 0.3333 - loss: 1.5899\n",
            "Epoch 8/10\n",
            "\u001b[1m2/2\u001b[0m \u001b[32m━━━━━━━━━━━━━━━━━━━━\u001b[0m\u001b[37m\u001b[0m \u001b[1m0s\u001b[0m 103ms/step - accuracy: 0.3333 - loss: 1.6339\n",
            "Epoch 9/10\n",
            "\u001b[1m2/2\u001b[0m \u001b[32m━━━━━━━━━━━━━━━━━━━━\u001b[0m\u001b[37m\u001b[0m \u001b[1m0s\u001b[0m 119ms/step - accuracy: 0.3333 - loss: 1.6012\n",
            "Epoch 10/10\n",
            "\u001b[1m2/2\u001b[0m \u001b[32m━━━━━━━━━━━━━━━━━━━━\u001b[0m\u001b[37m\u001b[0m \u001b[1m0s\u001b[0m 106ms/step - accuracy: 0.3333 - loss: 1.5336\n",
            "\u001b[1m1/1\u001b[0m \u001b[32m━━━━━━━━━━━━━━━━━━━━\u001b[0m\u001b[37m\u001b[0m \u001b[1m0s\u001b[0m 414ms/step\n",
            "Predicted French Translation: \n"
          ]
        }
      ],
      "source": [
        "import tensorflow as tf\n",
        "from tensorflow.keras.preprocessing.sequence import pad_sequences\n",
        "from tensorflow.keras.models import Sequential\n",
        "from tensorflow.keras.layers import LSTM, Embedding, Dense, TimeDistributed\n",
        "from tensorflow.keras.optimizers import Adam\n",
        "from tensorflow.keras.utils import to_categorical\n",
        "import numpy as np\n",
        "\n",
        "# Example data\n",
        "english_sentences = [\"I am driving\", \"She is driving\", \"He is running\", \"We are learning\"]\n",
        "french_sentences = [\"Je conduis\", \"Elle conduit\", \"Il court\", \"Nous apprenons\"]\n",
        "\n",
        "# Tokenization and padding\n",
        "english_tokenizer = tf.keras.preprocessing.text.Tokenizer()\n",
        "english_tokenizer.fit_on_texts(english_sentences)\n",
        "english_sequences = english_tokenizer.texts_to_sequences(english_sentences)\n",
        "max_english_len = max(len(seq) for seq in english_sequences)\n",
        "english_padded = pad_sequences(english_sequences, maxlen=max_english_len, padding='post')\n",
        "\n",
        "french_tokenizer = tf.keras.preprocessing.text.Tokenizer()\n",
        "french_tokenizer.fit_on_texts(french_sentences)\n",
        "french_sequences = french_tokenizer.texts_to_sequences(french_sentences)\n",
        "max_french_len = max_english_len  # Ensure French target sequences match the length of English input sequences\n",
        "french_padded = pad_sequences(french_sequences, maxlen=max_french_len, padding='post')\n",
        "\n",
        "# Prepare the input and output data\n",
        "X_train = english_padded\n",
        "y_train = french_padded  # Target (no need to expand dimensions)\n",
        "\n",
        "# One-hot encode the target labels to match the output shape (batch_size, seq_len, vocab_size)\n",
        "y_train_one_hot = np.array([to_categorical(seq, num_classes=len(french_tokenizer.word_index) + 1) for seq in y_train])\n",
        "\n",
        "# Check the shape of the one-hot encoded labels\n",
        "print(\"Shape of y_train_one_hot:\", y_train_one_hot.shape)  # Should be (batch_size, seq_len, vocab_size)\n",
        "\n",
        "# Define the model\n",
        "embedding_dim = 256\n",
        "hidden_units = 512\n",
        "\n",
        "model = Sequential()\n",
        "model.add(Embedding(input_dim=len(english_tokenizer.word_index) + 1, output_dim=embedding_dim, input_length=max_english_len))\n",
        "model.add(LSTM(hidden_units, return_sequences=True))\n",
        "model.add(LSTM(hidden_units, return_sequences=True))\n",
        "model.add(TimeDistributed(Dense(len(french_tokenizer.word_index) + 1, activation='softmax')))\n",
        "\n",
        "# Compile the model\n",
        "model.compile(optimizer=Adam(), loss='categorical_crossentropy', metrics=['accuracy'])\n",
        "\n",
        "# Train the model\n",
        "model.fit(X_train, y_train_one_hot, epochs=10, batch_size=2)  # Use one-hot encoded y_train\n",
        "\n",
        "# Prediction function\n",
        "def predict_translation(input_sentence, model, english_tokenizer, french_tokenizer, max_len):\n",
        "    # Preprocess input sentence\n",
        "    input_sequence = english_tokenizer.texts_to_sequences([input_sentence])\n",
        "    input_padded = pad_sequences(input_sequence, maxlen=max_len, padding='post')\n",
        "\n",
        "    # Predict the translation\n",
        "    pred = model.predict(input_padded)\n",
        "    pred = np.argmax(pred, axis=-1)[0]\n",
        "\n",
        "    # Convert predicted tokens to words\n",
        "    translated_sentence = ' '.join([french_tokenizer.index_word.get(token, '') for token in pred if token != 0])\n",
        "\n",
        "    return translated_sentence\n",
        "\n",
        "# Test translation\n",
        "input_sentence = \"she is driving the truck\"\n",
        "decoded_french_sentence = predict_translation(input_sentence, model, english_tokenizer, french_tokenizer, max_english_len)\n",
        "print(\"Predicted French Translation:\", decoded_french_sentence)\n",
        "\n",
        "\n",
        "\n",
        "\n",
        "\n",
        "\n"
      ]
    },
    {
      "cell_type": "code",
      "source": [
        "# Test translation\n",
        "input_sentence = \"she is driving the truck\"\n",
        "decoded_french_sentence = predict_translation(input_sentence, model, english_tokenizer, french_tokenizer, max_english_len)\n",
        "print(\"Predicted French Translation:\", decoded_french_sentence)\n"
      ],
      "metadata": {
        "id": "8CO0pO6-UAeE",
        "colab": {
          "base_uri": "https://localhost:8080/"
        },
        "outputId": "1a64be2d-c6c5-42e8-c4c1-873ee32794f6"
      },
      "execution_count": 166,
      "outputs": [
        {
          "output_type": "stream",
          "name": "stdout",
          "text": [
            "\u001b[1m1/1\u001b[0m \u001b[32m━━━━━━━━━━━━━━━━━━━━\u001b[0m\u001b[37m\u001b[0m \u001b[1m0s\u001b[0m 29ms/step\n",
            "Predicted French Translation: \n"
          ]
        }
      ]
    },
    {
      "cell_type": "markdown",
      "source": [
        "**What is another adjustment in terms of architecture that you might be able to do to improve your model?**"
      ],
      "metadata": {
        "id": "YGeXrjqbZen7"
      }
    },
    {
      "cell_type": "markdown",
      "source": [
        "Add Attention Mechanism: Helps the model focus on relevant parts of the input sequence, improving sequence-to-sequence tasks.\n",
        "\n",
        "Use Bidirectional LSTM: Processes the sequence in both directions, capturing more context.\n",
        "\n",
        "Increase Model Capacity: Increase the number of hidden units or layers (e.g., more LSTM layers) to capture complex patterns.\n",
        "\n",
        "Switch to GRU: GRUs are simpler and computationally efficient alternatives to LSTMs.\n",
        "\n",
        "Add Dropout Layers: Helps regularize the model, preventing overfitting.\n",
        "\n",
        "Use Pre-trained Word Embeddings: Leveraging embeddings like GloVe or Word2Vec improves the model by using semantic knowledge from larger corpora.\n",
        "\n",
        "Implement Encoder-Decoder Architecture: Specifically useful for tasks like machine translation, where the input and output sequences are of different lengths. **bold text**"
      ],
      "metadata": {
        "id": "bekjOkjbZlBf"
      }
    },
    {
      "cell_type": "markdown",
      "source": [
        "**What are some additional ways that we can do to improve the performance of our model?**"
      ],
      "metadata": {
        "id": "pnIN2lD2tn05"
      }
    },
    {
      "cell_type": "markdown",
      "source": [
        "Data Augmentation: Increase the diversity of your training data by introducing variations, like paraphrasing sentences or adding noise.\n",
        "\n",
        "Hyperparameter Tuning: Fine-tune hyperparameters such as learning rate, batch size, number of epochs, and model architecture (e.g., layer size, number of layers).\n",
        "\n",
        "Learning Rate Schedules: Use learning rate annealing or adaptive learning rates to adjust the learning rate during training, improving convergence.\n",
        "\n",
        "Advanced Regularization: Apply L2 regularization or weight decay to prevent overfitting, especially in large models.\n",
        "\n",
        "Use Pretrained Models: Fine-tune a pre-trained model (e.g., BERT, GPT) for your task, leveraging its knowledge from large datasets.\n",
        "\n",
        "Early Stopping: Monitor validation performance and stop training when performance plateaus to prevent overfitting.\n",
        "\n",
        "Cross-Validation: Use k-fold cross-validation to evaluate your model’s performance on different subsets of the data, ensuring robustness.\n",
        "\n",
        "Ensemble Learning: Combine multiple models (e.g., bagging, boosting) to reduce bias and variance, leading to better performance.\n",
        "\n",
        "Feature Engineering: Extract more meaningful features, especially if your data includes additional metadata or context that can be used.\n",
        "\n",
        "Increase Training Data: More data generally improves the model’s ability to generalize. Consider obtaining more labeled data or using semi-supervised learning techniques.\n",
        "\n",
        "Advanced Optimization Algorithms: Experiment with optimization algorithms like AdamW, Nadam, or RMSprop to improve training dynamics. **bold text**"
      ],
      "metadata": {
        "id": "s7_MCCbQt3uq"
      }
    },
    {
      "cell_type": "code",
      "source": [
        "import numpy as np\n",
        "from tensorflow.keras.models import Sequential\n",
        "from tensorflow.keras.layers import Embedding, LSTM, Dense, TimeDistributed\n",
        "from tensorflow.keras.callbacks import EarlyStopping, ReduceLROnPlateau\n",
        "\n",
        "# Define some constants\n",
        "num_classes = 9  # Number of unique classes in the target labels\n",
        "max_sequence_length = 3  # Length of input/output sequences\n",
        "embedding_dim = 50  # Size of the embedding vectors\n",
        "lstm_units = 64  # Number of LSTM units\n",
        "\n",
        "# Generate dummy training data\n",
        "X_train = np.random.randint(0, 100, size=(100, max_sequence_length))  # Example input data\n",
        "y_train = np.random.randint(0, num_classes, size=(100, max_sequence_length))  # Example target data\n",
        "\n",
        "# One-hot encode the target data\n",
        "y_train_one_hot = np.eye(num_classes)[y_train]  # Shape: (100, max_sequence_length, num_classes)\n",
        "\n",
        "# Define the model\n",
        "model = Sequential([\n",
        "    Embedding(input_dim=100, output_dim=embedding_dim, input_length=max_sequence_length),\n",
        "    LSTM(lstm_units, return_sequences=True),\n",
        "    TimeDistributed(Dense(num_classes, activation='softmax'))\n",
        "])\n",
        "\n",
        "# Compile the model with categorical_crossentropy since we're using one-hot encoding\n",
        "model.compile(optimizer='adam', loss='categorical_crossentropy', metrics=['accuracy'])\n",
        "\n",
        "# Define callbacks\n",
        "early_stopping = EarlyStopping(monitor='val_loss', patience=3, restore_best_weights=True)\n",
        "reduce_lr = ReduceLROnPlateau(monitor='val_loss', factor=0.5, patience=2, min_lr=1e-6)\n",
        "\n",
        "# Train the model\n",
        "model.fit(\n",
        "    X_train, y_train_one_hot,\n",
        "    epochs=10,\n",
        "    batch_size=2,\n",
        "    validation_split=0.2,\n",
        "    callbacks=[early_stopping, reduce_lr]\n",
        ")\n",
        "\n",
        "# Example prediction\n",
        "sample_input = np.random.randint(0, 100, size=(1, max_sequence_length))\n",
        "predictions = model.predict(sample_input)\n",
        "print(\"Predictions:\", predictions)\n",
        "\n",
        "\n",
        "\n",
        "\n",
        "\n",
        "\n",
        "\n"
      ],
      "metadata": {
        "id": "_cA93K-TUbcR",
        "colab": {
          "base_uri": "https://localhost:8080/"
        },
        "outputId": "339ece40-dde7-4378-ea9c-a1558f3f0d7f"
      },
      "execution_count": 167,
      "outputs": [
        {
          "output_type": "stream",
          "name": "stdout",
          "text": [
            "Epoch 1/10\n",
            "\u001b[1m40/40\u001b[0m \u001b[32m━━━━━━━━━━━━━━━━━━━━\u001b[0m\u001b[37m\u001b[0m \u001b[1m5s\u001b[0m 19ms/step - accuracy: 0.1355 - loss: 2.1979 - val_accuracy: 0.1333 - val_loss: 2.2004 - learning_rate: 0.0010\n",
            "Epoch 2/10\n",
            "\u001b[1m40/40\u001b[0m \u001b[32m━━━━━━━━━━━━━━━━━━━━\u001b[0m\u001b[37m\u001b[0m \u001b[1m1s\u001b[0m 4ms/step - accuracy: 0.1956 - loss: 2.1886 - val_accuracy: 0.0667 - val_loss: 2.2039 - learning_rate: 0.0010\n",
            "Epoch 3/10\n",
            "\u001b[1m40/40\u001b[0m \u001b[32m━━━━━━━━━━━━━━━━━━━━\u001b[0m\u001b[37m\u001b[0m \u001b[1m0s\u001b[0m 5ms/step - accuracy: 0.2695 - loss: 2.1714 - val_accuracy: 0.0833 - val_loss: 2.2102 - learning_rate: 0.0010\n",
            "Epoch 4/10\n",
            "\u001b[1m40/40\u001b[0m \u001b[32m━━━━━━━━━━━━━━━━━━━━\u001b[0m\u001b[37m\u001b[0m \u001b[1m0s\u001b[0m 4ms/step - accuracy: 0.3240 - loss: 2.1450 - val_accuracy: 0.0667 - val_loss: 2.2159 - learning_rate: 5.0000e-04\n",
            "\u001b[1m1/1\u001b[0m \u001b[32m━━━━━━━━━━━━━━━━━━━━\u001b[0m\u001b[37m\u001b[0m \u001b[1m0s\u001b[0m 227ms/step\n",
            "Predictions: [[[0.11202335 0.10952671 0.10982984 0.11372639 0.10912242 0.10943054\n",
            "   0.11287045 0.11094567 0.11252461]\n",
            "  [0.11273346 0.10923897 0.10911196 0.11332346 0.10777693 0.10832367\n",
            "   0.11439523 0.11264545 0.11245084]\n",
            "  [0.11300416 0.10881987 0.10867935 0.11348319 0.10821036 0.10930827\n",
            "   0.11463083 0.11202638 0.11183761]]]\n"
          ]
        }
      ]
    }
  ],
  "metadata": {
    "colab": {
      "provenance": [],
      "include_colab_link": true
    },
    "kernelspec": {
      "display_name": "Python 3",
      "name": "python3"
    },
    "language_info": {
      "name": "python"
    }
  },
  "nbformat": 4,
  "nbformat_minor": 0
}