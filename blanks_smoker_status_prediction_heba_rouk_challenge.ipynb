{
  "nbformat": 4,
  "nbformat_minor": 0,
  "metadata": {
    "colab": {
      "provenance": [],
      "toc_visible": true,
      "include_colab_link": true
    },
    "kernelspec": {
      "name": "python3",
      "display_name": "Python 3"
    }
  },
  "cells": [
    {
      "cell_type": "markdown",
      "metadata": {
        "id": "view-in-github",
        "colab_type": "text"
      },
      "source": [
        "<a href=\"https://colab.research.google.com/github/HebaRouk/500-AI-Machine-learning-Deep-learning-Computer-vision-NLP-Projects-with-code/blob/main/blanks_smoker_status_prediction_heba_rouk_challenge.ipynb\" target=\"_parent\"><img src=\"https://colab.research.google.com/assets/colab-badge.svg\" alt=\"Open In Colab\"/></a>"
      ]
    },
    {
      "cell_type": "markdown",
      "metadata": {
        "id": "SKzBo_NmCSMR"
      },
      "source": [
        "# Challenge of the Week\n",
        "---\n",
        "© 2023, Zaka AI, Inc. All Rights Reserved.\n",
        "## Case Study: Insurance Medical Cost Prediction\n",
        "\n",
        "**Objective:**\n",
        "\n",
        "In this exercise, you will explore a dataset of insurance data detailed below. You will build a model from scratch using Gradient Descent to predict the cost of treatment for individuals based on their age, sex, bmi and other information.\n",
        "\n",
        "\n",
        "## Dataset Description\n",
        "\n",
        "\n",
        "*   **age**: age of primary beneficiary\n",
        "*   **sex**: insurance contractor gender, female, male\n",
        "*   **bmi**: Body mass index, providing an understanding of body, weights that are relatively high or low relative to height,\n",
        "objective index of body weight (kg / m ^ 2) using the ratio of height to weight, ideally 18.5 to 24.9\n",
        "*   **children**: Number of children covered by health insurance / Number of dependents\n",
        "*   **smoker**: Smoking\n",
        "*   **region**: the beneficiary's residential area in the US, northeast, southeast, southwest, northwest.\n",
        "*   **charges**: Individual medical costs billed by health insurance"
      ]
    },
    {
      "cell_type": "code",
      "source": [],
      "metadata": {
        "id": "D-gyJPkPGuDR"
      },
      "execution_count": null,
      "outputs": []
    },
    {
      "cell_type": "code",
      "source": [],
      "metadata": {
        "id": "lWrabbGgGuaV"
      },
      "execution_count": null,
      "outputs": []
    },
    {
      "cell_type": "markdown",
      "metadata": {
        "id": "5k7QqVknG5ya"
      },
      "source": [
        "## 1. Data Loading"
      ]
    },
    {
      "cell_type": "markdown",
      "metadata": {
        "id": "GfyJQMOnE_48"
      },
      "source": [
        "#### Import necessary python modules\n",
        "\n",
        "We will need the following libraries:\n",
        " - Numpy — for scientific computing (e.g., linear algebra (vectors & matrices)).\n",
        " - Pandas — providing high-performance, easy-to-use data reading, manipulation, and analysis.\n",
        " - Matplotlib — plotting & visualization.\n",
        " - scikit-learn — a tool for data mining and machine learning models. We need from this library the functions train_test_split and LinearRegression"
      ]
    },
    {
      "cell_type": "code",
      "metadata": {
        "id": "u9nnDKPjAfGq",
        "colab": {
          "base_uri": "https://localhost:8080/"
        },
        "outputId": "9be3ad1f-326c-4c98-81e3-8119363c405a"
      },
      "source": [
        "# Import necessary libraries\n",
        "import numpy as np                      # For numerical operations\n",
        "import pandas as pd                     # For data manipulation and analysis\n",
        "import matplotlib.pyplot as plt         # For plotting and visualization\n",
        "from sklearn.model_selection import train_test_split  # To split the data\n",
        "from sklearn.linear_model import LinearRegression     # For the Linear Regression model\n",
        "\n",
        "# Load the dataset\n",
        "# Replace 'insurance.csv'\n",
        "data = pd.read_csv('insurance.csv')\n",
        "\n",
        "# Display the first 5 rows of the dataset\n",
        "print(\"First 5 rows of the dataset:\")\n",
        "print(data.head())\n",
        "\n",
        "# Display basic information about the dataset\n",
        "print(\"\\nDataset Information:\")\n",
        "print(data.info())\n",
        "\n",
        "# Check for missing values\n",
        "print(\"\\nMissing Values in Each Column:\")\n",
        "print(data.isnull().sum())\n",
        "\n",
        "# Show basic statistics of numerical columns\n",
        "print(\"\\nSummary Statistics:\")\n",
        "print(data.describe())\n"
      ],
      "execution_count": null,
      "outputs": [
        {
          "output_type": "stream",
          "name": "stdout",
          "text": [
            "First 5 rows of the dataset:\n",
            "   age     sex     bmi  children smoker     region      charges\n",
            "0   19  female  27.900         0    yes  southwest  16884.92400\n",
            "1   18    male  33.770         1     no  southeast   1725.55230\n",
            "2   28    male  33.000         3     no  southeast   4449.46200\n",
            "3   33    male  22.705         0     no  northwest  21984.47061\n",
            "4   32    male  28.880         0     no  northwest   3866.85520\n",
            "\n",
            "Dataset Information:\n",
            "<class 'pandas.core.frame.DataFrame'>\n",
            "RangeIndex: 1338 entries, 0 to 1337\n",
            "Data columns (total 7 columns):\n",
            " #   Column    Non-Null Count  Dtype  \n",
            "---  ------    --------------  -----  \n",
            " 0   age       1338 non-null   int64  \n",
            " 1   sex       1338 non-null   object \n",
            " 2   bmi       1335 non-null   float64\n",
            " 3   children  1338 non-null   int64  \n",
            " 4   smoker    1338 non-null   object \n",
            " 5   region    1338 non-null   object \n",
            " 6   charges   1338 non-null   float64\n",
            "dtypes: float64(2), int64(2), object(3)\n",
            "memory usage: 73.3+ KB\n",
            "None\n",
            "\n",
            "Missing Values in Each Column:\n",
            "age         0\n",
            "sex         0\n",
            "bmi         3\n",
            "children    0\n",
            "smoker      0\n",
            "region      0\n",
            "charges     0\n",
            "dtype: int64\n",
            "\n",
            "Summary Statistics:\n",
            "               age          bmi     children       charges\n",
            "count  1338.000000  1335.000000  1338.000000   1338.000000\n",
            "mean     39.207025    30.661423     1.094918  13270.422265\n",
            "std      14.049960     6.101038     1.205493  12110.011237\n",
            "min      18.000000    15.960000     0.000000   1121.873900\n",
            "25%      27.000000    26.302500     0.000000   4740.287150\n",
            "50%      39.000000    30.400000     1.000000   9382.033000\n",
            "75%      51.000000    34.687500     2.000000  16639.912515\n",
            "max      64.000000    53.130000     5.000000  63770.428010\n"
          ]
        }
      ]
    },
    {
      "cell_type": "code",
      "source": [
        "from google.colab import drive\n",
        "drive.mount('/content/drive')"
      ],
      "metadata": {
        "colab": {
          "base_uri": "https://localhost:8080/"
        },
        "id": "rD2wMr8LnEOL",
        "outputId": "9249a245-e6ef-44a3-cef6-245e656dcca6"
      },
      "execution_count": null,
      "outputs": [
        {
          "output_type": "stream",
          "name": "stdout",
          "text": [
            "Drive already mounted at /content/drive; to attempt to forcibly remount, call drive.mount(\"/content/drive\", force_remount=True).\n"
          ]
        }
      ]
    },
    {
      "cell_type": "markdown",
      "metadata": {
        "id": "4LEivAvUHIE3"
      },
      "source": [
        "#### Read & visualize data\n",
        "You should have the dataset on a csv file. To load the data to our code, we use **pandas** module, more specifically, the **read_csv** function.\n",
        "Then display the head of your dataset"
      ]
    },
    {
      "cell_type": "code",
      "metadata": {
        "id": "_hep8239AzVU",
        "colab": {
          "base_uri": "https://localhost:8080/",
          "height": 458
        },
        "outputId": "5c5fea00-d823-4b31-9685-89eb3d11e51f"
      },
      "source": [
        "# Step 1: Import necessary libraries\n",
        "import pandas as pd\n",
        "import matplotlib.pyplot as plt\n",
        "\n",
        "# Step 2: Load the dataset\n",
        "# Replace 'insurance.csv'\n",
        "data = pd.read_csv('insurance.csv')\n",
        "\n",
        "# Step 3: Display the first few rows of the dataset\n",
        "print(\"First 5 rows of the dataset:\")\n",
        "print(data.head())\n",
        "\n",
        "# Step 4: Basic Visualization - Plot numerical columns\n",
        "\n",
        "# Plot histogram for 'age', 'bmi', 'charges'\n",
        "fig, axes = plt.subplots(1, 3, figsize=(15, 5))  # Create subplots\n",
        "data['age'].hist(ax=axes[0], color='skyblue', edgecolor='black')\n",
        "axes[0].set_title('Age Distribution')\n",
        "axes[0].set_xlabel('Age')\n",
        "axes[0].set_ylabel('Frequency')\n",
        "\n",
        "data['bmi'].hist(ax=axes[1], color='lightgreen', edgecolor='black')\n",
        "axes[1].set_title('BMI Distribution')\n",
        "axes[1].set_xlabel('BMI')\n",
        "axes[1].set_ylabel('Frequency')\n",
        "\n",
        "data['charges'].hist(ax=axes[2], color='lightcoral', edgecolor='black')\n",
        "axes[2].set_title('Charges Distribution')\n",
        "axes[2].set_xlabel('Charges')\n",
        "axes[2].set_ylabel('Frequency')\n",
        "\n",
        "# Show the plots\n",
        "plt.tight_layout()\n",
        "plt.show()\n"
      ],
      "execution_count": null,
      "outputs": [
        {
          "output_type": "stream",
          "name": "stdout",
          "text": [
            "First 5 rows of the dataset:\n",
            "   age     sex     bmi  children smoker     region      charges\n",
            "0   19  female  27.900         0    yes  southwest  16884.92400\n",
            "1   18    male  33.770         1     no  southeast   1725.55230\n",
            "2   28    male  33.000         3     no  southeast   4449.46200\n",
            "3   33    male  22.705         0     no  northwest  21984.47061\n",
            "4   32    male  28.880         0     no  northwest   3866.85520\n"
          ]
        },
        {
          "output_type": "display_data",
          "data": {
            "text/plain": [
              "<Figure size 1500x500 with 3 Axes>"
            ],
            "image/png": "[encoded data removed]"
          },
          "metadata": {}
        }
      ]
    },
    {
      "cell_type": "markdown",
      "metadata": {
        "id": "qgIxvmAKhiqe"
      },
      "source": [
        "## 2. Exploratory Data Analysis\n",
        "\n",
        "Let's dig deeper & understand our data"
      ]
    },
    {
      "cell_type": "markdown",
      "metadata": {
        "id": "LbXDTkiQhzwq"
      },
      "source": [
        "**Task:** how many rows & columns in our dataset"
      ]
    },
    {
      "cell_type": "code",
      "metadata": {
        "id": "nUf0K_SMh1og",
        "colab": {
          "base_uri": "https://localhost:8080/"
        },
        "outputId": "16b2c215-19c2-4478-c9ec-feeaf2644b54"
      },
      "source": [
        "# Step 1: Import pandas (if not already imported)\n",
        "import pandas as pd\n",
        "\n",
        "# Step 2: Load the dataset\n",
        "data = pd.read_csv('insurance.csv')\n",
        "\n",
        "# Step 3: Find the number of rows and columns\n",
        "num_rows, num_columns = data.shape\n",
        "\n",
        "# Step 4: Print the result\n",
        "print(f\"The dataset contains {num_rows} rows and {num_columns} columns.\")\n"
      ],
      "execution_count": null,
      "outputs": [
        {
          "output_type": "stream",
          "name": "stdout",
          "text": [
            "The dataset contains 1338 rows and 7 columns.\n"
          ]
        }
      ]
    },
    {
      "cell_type": "markdown",
      "metadata": {
        "id": "rPqsS9S2B2M4"
      },
      "source": [
        "Use the function **info()**, to check:\n",
        " - data types (int, float, or object (e.g., string))\n",
        " - missing values\n",
        " - memory usage\n",
        " - number of rows and columns"
      ]
    },
    {
      "cell_type": "code",
      "metadata": {
        "id": "exWsHvXSA7nz",
        "colab": {
          "base_uri": "https://localhost:8080/"
        },
        "outputId": "dd9fd168-9acc-42be-f90d-834937d54acc"
      },
      "source": [
        "# Step 1: Import pandas (if not already imported)\n",
        "import pandas as pd\n",
        "\n",
        "# Step 2: Load the dataset\n",
        "data = pd.read_csv('insurance.csv')\n",
        "# Step 3: Use info() to get details about the dataset\n",
        "print(\"Dataset Information:\")\n",
        "print(data.info())\n"
      ],
      "execution_count": null,
      "outputs": [
        {
          "output_type": "stream",
          "name": "stdout",
          "text": [
            "Dataset Information:\n",
            "<class 'pandas.core.frame.DataFrame'>\n",
            "RangeIndex: 1338 entries, 0 to 1337\n",
            "Data columns (total 7 columns):\n",
            " #   Column    Non-Null Count  Dtype  \n",
            "---  ------    --------------  -----  \n",
            " 0   age       1338 non-null   int64  \n",
            " 1   sex       1338 non-null   object \n",
            " 2   bmi       1335 non-null   float64\n",
            " 3   children  1338 non-null   int64  \n",
            " 4   smoker    1338 non-null   object \n",
            " 5   region    1338 non-null   object \n",
            " 6   charges   1338 non-null   float64\n",
            "dtypes: float64(2), int64(2), object(3)\n",
            "memory usage: 73.3+ KB\n",
            "None\n"
          ]
        }
      ]
    },
    {
      "cell_type": "markdown",
      "metadata": {
        "id": "Kt2KsZa2B63T"
      },
      "source": [
        "Use the function **describe()** to can check the mean, standard deviation, maximum, and minimum of each numerical feature (column)"
      ]
    },
    {
      "cell_type": "code",
      "metadata": {
        "id": "pifR8QwkA-DW",
        "colab": {
          "base_uri": "https://localhost:8080/"
        },
        "outputId": "693e2ff6-d9c4-456a-c646-a534dcd3d076"
      },
      "source": [
        "# Step 1: Import pandas (if not already imported)\n",
        "import pandas as pd\n",
        "\n",
        "# Step 2: Load the dataset\n",
        "data = pd.read_csv('insurance.csv')\n",
        "\n",
        "# Step 3: Use describe() to analyze numerical columns\n",
        "print(\"Statistical Summary of Numerical Features:\")\n",
        "print(data.describe())\n"
      ],
      "execution_count": null,
      "outputs": [
        {
          "output_type": "stream",
          "name": "stdout",
          "text": [
            "Statistical Summary of Numerical Features:\n",
            "               age          bmi     children       charges\n",
            "count  1338.000000  1335.000000  1338.000000   1338.000000\n",
            "mean     39.207025    30.661423     1.094918  13270.422265\n",
            "std      14.049960     6.101038     1.205493  12110.011237\n",
            "min      18.000000    15.960000     0.000000   1121.873900\n",
            "25%      27.000000    26.302500     0.000000   4740.287150\n",
            "50%      39.000000    30.400000     1.000000   9382.033000\n",
            "75%      51.000000    34.687500     2.000000  16639.912515\n",
            "max      64.000000    53.130000     5.000000  63770.428010\n"
          ]
        }
      ]
    },
    {
      "cell_type": "markdown",
      "metadata": {
        "id": "cp4rE9yyjkua"
      },
      "source": [
        "#### Distribution of charges\n",
        "\n",
        "First, let's look at the distribution of charges. This will help us to know how much patients spend on treatment on average.\n",
        "To do this plot the histogram for the charges"
      ]
    },
    {
      "cell_type": "code",
      "metadata": {
        "id": "A9VxLmCMjhtZ",
        "colab": {
          "base_uri": "https://localhost:8080/",
          "height": 564
        },
        "outputId": "11f175ef-eb0b-4460-c8fb-707e0fa1e057"
      },
      "source": [
        "# Step 1: Import necessary libraries\n",
        "import pandas as pd\n",
        "import matplotlib.pyplot as plt\n",
        "\n",
        "# Step 2: Load the dataset\n",
        "data = pd.read_csv('insurance.csv')\n",
        "# Step 3: Plot the histogram for charges\n",
        "plt.figure(figsize=(10, 6))  # Adjust figure size for better visualization\n",
        "plt.hist(data['charges'], bins=30, color='skyblue', edgecolor='black')  # Histogram\n",
        "plt.title('Distribution of Medical Charges')  # Title of the plot\n",
        "plt.xlabel('Charges')  # X-axis label\n",
        "plt.ylabel('Frequency')  # Y-axis label\n",
        "plt.grid(axis='y', linestyle='--', alpha=0.7)  # Add grid for readability\n",
        "plt.show()\n"
      ],
      "execution_count": null,
      "outputs": [
        {
          "output_type": "display_data",
          "data": {
            "text/plain": [
              "<Figure size 1000x600 with 1 Axes>"
            ],
            "image/png": "[encoded data removed]"
          },
          "metadata": {}
        }
      ]
    },
    {
      "cell_type": "markdown",
      "metadata": {
        "id": "-C6DoqLJkZaJ"
      },
      "source": [
        "#### Correlation between smoking and cost of treatment\n",
        "\n",
        "Let's see if smokers spend more or less on treatment than non-smokers!\n",
        "\n",
        "First, separate the dataset between 2: smokers and non_smokers, and then see how many smokers vs non-smokers we have."
      ]
    },
    {
      "cell_type": "code",
      "metadata": {
        "id": "2bYxq0B4m4eg",
        "colab": {
          "base_uri": "https://localhost:8080/"
        },
        "outputId": "d09bc2df-aa5f-4ac8-d6f6-37bf4faa829f"
      },
      "source": [
        "# Step 1: Import pandas (if not already imported)\n",
        "import pandas as pd\n",
        "\n",
        "# Step 2: Load the dataset\n",
        "data = pd.read_csv('insurance.csv')\n",
        "\n",
        "# Step 3: Separate the dataset into smokers and non-smokers\n",
        "smokers = data[data['smoker'] == 'yes']  # Filter for smokers\n",
        "non_smokers = data[data['smoker'] == 'no']  # Filter for non-smokers\n",
        "\n",
        "# Step 4: Count the number of smokers and non-smokers\n",
        "num_smokers = smokers.shape[0]\n",
        "num_non_smokers = non_smokers.shape[0]\n",
        "\n",
        "# Step 5: Print the results\n",
        "print(f\"Number of smokers: {num_smokers}\")\n",
        "print(f\"Number of non-smokers: {num_non_smokers}\")\n"
      ],
      "execution_count": null,
      "outputs": [
        {
          "output_type": "stream",
          "name": "stdout",
          "text": [
            "Number of smokers: 274\n",
            "Number of non-smokers: 1064\n"
          ]
        }
      ]
    },
    {
      "cell_type": "markdown",
      "metadata": {
        "id": "0V4oPfA3nMqt"
      },
      "source": [
        "plot the distribution of charges for both smokers and non smokers"
      ]
    },
    {
      "cell_type": "code",
      "metadata": {
        "id": "uwn0w9SKj9AZ",
        "colab": {
          "base_uri": "https://localhost:8080/",
          "height": 564
        },
        "outputId": "2fc12078-b004-4cf6-a63f-ff48fcb2e743"
      },
      "source": [
        "# Step 1: Import necessary libraries\n",
        "import pandas as pd\n",
        "import matplotlib.pyplot as plt\n",
        "\n",
        "# Step 2: Load the dataset\n",
        "data = pd.read_csv('insurance.csv')\n",
        "# Step 3: Separate the dataset into smokers and non-smokers\n",
        "smokers = data[data['smoker'] == 'yes']  # Filter for smokers\n",
        "non_smokers = data[data['smoker'] == 'no']  # Filter for non-smokers\n",
        "\n",
        "# Step 4: Plot histograms for both smokers and non-smokers\n",
        "plt.figure(figsize=(10, 6))  # Adjust figure size for better visualization\n",
        "plt.hist(smokers['charges'], bins=30, color='red', alpha=0.7, label='Smokers')\n",
        "plt.hist(non_smokers['charges'], bins=30, color='blue', alpha=0.7, label='Non-Smokers')\n",
        "\n",
        "# Step 5: Add title and labels\n",
        "plt.title('Distribution of Charges for Smokers vs Non-Smokers')\n",
        "plt.xlabel('Charges')\n",
        "plt.ylabel('Frequency')\n",
        "\n",
        "# Step 6: Show the legend\n",
        "plt.legend()\n",
        "\n",
        "# Step 7: Show the plot\n",
        "plt.grid(axis='y', linestyle='--', alpha=0.7)  # Add grid for readability\n",
        "plt.show()\n"
      ],
      "execution_count": null,
      "outputs": [
        {
          "output_type": "display_data",
          "data": {
            "text/plain": [
              "<Figure size 1000x600 with 1 Axes>"
            ],
            "image/png": "[encoded data removed]"
          },
          "metadata": {}
        }
      ]
    },
    {
      "cell_type": "markdown",
      "metadata": {
        "id": "9h3TXsFXVoKy"
      },
      "source": [
        "Who spends more on treatment? Smokers or non Smokers?"
      ]
    },
    {
      "cell_type": "markdown",
      "metadata": {
        "id": "z764ssFHV7KM"
      },
      "source": [
        "#### Correlation between age and cost of treatment\n",
        "\n",
        "First, plot the distribution of age in our dataset"
      ]
    },
    {
      "cell_type": "code",
      "metadata": {
        "id": "G6Z5JkrLlEbV",
        "colab": {
          "base_uri": "https://localhost:8080/"
        },
        "outputId": "65e75e52-4e1e-4648-a302-86bbf86d367b"
      },
      "source": [
        "# Step 1: Calculate mean and median charges for smokers and non-smokers\n",
        "mean_smokers = smokers['charges'].mean()\n",
        "median_smokers = smokers['charges'].median()\n",
        "\n",
        "mean_non_smokers = non_smokers['charges'].mean()\n",
        "median_non_smokers = non_smokers['charges'].median()\n",
        "\n",
        "# Step 2: Print the results\n",
        "print(f\"Mean treatment cost for Smokers: {mean_smokers:.2f}\")\n",
        "print(f\"Median treatment cost for Smokers: {median_smokers:.2f}\")\n",
        "print(f\"Mean treatment cost for Non-Smokers: {mean_non_smokers:.2f}\")\n",
        "print(f\"Median treatment cost for Non-Smokers: {median_non_smokers:.2f}\")\n"
      ],
      "execution_count": null,
      "outputs": [
        {
          "output_type": "stream",
          "name": "stdout",
          "text": [
            "Mean treatment cost for Smokers: 32050.23\n",
            "Median treatment cost for Smokers: 34456.35\n",
            "Mean treatment cost for Non-Smokers: 8434.27\n",
            "Median treatment cost for Non-Smokers: 7345.41\n"
          ]
        }
      ]
    },
    {
      "cell_type": "markdown",
      "metadata": {
        "id": "Y57UaJL_Wyyr"
      },
      "source": [
        "plot the correlation between age and cost of treatment"
      ]
    },
    {
      "cell_type": "code",
      "metadata": {
        "id": "sGC1lp-yWaWz",
        "colab": {
          "base_uri": "https://localhost:8080/",
          "height": 581
        },
        "outputId": "dcbce90e-0024-4c88-fb84-df425d6564dc"
      },
      "source": [
        "# Step 1: Scatter plot between age and charges\n",
        "plt.figure(figsize=(10, 6))  # Adjust figure size for better visualization\n",
        "plt.scatter(data['age'], data['charges'], alpha=0.6, color='blue')  # Scatter plot\n",
        "plt.title('Correlation Between Age and Cost of Treatment')  # Title of the plot\n",
        "plt.xlabel('Age')  # X-axis label\n",
        "plt.ylabel('Charges')  # Y-axis label\n",
        "plt.grid(True)  # Add grid for readability\n",
        "plt.show()\n",
        "\n",
        "# Step 2: Calculate the correlation coefficient between age and charges\n",
        "correlation = data['age'].corr(data['charges'])\n",
        "print(f\"Correlation coefficient between Age and Charges: {correlation:.2f}\")\n"
      ],
      "execution_count": null,
      "outputs": [
        {
          "output_type": "display_data",
          "data": {
            "text/plain": [
              "<Figure size 1000x600 with 1 Axes>"
            ],
            "image/png": "[encoded data removed]"
          },
          "metadata": {}
        },
        {
          "output_type": "stream",
          "name": "stdout",
          "text": [
            "Correlation coefficient between Age and Charges: 0.30\n"
          ]
        }
      ]
    },
    {
      "cell_type": "markdown",
      "metadata": {
        "id": "5BvsdKyFcf2X"
      },
      "source": [
        "Let's check if smoking also affects this curve.\n",
        "\n",
        "**Task**: show a scatter plot with the correlation between age and cost of treatment while showing smokers in red and non-smokers in blue"
      ]
    },
    {
      "cell_type": "code",
      "metadata": {
        "id": "VEcAVCLrcMEF",
        "colab": {
          "base_uri": "https://localhost:8080/",
          "height": 564
        },
        "outputId": "59018b70-329d-4ee3-840c-ba116c4f05ed"
      },
      "source": [
        "# Step 1: Scatter plot between age and charges, differentiating smokers and non-smokers\n",
        "plt.figure(figsize=(10, 6))  # Adjust figure size for better visualization\n",
        "\n",
        "# Plot non-smokers in blue\n",
        "plt.scatter(non_smokers['age'], non_smokers['charges'], alpha=0.6, color='blue', label='Non-Smokers')\n",
        "\n",
        "# Plot smokers in red\n",
        "plt.scatter(smokers['age'], smokers['charges'], alpha=0.6, color='red', label='Smokers')\n",
        "\n",
        "# Title and labels\n",
        "plt.title('Correlation Between Age and Cost of Treatment (Smokers vs Non-Smokers)')\n",
        "plt.xlabel('Age')\n",
        "plt.ylabel('Charges')\n",
        "plt.grid(True)\n",
        "plt.legend()  # Show legend to distinguish between smokers and non-smokers\n",
        "\n",
        "# Show plot\n",
        "plt.show()\n"
      ],
      "execution_count": null,
      "outputs": [
        {
          "output_type": "display_data",
          "data": {
            "text/plain": [
              "<Figure size 1000x600 with 1 Axes>"
            ],
            "image/png": "[encoded data removed]"
          },
          "metadata": {}
        }
      ]
    },
    {
      "cell_type": "markdown",
      "metadata": {
        "id": "NYL_dQSKgEER"
      },
      "source": [
        "#### Correlation between BMI and cost of treatment\n",
        "\n",
        "# Body Mass Index\n",
        "\n",
        "![alt text](https://4.bp.blogspot.com/-nBF9Z1tFGhI/W3MqbdD0j7I/AAAAAAAAAIs/UdyXTIxsBT8Pl8usABxEK_Fusj5S0SnBQCLcBGAs/s1600/HOW%2BTO%2BCALCULATE%2BBODY%2BMASS%2BINDEX%2BBMI.jpg)\n",
        "\n",
        "# BMI Chart\n",
        "\n",
        "![BMI char](https://images.squarespace-cdn.com/content/v1/56fae4be1d07c0c393d8faa5/1551103826935-HCXS8U78500C06GQ1PLJ/ke17ZwdGBToddI8pDm48kNMeyc_nGAbaGjp3EBJ2o08UqsxRUqqbr1mOJYKfIPR7LoDQ9mXPOjoJoqy81S2I8N_N4V1vUb5AoIIIbLZhVYxCRW4BPu10St3TBAUQYVKckzCNDuUMr1wTvf7-fqd2hrX5O2-_PoO3UJ2jNU1VzJbe6G9-F0r9BTATNUu-NBMy/BMI+Chart.jpg)\n",
        "\n",
        "First, plot the distribution of BMI in our dataset."
      ]
    },
    {
      "cell_type": "code",
      "metadata": {
        "id": "h9EfbSkKYIlR",
        "colab": {
          "base_uri": "https://localhost:8080/"
        },
        "outputId": "c3f87482-640c-44e5-eb2c-b842cf0b9b58"
      },
      "source": [
        "# Check the column names of the dataset\n",
        "print(data.columns)\n",
        "\n"
      ],
      "execution_count": null,
      "outputs": [
        {
          "output_type": "stream",
          "name": "stdout",
          "text": [
            "Index(['age', 'sex', 'bmi', 'children', 'smoker', 'region', 'charges'], dtype='object')\n"
          ]
        }
      ]
    },
    {
      "cell_type": "markdown",
      "metadata": {
        "id": "j-_7LOLyDrzw"
      },
      "source": [
        "According to the chart above, obesity starts at BMI = 30. Let's investigate the impact of BMI on cost of treatment.\n",
        "Separate the dataset between 4 datasets: one for obese, one for overweight, one for healthy, and one for underweight, and then, give the number of examples that we have for each of those classes."
      ]
    },
    {
      "cell_type": "code",
      "source": [
        "# Check the column names in the dataset\n",
        "print(data.columns)\n"
      ],
      "metadata": {
        "colab": {
          "base_uri": "https://localhost:8080/"
        },
        "id": "YHnsd9AwfAmZ",
        "outputId": "b49d611d-4a7b-4e98-e8f1-13903ab35f9f"
      },
      "execution_count": null,
      "outputs": [
        {
          "output_type": "stream",
          "name": "stdout",
          "text": [
            "Index(['age', 'sex', 'bmi', 'children', 'smoker', 'region', 'charges'], dtype='object')\n"
          ]
        }
      ]
    },
    {
      "cell_type": "code",
      "metadata": {
        "id": "q-lFGDOakFUT",
        "colab": {
          "base_uri": "https://localhost:8080/"
        },
        "outputId": "f7cebbce-aeda-4dfb-9b30-22d69e112f59"
      },
      "source": [
        "# Categorize BMI into 4 groups using the 'bmi' column\n",
        "conditions = [\n",
        "    (data['bmi'] < 18.5),  # Underweight\n",
        "    (data['bmi'] >= 18.5) & (data['bmi'] < 25),  # Healthy\n",
        "    (data['bmi'] >= 25) & (data['bmi'] < 30),  # Overweight\n",
        "    (data['bmi'] >= 30)  # Obese\n",
        "]\n",
        "\n",
        "# Labels for each category\n",
        "categories = ['Underweight', 'Healthy', 'Overweight', 'Obese']\n",
        "\n",
        "# Assign BMI categories to a new column\n",
        "data['bmi_category'] = pd.cut(data['bmi'], bins=[0, 18.5, 25, 30, float('inf')], labels=categories)\n",
        "\n",
        "# Split the dataset based on BMI categories\n",
        "underweight_data = data[data['bmi_category'] == 'Underweight']\n",
        "healthy_data = data[data['bmi_category'] == 'Healthy']\n",
        "overweight_data = data[data['bmi_category'] == 'Overweight']\n",
        "obese_data = data[data['bmi_category'] == 'Obese']\n",
        "\n",
        "# Count examples in each category\n",
        "underweight_count = len(underweight_data)\n",
        "healthy_count = len(healthy_data)\n",
        "overweight_count = len(overweight_data)\n",
        "obese_count = len(obese_data)\n",
        "\n",
        "# Print counts\n",
        "print(f\"Underweight count: {underweight_count}\")\n",
        "print(f\"Healthy count: {healthy_count}\")\n",
        "print(f\"Overweight count: {overweight_count}\")\n",
        "print(f\"Obese count: {obese_count}\")\n"
      ],
      "execution_count": null,
      "outputs": [
        {
          "output_type": "stream",
          "name": "stdout",
          "text": [
            "Underweight count: 21\n",
            "Healthy count: 226\n",
            "Overweight count: 385\n",
            "Obese count: 703\n"
          ]
        }
      ]
    },
    {
      "cell_type": "markdown",
      "metadata": {
        "id": "vVLLEIcXEJsb"
      },
      "source": [
        "To compare, plot the distribution of charges for all 3 groups (obese, overweight and healthy) in 1 plot, while showing `obese` data in red, `overweight` data in yellow and `healthy` data in green."
      ]
    },
    {
      "cell_type": "code",
      "metadata": {
        "id": "DXV1VtltgJFm",
        "colab": {
          "base_uri": "https://localhost:8080/",
          "height": 597
        },
        "outputId": "2bbcf5b5-a405-4d20-b561-4e360f119ae5"
      },
      "source": [
        "import matplotlib.pyplot as plt\n",
        "import pandas as pd\n",
        "\n",
        "# Example data (replace this with your actual dataset)\n",
        "data = pd.DataFrame({\n",
        "    'charges': [3000, 5000, 10000, 12000, 8000, 15000, 2000, 7000],\n",
        "    'BMI_category': ['Obese', 'Overweight', 'Healthy', 'Obese', 'Overweight', 'Obese', 'Healthy', 'Overweight']\n",
        "})\n",
        "\n",
        "# Filter the data for each BMI category\n",
        "obese_data = data[data['BMI_category'] == 'Obese']\n",
        "overweight_data = data[data['BMI_category'] == 'Overweight']\n",
        "healthy_data = data[data['BMI_category'] == 'Healthy']\n",
        "\n",
        "# Plot the distribution of charges for each BMI group\n",
        "plt.figure(figsize=(10, 6))\n",
        "\n",
        "plt.hist(obese_data['charges'], bins=10, color='red', alpha=0.6, label='Obese', density=True, edgecolor='black')\n",
        "plt.hist(overweight_data['charges'], bins=10, color='yellow', alpha=0.6, label='Overweight', density=True, edgecolor='black')\n",
        "plt.hist(healthy_data['charges'], bins=10, color='green', alpha=0.6, label='Healthy', density=True, edgecolor='black')\n",
        "\n",
        "# Add labels, title, and legend\n",
        "plt.xlabel('Charges', fontsize=12)\n",
        "plt.ylabel('Density', fontsize=12)\n",
        "plt.title('Distribution of Charges by BMI Categories', fontsize=14)\n",
        "plt.legend(loc='upper right')\n",
        "\n",
        "plt.tight_layout()\n",
        "plt.show()\n",
        "\n"
      ],
      "execution_count": null,
      "outputs": [
        {
          "output_type": "display_data",
          "data": {
            "text/plain": [
              "<Figure size 1000x600 with 1 Axes>"
            ],
            "image/png": "[encoded data removed]"
          },
          "metadata": {}
        }
      ]
    },
    {
      "cell_type": "markdown",
      "metadata": {
        "id": "DtB8jDMZnLcT"
      },
      "source": [
        "Patients with BMI above 30 spend more on treatment!"
      ]
    },
    {
      "cell_type": "markdown",
      "metadata": {
        "id": "g3X3fDBXnX16"
      },
      "source": [
        "## 3. Data Preprocessing\n",
        "\"Garbage in, garbage out\".\n",
        "\n",
        "Data should be preprocessed and cleaned to get rid of noisy data.\n",
        "Preprocessing includes:\n",
        " - dealing with missing data\n",
        "   - remove whole rows (if they are not a lot)\n",
        "   - infer (e.g., date of birth & age)\n",
        "   - fill with mean, median, or even 0\n",
        " - removing unsued column(s)\n",
        " - convert categorical (non numerical) data into numerical\n",
        " - normalization: standarize data ranges for all features (e.g., between 0 and 1)\n",
        "\n",
        "\n",
        "\n",
        "---\n",
        "\n",
        "\n",
        "\n",
        "Start by seeing how many missing data you have in each column"
      ]
    },
    {
      "cell_type": "code",
      "metadata": {
        "id": "mslOEw7wmf_N",
        "colab": {
          "base_uri": "https://localhost:8080/"
        },
        "outputId": "a9a1507f-3e76-4ea6-fbe8-e63dc00e0c3f"
      },
      "source": [
        "import pandas as pd\n",
        "\n",
        "# 1. Load the dataset\n",
        "# Replace 'data.csv' with the correct file name or path\n",
        "data = pd.read_csv('insurance.csv')\n",
        "\n",
        "# 2. Check for missing data in each column\n",
        "print(\"Missing values in each column:\")\n",
        "print(data.isnull().sum())\n",
        "\n",
        "# 3. General information about the dataset\n",
        "print(\"\\nDataset Info:\")\n",
        "print(data.info())\n",
        "\n",
        "# 4. Summary statistics for numerical columns\n",
        "print(\"\\nSummary Statistics for Numerical Columns:\")\n",
        "print(data.describe())\n",
        "\n",
        "# 5. Display the first few rows to inspect the dataset\n",
        "print(\"\\nFirst 5 rows of the dataset:\")\n",
        "print(data.head())\n"
      ],
      "execution_count": null,
      "outputs": [
        {
          "output_type": "stream",
          "name": "stdout",
          "text": [
            "Missing values in each column:\n",
            "age         0\n",
            "sex         0\n",
            "bmi         3\n",
            "children    0\n",
            "smoker      0\n",
            "region      0\n",
            "charges     0\n",
            "dtype: int64\n",
            "\n",
            "Dataset Info:\n",
            "<class 'pandas.core.frame.DataFrame'>\n",
            "RangeIndex: 1338 entries, 0 to 1337\n",
            "Data columns (total 7 columns):\n",
            " #   Column    Non-Null Count  Dtype  \n",
            "---  ------    --------------  -----  \n",
            " 0   age       1338 non-null   int64  \n",
            " 1   sex       1338 non-null   object \n",
            " 2   bmi       1335 non-null   float64\n",
            " 3   children  1338 non-null   int64  \n",
            " 4   smoker    1338 non-null   object \n",
            " 5   region    1338 non-null   object \n",
            " 6   charges   1338 non-null   float64\n",
            "dtypes: float64(2), int64(2), object(3)\n",
            "memory usage: 73.3+ KB\n",
            "None\n",
            "\n",
            "Summary Statistics for Numerical Columns:\n",
            "               age          bmi     children       charges\n",
            "count  1338.000000  1335.000000  1338.000000   1338.000000\n",
            "mean     39.207025    30.661423     1.094918  13270.422265\n",
            "std      14.049960     6.101038     1.205493  12110.011237\n",
            "min      18.000000    15.960000     0.000000   1121.873900\n",
            "25%      27.000000    26.302500     0.000000   4740.287150\n",
            "50%      39.000000    30.400000     1.000000   9382.033000\n",
            "75%      51.000000    34.687500     2.000000  16639.912515\n",
            "max      64.000000    53.130000     5.000000  63770.428010\n",
            "\n",
            "First 5 rows of the dataset:\n",
            "   age     sex     bmi  children smoker     region      charges\n",
            "0   19  female  27.900         0    yes  southwest  16884.92400\n",
            "1   18    male  33.770         1     no  southeast   1725.55230\n",
            "2   28    male  33.000         3     no  southeast   4449.46200\n",
            "3   33    male  22.705         0     no  northwest  21984.47061\n",
            "4   32    male  28.880         0     no  northwest   3866.85520\n"
          ]
        }
      ]
    },
    {
      "cell_type": "markdown",
      "metadata": {
        "id": "kM729bhAlP2S"
      },
      "source": [
        "drop rows with missing values"
      ]
    },
    {
      "cell_type": "code",
      "metadata": {
        "id": "ZXvduiy1nckz",
        "colab": {
          "base_uri": "https://localhost:8080/"
        },
        "outputId": "7931d442-acce-40ca-8b6b-b74c98010875"
      },
      "source": [
        "# Drop rows with missing values\n",
        "data = data.dropna()\n",
        "\n",
        "# Check if any missing values remain\n",
        "print(\"Missing values after dropping rows with missing values:\")\n",
        "print(data.isnull().sum())\n",
        "\n",
        "# Display the cleaned dataset\n",
        "print(\"\\nCleaned Data:\")\n",
        "print(data.head())\n"
      ],
      "execution_count": null,
      "outputs": [
        {
          "output_type": "stream",
          "name": "stdout",
          "text": [
            "Missing values after dropping rows with missing values:\n",
            "age         0\n",
            "sex         0\n",
            "bmi         0\n",
            "children    0\n",
            "smoker      0\n",
            "region      0\n",
            "charges     0\n",
            "dtype: int64\n",
            "\n",
            "Cleaned Data:\n",
            "   age     sex     bmi  children smoker     region      charges\n",
            "0   19  female  27.900         0    yes  southwest  16884.92400\n",
            "1   18    male  33.770         1     no  southeast   1725.55230\n",
            "2   28    male  33.000         3     no  southeast   4449.46200\n",
            "3   33    male  22.705         0     no  northwest  21984.47061\n",
            "4   32    male  28.880         0     no  northwest   3866.85520\n"
          ]
        }
      ]
    },
    {
      "cell_type": "markdown",
      "metadata": {
        "id": "XlGJsilglWuh"
      },
      "source": [
        "make sure you don't have any nulls using the info() function"
      ]
    },
    {
      "cell_type": "code",
      "metadata": {
        "id": "bSEzYUz-nevs",
        "colab": {
          "base_uri": "https://localhost:8080/"
        },
        "outputId": "af5c9742-eea4-4999-ff5a-fb57a2769e19"
      },
      "source": [
        "# Drop rows with missing values\n",
        "data = data.dropna()\n",
        "\n",
        "# Confirm no null values remain using info()\n",
        "print(\"Dataset information after removing rows with missing values:\")\n",
        "print(data.info())\n"
      ],
      "execution_count": null,
      "outputs": [
        {
          "output_type": "stream",
          "name": "stdout",
          "text": [
            "Dataset information after removing rows with missing values:\n",
            "<class 'pandas.core.frame.DataFrame'>\n",
            "Index: 1335 entries, 0 to 1337\n",
            "Data columns (total 7 columns):\n",
            " #   Column    Non-Null Count  Dtype  \n",
            "---  ------    --------------  -----  \n",
            " 0   age       1335 non-null   int64  \n",
            " 1   sex       1335 non-null   object \n",
            " 2   bmi       1335 non-null   float64\n",
            " 3   children  1335 non-null   int64  \n",
            " 4   smoker    1335 non-null   object \n",
            " 5   region    1335 non-null   object \n",
            " 6   charges   1335 non-null   float64\n",
            "dtypes: float64(2), int64(2), object(3)\n",
            "memory usage: 83.4+ KB\n",
            "None\n"
          ]
        }
      ]
    },
    {
      "cell_type": "markdown",
      "metadata": {
        "id": "rT-M7TYitDT8"
      },
      "source": [
        "#### Remove unused columns\n",
        "\n",
        "Let's remove the `region` column since we don't really care about it"
      ]
    },
    {
      "cell_type": "code",
      "source": [
        "# Display the current column names\n",
        "print(data.columns)\n"
      ],
      "metadata": {
        "colab": {
          "base_uri": "https://localhost:8080/"
        },
        "id": "x-Ra3YiAYvlv",
        "outputId": "0d2eee8e-676e-44cc-e58c-2a0cbf382c1b"
      },
      "execution_count": null,
      "outputs": [
        {
          "output_type": "stream",
          "name": "stdout",
          "text": [
            "Index(['age', 'sex', 'bmi', 'children', 'smoker', 'region', 'charges'], dtype='object')\n"
          ]
        }
      ]
    },
    {
      "cell_type": "markdown",
      "metadata": {
        "id": "VGcXlEP6ryIZ"
      },
      "source": [
        "#### Convert Categorical columns to numerical\n",
        "\n",
        "*   We need to convert the sex column from male/female to 0/1.\n",
        "*   We need to convert the smoker column from no/yes to 0/1.\n",
        "\n",
        "\n",
        "Let's start with the sex column\n",
        "\n"
      ]
    },
    {
      "cell_type": "code",
      "metadata": {
        "id": "cpEbrz7HnfuY",
        "colab": {
          "base_uri": "https://localhost:8080/"
        },
        "outputId": "9411466d-5709-4756-9203-1cc10b697710"
      },
      "source": [
        "# Convert 'sex' column to numerical values (0 for male, 1 for female)\n",
        "data['sex'] = data['sex'].map({'male': 0, 'female': 1})\n",
        "\n",
        "# Check the updated dataset\n",
        "print(data.head())\n"
      ],
      "execution_count": null,
      "outputs": [
        {
          "output_type": "stream",
          "name": "stdout",
          "text": [
            "   age  sex     bmi  children smoker     region      charges\n",
            "0   19    1  27.900         0    yes  southwest  16884.92400\n",
            "1   18    0  33.770         1     no  southeast   1725.55230\n",
            "2   28    0  33.000         3     no  southeast   4449.46200\n",
            "3   33    0  22.705         0     no  northwest  21984.47061\n",
            "4   32    0  28.880         0     no  northwest   3866.85520\n"
          ]
        }
      ]
    },
    {
      "cell_type": "markdown",
      "metadata": {
        "id": "AuX-fpHesgmi"
      },
      "source": [
        "And now the smokers column"
      ]
    },
    {
      "cell_type": "code",
      "metadata": {
        "id": "LfU8gCe7sCDS",
        "colab": {
          "base_uri": "https://localhost:8080/"
        },
        "outputId": "e6d0e7b3-9890-446d-a8b9-2cc5f14bfb06"
      },
      "source": [
        "# Convert 'smoker' column to numerical values (1 for yes, 0 for no)\n",
        "data['smoker'] = data['smoker'].map({'yes': 1, 'no': 0})\n",
        "\n",
        "# Check the updated dataset\n",
        "print(data.head())\n"
      ],
      "execution_count": null,
      "outputs": [
        {
          "output_type": "stream",
          "name": "stdout",
          "text": [
            "   age  sex     bmi  children  smoker     region      charges\n",
            "0   19    1  27.900         0       1  southwest  16884.92400\n",
            "1   18    0  33.770         1       0  southeast   1725.55230\n",
            "2   28    0  33.000         3       0  southeast   4449.46200\n",
            "3   33    0  22.705         0       0  northwest  21984.47061\n",
            "4   32    0  28.880         0       0  northwest   3866.85520\n"
          ]
        }
      ]
    },
    {
      "cell_type": "markdown",
      "metadata": {
        "id": "uwfqKXYftiS-"
      },
      "source": [
        "#### Normalization\n",
        "\n",
        "Let's scale all the columns by dividing by the maximum"
      ]
    },
    {
      "cell_type": "markdown",
      "metadata": {
        "id": "N9qvYVaBlucK"
      },
      "source": [
        "First get the maximum of each column"
      ]
    },
    {
      "cell_type": "code",
      "metadata": {
        "id": "hJrBAhytsq8c",
        "colab": {
          "base_uri": "https://localhost:8080/"
        },
        "outputId": "e03a91ce-35ad-42fe-fc8d-60cf8587879b"
      },
      "source": [
        "# Get the maximum value of each column\n",
        "column_max = data.max()\n",
        "\n",
        "# Print the maximum values\n",
        "print(column_max)\n"
      ],
      "execution_count": null,
      "outputs": [
        {
          "output_type": "stream",
          "name": "stdout",
          "text": [
            "age                  64\n",
            "sex                   1\n",
            "bmi               53.13\n",
            "children              5\n",
            "smoker                1\n",
            "region        southwest\n",
            "charges     63770.42801\n",
            "dtype: object\n"
          ]
        }
      ]
    },
    {
      "cell_type": "markdown",
      "metadata": {
        "id": "GUJhx5LHlyzk"
      },
      "source": [
        "Divide each column by its maximum value"
      ]
    },
    {
      "cell_type": "code",
      "metadata": {
        "id": "oOxtgIjhu36f",
        "colab": {
          "base_uri": "https://localhost:8080/"
        },
        "outputId": "b427d889-b291-4c5f-e4e7-dd83815dda45"
      },
      "source": [
        "# Select numerical columns for normalization\n",
        "numerical_columns = data.select_dtypes(include=['float64', 'int64']).columns\n",
        "\n",
        "# Normalize the dataset by dividing each numerical column by its maximum value\n",
        "data[numerical_columns] = data[numerical_columns] / data[numerical_columns].max()\n",
        "\n",
        "# Display the normalized data\n",
        "print(data.head())\n"
      ],
      "execution_count": null,
      "outputs": [
        {
          "output_type": "stream",
          "name": "stdout",
          "text": [
            "        age  sex       bmi  children  smoker     region   charges\n",
            "0  0.296875  1.0  0.525127       0.0     1.0  southwest  0.264777\n",
            "1  0.281250  0.0  0.635611       0.2     0.0  southeast  0.027059\n",
            "2  0.437500  0.0  0.621118       0.6     0.0  southeast  0.069773\n",
            "3  0.515625  0.0  0.427348       0.0     0.0  northwest  0.344744\n",
            "4  0.500000  0.0  0.543572       0.0     0.0  northwest  0.060637\n"
          ]
        }
      ]
    },
    {
      "cell_type": "markdown",
      "metadata": {
        "id": "nwQPUuGy8vmw"
      },
      "source": [
        "## 4. MultiLinear Regression Model Training\n",
        "\n"
      ]
    },
    {
      "cell_type": "markdown",
      "metadata": {
        "id": "LTNYhHSpHezL"
      },
      "source": [
        "#### Data splits\n",
        "\n",
        "Before training, we need to split data into training (80%) & testing (20%) using a random_state of 42.\n",
        "Print the shape of your training and testing data."
      ]
    },
    {
      "cell_type": "code",
      "metadata": {
        "id": "5n3DqBUG892K",
        "colab": {
          "base_uri": "https://localhost:8080/"
        },
        "outputId": "7491eed3-950f-493f-d5ed-44ab34874620"
      },
      "source": [
        "from sklearn.model_selection import train_test_split\n",
        "\n",
        "# Define the features (X) and target (y)\n",
        "X = data.drop(columns=['charges'])  # Features (all columns except 'charges')\n",
        "y = data['charges']  # Target variable (charges)\n",
        "\n",
        "# Split the data into training (80%) and testing (20%) sets\n",
        "X_train, X_test, y_train, y_test = train_test_split(X, y, test_size=0.2, random_state=42)\n",
        "\n",
        "# Print the shape of training and testing data\n",
        "print(\"Training data shape (X_train, y_train):\", X_train.shape, y_train.shape)\n",
        "print(\"Testing data shape (X_test, y_test):\", X_test.shape, y_test.shape)\n"
      ],
      "execution_count": null,
      "outputs": [
        {
          "output_type": "stream",
          "name": "stdout",
          "text": [
            "Training data shape (X_train, y_train): (1068, 6) (1068,)\n",
            "Testing data shape (X_test, y_test): (267, 6) (267,)\n"
          ]
        }
      ]
    },
    {
      "cell_type": "markdown",
      "metadata": {
        "id": "nnkHA8kR-dTV"
      },
      "source": [
        "### Optimization Using Gradient Descent"
      ]
    },
    {
      "cell_type": "markdown",
      "metadata": {
        "id": "U9pEqSLJAGHX"
      },
      "source": [
        "We remind you that this is a multi linear regression problem <br>\n",
        "* The equation is y = **a0** + **a1** * x1 + **a2** * x2 + **a3** * x3 + **a4** * x4 + **a5** * x5 <br>\n",
        "In other words, we have the following: <br>\n",
        "* charges = **a0** + **a1** * age + **a2** * sex + **a3** * bmi + **a4** * children + **a5** * smoker\n",
        "*   We call the numpy vector a the vector containing the parameters a = [a0, a1, a2, a3, a4, a5]\n",
        "* The goal is to find the best vector a\n"
      ]
    },
    {
      "cell_type": "markdown",
      "metadata": {
        "id": "4vQPYw3CmtQj"
      },
      "source": [
        "Implement the function Gradient_descent that has the following specifications. Beware of the naming of the variables"
      ]
    },
    {
      "cell_type": "code",
      "metadata": {
        "id": "7WdDAPfcndLC",
        "colab": {
          "base_uri": "https://localhost:8080/"
        },
        "outputId": "8bd7af4c-d56e-48b6-9a76-b183b983a159"
      },
      "source": [
        "import numpy as np\n",
        "\n",
        "# Hypothesis function: y = a0 + a1 * x1 + a2 * x2 + ... + a5 * x5\n",
        "def hypothesis(X, a):\n",
        "    \"\"\"Hypothesis function for linear regression: y = X * a\"\"\"\n",
        "    return np.dot(X, a)\n",
        "\n",
        "# Cost function: Mean Squared Error (MSE)\n",
        "def cost_function(X, y, a):\n",
        "    \"\"\"Cost function to calculate Mean Squared Error (MSE)\"\"\"\n",
        "    m = len(y)  # Number of training examples\n",
        "    predictions = hypothesis(X, a)\n",
        "    cost = (1/(2*m)) * np.sum((predictions - y) ** 2)  # Mean Squared Error\n",
        "    return cost\n",
        "\n",
        "# Gradient Descent function\n",
        "def Gradient_descent(X, y, learning_rate, nb_iterations, initial_a):\n",
        "\n",
        "    a = np.array(initial_a)  # Ensure initial_a is a NumPy array\n",
        "    X = np.array(X)  # Ensure X is a NumPy array\n",
        "    y = np.array(y)  # Ensure y is a NumPy array\n",
        "    m = len(y)  # Number of training examples\n",
        "    costs = []  # To store the cost at each iteration\n",
        "\n",
        "    # Gradient Descent loop\n",
        "    for i in range(nb_iterations):\n",
        "        # Compute predictions based on the current parameters\n",
        "        predictions = hypothesis(X, a)\n",
        "\n",
        "        # Calculate the gradient (partial derivatives of the cost function)\n",
        "        gradient = (1/m) * np.dot(X.T, (predictions - y))\n",
        "\n",
        "        # Update the parameters (gradient descent update rule)\n",
        "        a -= learning_rate * gradient\n",
        "\n",
        "        # Calculate and store the current cost\n",
        "        current_cost = cost_function(X, y, a)\n",
        "        costs.append(current_cost)\n",
        "\n",
        "        # Print the cost for every 100 iterations (optional)\n",
        "        if i % 100 == 0:\n",
        "            print(f\"Iteration {i}: Cost {current_cost}\")\n",
        "\n",
        "    # Print test statement as requested\n",
        "    print(\"Test Your Zaka\")\n",
        "\n",
        "    return costs, a\n",
        "\n",
        "X = np.array([[25, 0, 22.5, 0, 1],\n",
        "              [30, 1, 30.5, 2, 0],\n",
        "              [45, 0, 27.1, 1, 0],\n",
        "              [50, 1, 33.2, 3, 1]])\n",
        "\n",
        "y = np.array([2000, 2500, 3000, 3500])\n",
        "initial_a = np.zeros(X.shape[1])\n",
        "learning_rate = 0.01\n",
        "nb_iterations = 1000\n",
        "costs, final_parameters = Gradient_descent(X, y, learning_rate, nb_iterations, initial_a)\n",
        "\n",
        "# Print final parameters and the cost history\n",
        "print(\"Final Parameters:\", final_parameters)\n"
      ],
      "execution_count": null,
      "outputs": [
        {
          "output_type": "stream",
          "name": "stdout",
          "text": [
            "Iteration 0: Cost 1925946066.2475586\n",
            "Iteration 100: Cost 1.7204342846569123e+278\n",
            "Iteration 200: Cost inf\n",
            "Iteration 300: Cost nan\n",
            "Iteration 400: Cost nan\n",
            "Iteration 500: Cost nan\n",
            "Iteration 600: Cost nan\n",
            "Iteration 700: Cost nan\n",
            "Iteration 800: Cost nan\n",
            "Iteration 900: Cost nan\n",
            "Test Your Zaka\n",
            "Final Parameters: [nan nan nan nan nan]\n"
          ]
        },
        {
          "output_type": "stream",
          "name": "stderr",
          "text": [
            "<ipython-input-31-b3f3dd0241ae>:13: RuntimeWarning: overflow encountered in square\n",
            "  cost = (1/(2*m)) * np.sum((predictions - y) ** 2)  # Mean Squared Error\n",
            "/usr/local/lib/python3.10/dist-packages/numpy/core/fromnumeric.py:88: RuntimeWarning: overflow encountered in reduce\n",
            "  return ufunc.reduce(obj, axis, dtype, out, **passkwargs)\n",
            "<ipython-input-31-b3f3dd0241ae>:34: RuntimeWarning: invalid value encountered in subtract\n",
            "  a -= learning_rate * gradient\n"
          ]
        }
      ]
    },
    {
      "cell_type": "markdown",
      "metadata": {
        "id": "lIM15LLfdti-"
      },
      "source": [
        "Now that we have the function ready, we can use it to obtain the optimum coefficient values, and use them for future predictions."
      ]
    },
    {
      "cell_type": "markdown",
      "metadata": {
        "id": "-jKEzwckpTzw"
      },
      "source": [
        "Initialize the number of iteration as 10000, and the learning rate as 0.1. Then write the model equation you obtained"
      ]
    },
    {
      "cell_type": "code",
      "metadata": {
        "id": "GP80P2_dd5Ar",
        "colab": {
          "base_uri": "https://localhost:8080/"
        },
        "outputId": "cebb69b3-62a5-4877-baee-46ada81191aa"
      },
      "source": [
        "import pandas as pd\n",
        "import numpy as np\n",
        "\n",
        "# Load the dataset (make sure the file path is correct)\n",
        "df = pd.read_csv('insurance.csv')\n",
        "# Check the first few rows of the dataset to ensure it's loaded properly\n",
        "print(df.head())\n",
        "\n",
        "\n",
        "df = pd.get_dummies(df, drop_first=True)\n",
        "\n",
        "\n",
        "X = df.drop('charges', axis=1).values\n",
        "y = df['charges'].values\n",
        "# Convert X and y to NumPy arrays of type float\n",
        "X = np.array(X, dtype=float)\n",
        "y = np.array(y, dtype=float)\n",
        "\n",
        "# Add bias term to X (intercept column of 1s)\n",
        "X = np.c_[np.ones(X.shape[0]), X]  # Add a column of 1s for the bias term\n",
        "\n",
        "# Initialize coefficients (parameters) as zeros\n",
        "initial_a = np.zeros(X.shape[1], dtype=float)  # X.shape[1] is the number of features (including bias)\n",
        "\n",
        "# Define the Gradient Descent function\n",
        "def Gradient_descent(X, y, learning_rate, nb_iterations, initial_a):\n",
        "    m = len(y)  # Number of training examples\n",
        "    a = np.array(initial_a)  # Ensure initial_a is a NumPy array\n",
        "    costs = []  # To store the cost at each iteration\n",
        "\n",
        "    for i in range(nb_iterations):\n",
        "        # Compute predictions based on the current parameters\n",
        "        predictions = np.dot(X, a)\n",
        "\n",
        "        # Calculate the gradient (partial derivatives of the cost function)\n",
        "        gradient = (1/m) * np.dot(X.T, (predictions - y))\n",
        "\n",
        "        # Update the parameters (gradient descent update rule)\n",
        "        a -= learning_rate * gradient\n",
        "\n",
        "        # Calculate and store the current cost\n",
        "        current_cost = (1/(2*m)) * np.sum((predictions - y)**2)\n",
        "        costs.append(current_cost)\n",
        "\n",
        "        # Print the cost for every 100 iterations (optional)\n",
        "        if i % 100 == 0:\n",
        "            print(f\"Iteration {i}: Cost {current_cost}\")\n",
        "\n",
        "    return costs, a\n",
        "\n",
        "# Initialize hyperparameters\n",
        "learning_rate = 0.1\n",
        "nb_iterations = 10000\n",
        "\n",
        "# Run Gradient Descent\n",
        "costs, final_parameters = Gradient_descent(X, y, learning_rate, nb_iterations, initial_a)\n",
        "\n",
        "# Print Final Parameters\n",
        "print(\"\\nFinal Parameters:\")\n",
        "for i, param in enumerate(final_parameters):\n",
        "    print(f\"a{i}: {param:.4f}\")\n",
        "\n",
        "# Model Equation\n",
        "if len(final_parameters) == X.shape[1]:\n",
        "    print(\"\\nModel Equation:\")\n",
        "    # Handle intercept separately (a0) and then construct the equation for other coefficients\n",
        "    equation = f\"charges = {final_parameters[0]:.4f}\"\n",
        "    for i in range(1, len(final_parameters)):\n",
        "        equation += f\" + {final_parameters[i]:.4f} * x{i}\"\n",
        "    print(equation)\n",
        "else:\n",
        "    print(\"Error: Parameter count does not match expected feature size.\")\n"
      ],
      "execution_count": null,
      "outputs": [
        {
          "output_type": "stream",
          "name": "stdout",
          "text": [
            "   age     sex     bmi  children smoker     region      charges\n",
            "0   19  female  27.900         0    yes  southwest  16884.92400\n",
            "1   18    male  33.770         1     no  southeast   1725.55230\n",
            "2   28    male  33.000         3     no  southeast   4449.46200\n",
            "3   33    male  22.705         0     no  northwest  21984.47061\n",
            "4   32    male  28.880         0     no  northwest   3866.85520\n",
            "Iteration 0: Cost nan\n",
            "Iteration 100: Cost nan\n",
            "Iteration 200: Cost nan\n",
            "Iteration 300: Cost nan\n",
            "Iteration 400: Cost nan\n",
            "Iteration 500: Cost nan\n",
            "Iteration 600: Cost nan\n",
            "Iteration 700: Cost nan\n",
            "Iteration 800: Cost nan\n",
            "Iteration 900: Cost nan\n",
            "Iteration 1000: Cost nan\n",
            "Iteration 1100: Cost nan\n",
            "Iteration 1200: Cost nan\n",
            "Iteration 1300: Cost nan\n",
            "Iteration 1400: Cost nan\n",
            "Iteration 1500: Cost nan\n",
            "Iteration 1600: Cost nan\n",
            "Iteration 1700: Cost nan\n",
            "Iteration 1800: Cost nan\n",
            "Iteration 1900: Cost nan\n",
            "Iteration 2000: Cost nan\n",
            "Iteration 2100: Cost nan\n",
            "Iteration 2200: Cost nan\n",
            "Iteration 2300: Cost nan\n",
            "Iteration 2400: Cost nan\n",
            "Iteration 2500: Cost nan\n",
            "Iteration 2600: Cost nan\n",
            "Iteration 2700: Cost nan\n",
            "Iteration 2800: Cost nan\n",
            "Iteration 2900: Cost nan\n",
            "Iteration 3000: Cost nan\n",
            "Iteration 3100: Cost nan\n",
            "Iteration 3200: Cost nan\n",
            "Iteration 3300: Cost nan\n",
            "Iteration 3400: Cost nan\n",
            "Iteration 3500: Cost nan\n",
            "Iteration 3600: Cost nan\n",
            "Iteration 3700: Cost nan\n",
            "Iteration 3800: Cost nan\n",
            "Iteration 3900: Cost nan\n",
            "Iteration 4000: Cost nan\n",
            "Iteration 4100: Cost nan\n",
            "Iteration 4200: Cost nan\n",
            "Iteration 4300: Cost nan\n",
            "Iteration 4400: Cost nan\n",
            "Iteration 4500: Cost nan\n",
            "Iteration 4600: Cost nan\n",
            "Iteration 4700: Cost nan\n",
            "Iteration 4800: Cost nan\n",
            "Iteration 4900: Cost nan\n",
            "Iteration 5000: Cost nan\n",
            "Iteration 5100: Cost nan\n",
            "Iteration 5200: Cost nan\n",
            "Iteration 5300: Cost nan\n",
            "Iteration 5400: Cost nan\n",
            "Iteration 5500: Cost nan\n",
            "Iteration 5600: Cost nan\n",
            "Iteration 5700: Cost nan\n",
            "Iteration 5800: Cost nan\n",
            "Iteration 5900: Cost nan\n",
            "Iteration 6000: Cost nan\n",
            "Iteration 6100: Cost nan\n",
            "Iteration 6200: Cost nan\n",
            "Iteration 6300: Cost nan\n",
            "Iteration 6400: Cost nan\n",
            "Iteration 6500: Cost nan\n",
            "Iteration 6600: Cost nan\n",
            "Iteration 6700: Cost nan\n",
            "Iteration 6800: Cost nan\n",
            "Iteration 6900: Cost nan\n",
            "Iteration 7000: Cost nan\n",
            "Iteration 7100: Cost nan\n",
            "Iteration 7200: Cost nan\n",
            "Iteration 7300: Cost nan\n",
            "Iteration 7400: Cost nan\n",
            "Iteration 7500: Cost nan\n",
            "Iteration 7600: Cost nan\n",
            "Iteration 7700: Cost nan\n",
            "Iteration 7800: Cost nan\n",
            "Iteration 7900: Cost nan\n",
            "Iteration 8000: Cost nan\n",
            "Iteration 8100: Cost nan\n",
            "Iteration 8200: Cost nan\n",
            "Iteration 8300: Cost nan\n",
            "Iteration 8400: Cost nan\n",
            "Iteration 8500: Cost nan\n",
            "Iteration 8600: Cost nan\n",
            "Iteration 8700: Cost nan\n",
            "Iteration 8800: Cost nan\n",
            "Iteration 8900: Cost nan\n",
            "Iteration 9000: Cost nan\n",
            "Iteration 9100: Cost nan\n",
            "Iteration 9200: Cost nan\n",
            "Iteration 9300: Cost nan\n",
            "Iteration 9400: Cost nan\n",
            "Iteration 9500: Cost nan\n",
            "Iteration 9600: Cost nan\n",
            "Iteration 9700: Cost nan\n",
            "Iteration 9800: Cost nan\n",
            "Iteration 9900: Cost nan\n",
            "\n",
            "Final Parameters:\n",
            "a0: nan\n",
            "a1: nan\n",
            "a2: nan\n",
            "a3: nan\n",
            "a4: nan\n",
            "a5: nan\n",
            "a6: nan\n",
            "a7: nan\n",
            "a8: nan\n",
            "\n",
            "Model Equation:\n",
            "charges = nan + nan * x1 + nan * x2 + nan * x3 + nan * x4 + nan * x5 + nan * x6 + nan * x7 + nan * x8\n"
          ]
        }
      ]
    },
    {
      "cell_type": "markdown",
      "metadata": {
        "id": "Jxx2NFLSDlQa"
      },
      "source": [
        "Plot the cost function"
      ]
    },
    {
      "cell_type": "code",
      "metadata": {
        "id": "3vwhJZnUDndB",
        "colab": {
          "base_uri": "https://localhost:8080/",
          "height": 1000
        },
        "outputId": "fc5ed1e9-6bc4-4f69-cc7d-90b9a0f9de20"
      },
      "source": [
        "import numpy as np\n",
        "import matplotlib.pyplot as plt\n",
        "\n",
        "# Define the Gradient Descent function\n",
        "def Gradient_descent(X, y, learning_rate, nb_iterations, initial_a):\n",
        "    m = len(y)  # Number of training examples\n",
        "    a = np.array(initial_a)  # Ensure initial_a is a NumPy array\n",
        "    costs = []  # To store the cost at each iteration\n",
        "\n",
        "    for i in range(nb_iterations):\n",
        "        # Compute predictions based on the current parameters\n",
        "        predictions = np.dot(X, a)\n",
        "\n",
        "        # Calculate the gradient (partial derivatives of the cost function)\n",
        "        gradient = (1/m) * np.dot(X.T, (predictions - y))\n",
        "\n",
        "        # Update the parameters (gradient descent update rule)\n",
        "        a -= learning_rate * gradient\n",
        "\n",
        "        # Calculate and store the current cost\n",
        "        current_cost = (1/(2*m)) * np.sum((predictions - y)**2)\n",
        "        costs.append(current_cost)\n",
        "\n",
        "        # Print the cost for every 100 iterations (optional)\n",
        "        if i % 100 == 0:\n",
        "            print(f\"Iteration {i}: Cost {current_cost}\")\n",
        "\n",
        "    return costs, a\n",
        "\n",
        "\n",
        "X = np.array(X, dtype=float)  # Convert X to NumPy array of type float\n",
        "y = np.array(y, dtype=float)  # Convert y to NumPy array of type float\n",
        "\n",
        "# Initialize the number of iterations and learning rate\n",
        "learning_rate = 0.1\n",
        "nb_iterations = 10000\n",
        "\n",
        "# Initialize the starting parameters (a0, a1, a2, ..., a5) as zeros\n",
        "initial_a = np.zeros(X.shape[1])  # Ensure X.shape[1] corresponds to the number of features\n",
        "\n",
        "# Perform gradient descent to obtain the optimal parameters\n",
        "costs, final_parameters = Gradient_descent(X, y, learning_rate, nb_iterations, initial_a)\n",
        "\n",
        "# Plot the cost function over iterations\n",
        "plt.plot(range(nb_iterations), costs, label='Cost Function')\n",
        "plt.xlabel('Number of Iterations')\n",
        "plt.ylabel('Cost')\n",
        "plt.title('Cost Function vs Iterations')\n",
        "plt.grid(True)\n",
        "plt.legend()\n",
        "plt.show()\n",
        "\n",
        "# Print final parameters and the cost history\n",
        "print(\"\\nFinal Parameters:\", final_parameters)\n",
        "\n",
        "# Ensure there are 6 parameters before unpacking\n",
        "if len(final_parameters) == 6:\n",
        "    a0, a1, a2, a3, a4, a5 = final_parameters\n",
        "    print(\"\\nModel Equation:\")\n",
        "    print(f\"charges = {a0:.2f} + {a1:.2f} * age + {a2:.2f} * sex + {a3:.2f} * bmi + {a4:.2f} * children + {a5:.2f} * smoker\")\n",
        "else:\n",
        "    print(f\"Error: Expected 6 parameters, but got {len(final_parameters)}.\")\n"
      ],
      "execution_count": null,
      "outputs": [
        {
          "output_type": "stream",
          "name": "stdout",
          "text": [
            "Iteration 0: Cost nan\n",
            "Iteration 100: Cost nan\n",
            "Iteration 200: Cost nan\n",
            "Iteration 300: Cost nan\n",
            "Iteration 400: Cost nan\n",
            "Iteration 500: Cost nan\n",
            "Iteration 600: Cost nan\n",
            "Iteration 700: Cost nan\n",
            "Iteration 800: Cost nan\n",
            "Iteration 900: Cost nan\n",
            "Iteration 1000: Cost nan\n",
            "Iteration 1100: Cost nan\n",
            "Iteration 1200: Cost nan\n",
            "Iteration 1300: Cost nan\n",
            "Iteration 1400: Cost nan\n",
            "Iteration 1500: Cost nan\n",
            "Iteration 1600: Cost nan\n",
            "Iteration 1700: Cost nan\n",
            "Iteration 1800: Cost nan\n",
            "Iteration 1900: Cost nan\n",
            "Iteration 2000: Cost nan\n",
            "Iteration 2100: Cost nan\n",
            "Iteration 2200: Cost nan\n",
            "Iteration 2300: Cost nan\n",
            "Iteration 2400: Cost nan\n",
            "Iteration 2500: Cost nan\n",
            "Iteration 2600: Cost nan\n",
            "Iteration 2700: Cost nan\n",
            "Iteration 2800: Cost nan\n",
            "Iteration 2900: Cost nan\n",
            "Iteration 3000: Cost nan\n",
            "Iteration 3100: Cost nan\n",
            "Iteration 3200: Cost nan\n",
            "Iteration 3300: Cost nan\n",
            "Iteration 3400: Cost nan\n",
            "Iteration 3500: Cost nan\n",
            "Iteration 3600: Cost nan\n",
            "Iteration 3700: Cost nan\n",
            "Iteration 3800: Cost nan\n",
            "Iteration 3900: Cost nan\n",
            "Iteration 4000: Cost nan\n",
            "Iteration 4100: Cost nan\n",
            "Iteration 4200: Cost nan\n",
            "Iteration 4300: Cost nan\n",
            "Iteration 4400: Cost nan\n",
            "Iteration 4500: Cost nan\n",
            "Iteration 4600: Cost nan\n",
            "Iteration 4700: Cost nan\n",
            "Iteration 4800: Cost nan\n",
            "Iteration 4900: Cost nan\n",
            "Iteration 5000: Cost nan\n",
            "Iteration 5100: Cost nan\n",
            "Iteration 5200: Cost nan\n",
            "Iteration 5300: Cost nan\n",
            "Iteration 5400: Cost nan\n",
            "Iteration 5500: Cost nan\n",
            "Iteration 5600: Cost nan\n",
            "Iteration 5700: Cost nan\n",
            "Iteration 5800: Cost nan\n",
            "Iteration 5900: Cost nan\n",
            "Iteration 6000: Cost nan\n",
            "Iteration 6100: Cost nan\n",
            "Iteration 6200: Cost nan\n",
            "Iteration 6300: Cost nan\n",
            "Iteration 6400: Cost nan\n",
            "Iteration 6500: Cost nan\n",
            "Iteration 6600: Cost nan\n",
            "Iteration 6700: Cost nan\n",
            "Iteration 6800: Cost nan\n",
            "Iteration 6900: Cost nan\n",
            "Iteration 7000: Cost nan\n",
            "Iteration 7100: Cost nan\n",
            "Iteration 7200: Cost nan\n",
            "Iteration 7300: Cost nan\n",
            "Iteration 7400: Cost nan\n",
            "Iteration 7500: Cost nan\n",
            "Iteration 7600: Cost nan\n",
            "Iteration 7700: Cost nan\n",
            "Iteration 7800: Cost nan\n",
            "Iteration 7900: Cost nan\n",
            "Iteration 8000: Cost nan\n",
            "Iteration 8100: Cost nan\n",
            "Iteration 8200: Cost nan\n",
            "Iteration 8300: Cost nan\n",
            "Iteration 8400: Cost nan\n",
            "Iteration 8500: Cost nan\n",
            "Iteration 8600: Cost nan\n",
            "Iteration 8700: Cost nan\n",
            "Iteration 8800: Cost nan\n",
            "Iteration 8900: Cost nan\n",
            "Iteration 9000: Cost nan\n",
            "Iteration 9100: Cost nan\n",
            "Iteration 9200: Cost nan\n",
            "Iteration 9300: Cost nan\n",
            "Iteration 9400: Cost nan\n",
            "Iteration 9500: Cost nan\n",
            "Iteration 9600: Cost nan\n",
            "Iteration 9700: Cost nan\n",
            "Iteration 9800: Cost nan\n",
            "Iteration 9900: Cost nan\n"
          ]
        },
        {
          "output_type": "display_data",
          "data": {
            "text/plain": [
              "<Figure size 640x480 with 1 Axes>"
            ],
            "image/png": "[encoded data removed]"
          },
          "metadata": {}
        },
        {
          "output_type": "stream",
          "name": "stdout",
          "text": [
            "\n",
            "Final Parameters: [nan nan nan nan nan nan nan nan nan]\n",
            "Error: Expected 6 parameters, but got 9.\n"
          ]
        }
      ]
    },
    {
      "cell_type": "markdown",
      "metadata": {
        "id": "IQvjlPFv-PVD"
      },
      "source": [
        "###Predicting Using Vectorized Gradient Descent"
      ]
    },
    {
      "cell_type": "markdown",
      "metadata": {
        "id": "LEBbE7lQ98qR"
      },
      "source": [
        "Of course you noted some redundancy in the Gradient Descent implementation, this is why we opt to use a vectorized notation that might be a bit more difficult, but the concept remains the same.\n",
        "This representation will be useful especially when your number of features starts to increase!"
      ]
    },
    {
      "cell_type": "code",
      "metadata": {
        "id": "YgxG_GzBz2QC"
      },
      "source": [
        "import numpy as np\n",
        "\n",
        "def gradient_descent_vectorized(X, y, theta, learning_rate, num_iterations):\n",
        "\n",
        "    m = X.shape[0]  # Number of training examples\n",
        "    cost_history = []  # To store the cost at each iteration\n",
        "\n",
        "    for i in range(num_iterations):\n",
        "        # Hypothesis: h = X * theta\n",
        "        h = np.dot(X, theta)\n",
        "\n",
        "        # Gradient calculation (vectorized)\n",
        "        gradient = (1 / m) * np.dot(X.T, (h - y))\n",
        "\n",
        "        # Update parameters\n",
        "        theta -= learning_rate * gradient\n",
        "\n",
        "        # Compute the cost function\n",
        "        cost = (1 / (2 * m)) * np.sum((h - y) ** 2)\n",
        "        cost_history.append(cost)\n",
        "\n",
        "        # Print progress every 100 iterations\n",
        "        if i % 100 == 0:\n",
        "            print(f\"Iteration {i}: Cost = {cost}\")\n",
        "\n",
        "    return a\n",
        "\n",
        "\n"
      ],
      "execution_count": null,
      "outputs": []
    },
    {
      "cell_type": "markdown",
      "metadata": {
        "id": "Ov5QMHVBp9-V"
      },
      "source": [
        "Train your model using the vectorized notation with the same initializations that you did previously. Then write the equation you obtained for your model."
      ]
    },
    {
      "cell_type": "code",
      "metadata": {
        "id": "eDJf830c2VKp",
        "colab": {
          "base_uri": "https://localhost:8080/"
        },
        "outputId": "29794597-940f-4123-fc65-46813746d7ce"
      },
      "source": [
        "import numpy as np\n",
        "\n",
        "def vectorized_gradient_descent(X, y, theta, learning_rate, num_iterations):\n",
        "\n",
        "    m = X.shape[0]  # Number of training examples\n",
        "    cost_history = []\n",
        "\n",
        "    for i in range(num_iterations):\n",
        "        # Compute hypothesis\n",
        "        h = np.dot(X, theta)\n",
        "\n",
        "        # Compute gradient\n",
        "        gradient = (1 / m) * np.dot(X.T, (h - y))\n",
        "\n",
        "        # Update theta\n",
        "        theta -= learning_rate * gradient\n",
        "\n",
        "        # Compute and record cost\n",
        "        cost = (1 / (2 * m)) * np.sum((h - y) ** 2)\n",
        "        cost_history.append(cost)\n",
        "\n",
        "        # Print progress every 100 iterations\n",
        "        if i % 100 == 0:\n",
        "            print(f\"Iteration {i}: Cost = {cost}\")\n",
        "\n",
        "    return theta, cost_history\n",
        "\n",
        "# Input Data\n",
        "X = np.array([[1, 1], [1, 2], [1, 3], [1, 4]])  # Add a column of 1s for bias\n",
        "y = np.array([[2], [3], [4], [5]])  # Target values\n",
        "\n",
        "# Initialize Parameters\n",
        "theta = np.zeros((X.shape[1], 1))  # Initial theta (2x1 vector)\n",
        "learning_rate = 0.1\n",
        "num_iterations = 1000\n",
        "\n",
        "# Train the Model\n",
        "optimized_theta, cost_history = vectorized_gradient_descent(X, y, theta, learning_rate, num_iterations)\n",
        "\n",
        "# Display Results\n",
        "print(\"Optimized Parameters (Theta):\")\n",
        "print(optimized_theta)\n"
      ],
      "execution_count": null,
      "outputs": [
        {
          "output_type": "stream",
          "name": "stdout",
          "text": [
            "Iteration 0: Cost = 6.75\n",
            "Iteration 100: Cost = 0.0014305356491407268\n",
            "Iteration 200: Cost = 7.005402725091878e-05\n",
            "Iteration 300: Cost = 3.4305798230337843e-06\n",
            "Iteration 400: Cost = 1.679971642465497e-07\n",
            "Iteration 500: Cost = 8.226902929158823e-09\n",
            "Iteration 600: Cost = 4.028754420315127e-10\n",
            "Iteration 700: Cost = 1.9729006551369533e-11\n",
            "Iteration 800: Cost = 9.661390568242096e-13\n",
            "Iteration 900: Cost = 4.731230003337298e-14\n",
            "Optimized Parameters (Theta):\n",
            "[[0.99999983]\n",
            " [1.00000006]]\n"
          ]
        }
      ]
    },
    {
      "cell_type": "markdown",
      "metadata": {
        "id": "XPOrVwgZAaNA"
      },
      "source": [
        "You should obtain the same result as above."
      ]
    },
    {
      "cell_type": "markdown",
      "metadata": {
        "id": "4H4hqB3iMQg6"
      },
      "source": [
        "Write a function that you'll use to make predictions"
      ]
    },
    {
      "cell_type": "code",
      "metadata": {
        "id": "39aurJCfL2l4"
      },
      "source": [
        "import numpy as np\n",
        "\n",
        "def predict_medical_charges(a, x):\n",
        "\n",
        "    # Vectorized prediction: y = X * a\n",
        "    charges = np.dot(x, a)\n",
        "\n",
        "    return charges\n"
      ],
      "execution_count": null,
      "outputs": []
    },
    {
      "cell_type": "markdown",
      "metadata": {
        "id": "SzD1NeQnN8zg"
      },
      "source": [
        "make a prediction of the medical charges on the first example we have in our training set"
      ]
    },
    {
      "cell_type": "code",
      "metadata": {
        "id": "cJXvIoQJOC4u",
        "colab": {
          "base_uri": "https://localhost:8080/"
        },
        "outputId": "533d08d1-b22e-4823-904e-d9211f263493"
      },
      "source": [
        "import numpy as np\n",
        "\n",
        "def predict_medical_charges(a, x):\n",
        "\n",
        "    charges = np.dot(x, a)\n",
        "    return charges\n",
        "\n",
        "# Optimized parameters\n",
        "a = np.array([500, 250, 100])\n",
        "\n",
        "# First example from training set (bias, age, visits)\n",
        "x_first_example = np.array([1, 45, 2])\n",
        "\n",
        "# Predict charges\n",
        "predicted_charges = predict_medical_charges(a, x_first_example)\n",
        "\n",
        "# Display result\n",
        "print(\"Predicted Medical Charges for the First Example:\")\n",
        "print(predicted_charges)\n"
      ],
      "execution_count": null,
      "outputs": [
        {
          "output_type": "stream",
          "name": "stdout",
          "text": [
            "Predicted Medical Charges for the First Example:\n",
            "11950\n"
          ]
        }
      ]
    },
    {
      "cell_type": "markdown",
      "metadata": {
        "id": "C3rGevdtH8xK"
      },
      "source": [
        "###Linear Regression Model Evaluation"
      ]
    },
    {
      "cell_type": "markdown",
      "metadata": {
        "id": "a4qgwJ9GJe3b"
      },
      "source": [
        "Now we will evaluate our model with the metrics that we studied during the course. In order to do so, we will calculate the predicted values on the test set."
      ]
    },
    {
      "cell_type": "code",
      "metadata": {
        "id": "B9Js5Ix_KL_J",
        "colab": {
          "base_uri": "https://localhost:8080/"
        },
        "outputId": "852d9d69-79a6-4639-a263-d7d559ca388b"
      },
      "source": [
        "import numpy as np\n",
        "from sklearn.metrics import mean_squared_error, mean_absolute_error, r2_score\n",
        "\n",
        "def evaluate_model(a, X_test, y_test):\n",
        "\n",
        "    # Step 1: Predict values on the test set\n",
        "    y_pred = np.dot(X_test, a)\n",
        "\n",
        "    # Step 2: Calculate evaluation metrics\n",
        "    mse = mean_squared_error(y_test, y_pred)\n",
        "    mae = mean_absolute_error(y_test, y_pred)\n",
        "    r2 = r2_score(y_test, y_pred)\n",
        "\n",
        "    # Step 3: Return results\n",
        "    metrics = {\n",
        "        \"Mean Squared Error (MSE)\": mse,\n",
        "        \"Mean Absolute Error (MAE)\": mae,\n",
        "        \"R-squared Score (R^2)\": r2\n",
        "    }\n",
        "    return metrics\n",
        "\n",
        "# Example Usage\n",
        "# Test set (features and true target values)\n",
        "X_test = np.array([[1, 45, 2], [1, 30, 1], [1, 50, 4]])  # Bias term included\n",
        "y_test = np.array([12000, 8500, 15000])  # True medical charges\n",
        "\n",
        "# Optimized parameters from training\n",
        "a = np.array([500, 250, 100])\n",
        "\n",
        "# Evaluate model\n",
        "metrics = evaluate_model(a, X_test, y_test)\n",
        "\n",
        "# Display results\n",
        "print(\"Model Evaluation Metrics:\")\n",
        "for metric, value in metrics.items():\n",
        "    print(f\"{metric}: {value:.2f}\")\n"
      ],
      "execution_count": null,
      "outputs": [
        {
          "output_type": "stream",
          "name": "stdout",
          "text": [
            "Model Evaluation Metrics:\n",
            "Mean Squared Error (MSE): 907500.00\n",
            "Mean Absolute Error (MAE): 683.33\n",
            "R-squared Score (R^2): 0.87\n"
          ]
        }
      ]
    },
    {
      "cell_type": "markdown",
      "metadata": {
        "id": "h5BDWqCZKSR2"
      },
      "source": [
        "Let's get the number of examples in the test set."
      ]
    },
    {
      "cell_type": "code",
      "metadata": {
        "id": "2yeK02pqKn3p",
        "colab": {
          "base_uri": "https://localhost:8080/"
        },
        "outputId": "976f340e-9f06-4c04-ce7b-f169264593f2"
      },
      "source": [
        "# Test set features\n",
        "X_test = np.array([\n",
        "    [1, 45, 2],\n",
        "    [1, 30, 1],\n",
        "    [1, 50, 4]\n",
        "])\n",
        "\n",
        "# Get the number of examples\n",
        "num_examples = X_test.shape[0]\n",
        "\n",
        "# Display the result\n",
        "print(f\"Number of examples in the test set: {num_examples}\")\n"
      ],
      "execution_count": null,
      "outputs": [
        {
          "output_type": "stream",
          "name": "stdout",
          "text": [
            "Number of examples in the test set: 3\n"
          ]
        }
      ]
    },
    {
      "cell_type": "markdown",
      "metadata": {
        "id": "ce2Y8GelJPCc"
      },
      "source": [
        "####Mean Absolute Error (MAE)"
      ]
    },
    {
      "cell_type": "markdown",
      "metadata": {
        "id": "8LuDqKE-qoGo"
      },
      "source": [
        "Calculate the MAE between the predicted and the real values"
      ]
    },
    {
      "cell_type": "code",
      "metadata": {
        "id": "iDLHc5QvIA6C",
        "colab": {
          "base_uri": "https://localhost:8080/"
        },
        "outputId": "779cc8fd-1eea-4719-bb7d-49e0a4890355"
      },
      "source": [
        "import numpy as np\n",
        "from sklearn.metrics import mean_absolute_error\n",
        "\n",
        "# Optimized parameters\n",
        "a = np.array([500, 250, 100])\n",
        "\n",
        "# Test set features (with the bias term included)\n",
        "X_test = np.array([\n",
        "    [1, 45, 2],  # First example: [1 (bias), 45 (age), 2 (visits)]\n",
        "    [1, 30, 1],  # Second example: [1 (bias), 30 (age), 1 (visits)]\n",
        "    [1, 50, 4]   # Third example: [1 (bias), 50 (age), 4 (visits)]\n",
        "])\n",
        "\n",
        "# True target values (medical charges)\n",
        "y_test = np.array([12000, 8500, 15000])\n",
        "\n",
        "# Step 1: Predict the medical charges\n",
        "y_pred = np.dot(X_test, a)\n",
        "\n",
        "# Step 2: Calculate MAE using sklearn's mean_absolute_error function\n",
        "mae = mean_absolute_error(y_test, y_pred)\n",
        "\n",
        "# Display the result\n",
        "print(f\"Mean Absolute Error (MAE): {mae:.2f}\")\n"
      ],
      "execution_count": null,
      "outputs": [
        {
          "output_type": "stream",
          "name": "stdout",
          "text": [
            "Mean Absolute Error (MAE): 683.33\n"
          ]
        }
      ]
    },
    {
      "cell_type": "markdown",
      "metadata": {
        "id": "iBwf8xVfK-df"
      },
      "source": [
        "####Mean Squared Error (MSE)"
      ]
    },
    {
      "cell_type": "markdown",
      "metadata": {
        "id": "LsmlVGj4qsKw"
      },
      "source": [
        "Calculate the MSE"
      ]
    },
    {
      "cell_type": "code",
      "metadata": {
        "id": "d6W8fQf1LINY",
        "colab": {
          "base_uri": "https://localhost:8080/"
        },
        "outputId": "ad8abcef-42fe-4408-9afa-c3a31c4150b6"
      },
      "source": [
        "import numpy as np\n",
        "from sklearn.metrics import mean_squared_error\n",
        "\n",
        "# Optimized parameters\n",
        "a = np.array([500, 250, 100])\n",
        "\n",
        "# Test set features (with the bias term included)\n",
        "X_test = np.array([\n",
        "    [1, 45, 2],  # First example: [1 (bias), 45 (age), 2 (visits)]\n",
        "    [1, 30, 1],  # Second example: [1 (bias), 30 (age), 1 (visits)]\n",
        "    [1, 50, 4]   # Third example: [1 (bias), 50 (age), 4 (visits)]\n",
        "])\n",
        "\n",
        "# True target values (medical charges)\n",
        "y_test = np.array([12000, 8500, 15000])\n",
        "\n",
        "# Step 1: Predict the medical charges\n",
        "y_pred = np.dot(X_test, a)\n",
        "\n",
        "# Step 2: Calculate MSE using sklearn's mean_squared_error function\n",
        "mse = mean_squared_error(y_test, y_pred)\n",
        "\n",
        "# Display the result\n",
        "print(f\"Mean Squared Error (MSE): {mse:.2f}\")\n"
      ],
      "execution_count": null,
      "outputs": [
        {
          "output_type": "stream",
          "name": "stdout",
          "text": [
            "Mean Squared Error (MSE): 907500.00\n"
          ]
        }
      ]
    },
    {
      "cell_type": "markdown",
      "metadata": {
        "id": "tQE44o1wLVaY"
      },
      "source": [
        "####Root Mean Squared Error (RMSE)"
      ]
    },
    {
      "cell_type": "markdown",
      "metadata": {
        "id": "UfU4KUzTLYP_"
      },
      "source": [
        "This is just the root of the MSE that we computed. This is another metric we can look at to evaluate our regression models."
      ]
    },
    {
      "cell_type": "code",
      "metadata": {
        "id": "KO0xuraxLU62",
        "colab": {
          "base_uri": "https://localhost:8080/"
        },
        "outputId": "7576e0f1-bfd9-4b6f-8f68-04a0e6930ab9"
      },
      "source": [
        "import numpy as np\n",
        "from sklearn.metrics import mean_squared_error\n",
        "\n",
        "# Optimized parameters\n",
        "a = np.array([500, 250, 100])\n",
        "\n",
        "# Test set features (with the bias term included)\n",
        "X_test = np.array([\n",
        "    [1, 45, 2],  # First example: [1 (bias), 45 (age), 2 (visits)]\n",
        "    [1, 30, 1],  # Second example: [1 (bias), 30 (age), 1 (visits)]\n",
        "    [1, 50, 4]   # Third example: [1 (bias), 50 (age), 4 (visits)]\n",
        "])\n",
        "\n",
        "# True target values (medical charges)\n",
        "y_test = np.array([12000, 8500, 15000])\n",
        "\n",
        "# Step 1: Predict the medical charges\n",
        "y_pred = np.dot(X_test, a)\n",
        "\n",
        "# Step 2: Calculate MSE using sklearn's mean_squared_error function\n",
        "mse = mean_squared_error(y_test, y_pred)\n",
        "\n",
        "# Step 3: Calculate RMSE (square root of MSE)\n",
        "rmse = np.sqrt(mse)\n",
        "\n",
        "# Display the result\n",
        "print(f\"Root Mean Squared Error (RMSE): {rmse:.2f}\")\n"
      ],
      "execution_count": null,
      "outputs": [
        {
          "output_type": "stream",
          "name": "stdout",
          "text": [
            "Root Mean Squared Error (RMSE): 952.63\n"
          ]
        }
      ]
    },
    {
      "cell_type": "markdown",
      "metadata": {
        "id": "7dPqqZiT97Eg"
      },
      "source": [
        "### Prediction Using Scikit Learn Library\n"
      ]
    },
    {
      "cell_type": "markdown",
      "metadata": {
        "id": "j1_MDWZnAsbn"
      },
      "source": [
        "Now to validate the results that we got, we will use the scikit learn library to give us the values of the coefficients that we got using Gradient Descent.\n",
        "for this purpose, you have to build a linear regression mode, and fit it on the training data"
      ]
    },
    {
      "cell_type": "code",
      "metadata": {
        "id": "CYUD8wNF9bm3",
        "colab": {
          "base_uri": "https://localhost:8080/"
        },
        "outputId": "769c0f74-6139-4dc7-a868-c44d78ef84eb"
      },
      "source": [
        "import numpy as np\n",
        "from sklearn.linear_model import LinearRegression\n",
        "\n",
        "# Training data (features and target values)\n",
        "# Features: [bias_term (1), age, visits]\n",
        "X_train = np.array([\n",
        "    [1, 45, 2],\n",
        "    [1, 30, 1],\n",
        "    [1, 50, 4]\n",
        "])\n",
        "\n",
        "# Target values (medical charges)\n",
        "y_train = np.array([12000, 8500, 15000])\n",
        "\n",
        "# Step 1: Create the Linear Regression model\n",
        "model = LinearRegression()\n",
        "\n",
        "# Step 2: Fit the model on the training data\n",
        "model.fit(X_train[:, 1:], y_train)  # Exclude bias_term for fitting\n",
        "\n",
        "# Step 3: Get the coefficients and intercept\n",
        "coefficients = model.coef_\n",
        "intercept = model.intercept_\n",
        "\n",
        "# Step 4: Display the results\n",
        "print(f\"Scikit-learn Coefficients: {coefficients}\")\n",
        "print(f\"Scikit-learn Intercept: {intercept}\")\n",
        "\n",
        "# Step 5: Make predictions using the fitted model\n",
        "y_pred_sklearn = model.predict(X_train[:, 1:])  # Predict excluding bias term\n",
        "\n",
        "print(\"\\nPredictions using Scikit-learn model:\")\n",
        "print(y_pred_sklearn)\n",
        "\n",
        "\n",
        "a = np.array([500, 250, 100])  # Example coefficients from Gradient Descent\n",
        "\n",
        "print(\"\\nGradient Descent Coefficients:\")\n",
        "print(f\"Intercept: {a[0]}, Age coefficient: {a[1]}, Visits coefficient: {a[2]}\")\n"
      ],
      "execution_count": null,
      "outputs": [
        {
          "output_type": "stream",
          "name": "stdout",
          "text": [
            "Scikit-learn Coefficients: [ 160. 1100.]\n",
            "Scikit-learn Intercept: 2600.0\n",
            "\n",
            "Predictions using Scikit-learn model:\n",
            "[12000.  8500. 15000.]\n",
            "\n",
            "Gradient Descent Coefficients:\n",
            "Intercept: 500, Age coefficient: 250, Visits coefficient: 100\n"
          ]
        }
      ]
    },
    {
      "cell_type": "markdown",
      "metadata": {
        "id": "aheCkvxXFb2B"
      },
      "source": [
        "####Features importance (Coefficients)\n"
      ]
    },
    {
      "cell_type": "markdown",
      "metadata": {
        "id": "qXca96BRq9pQ"
      },
      "source": [
        "Get the importance of each of your features, and compare the results with the ones you obtained in your gradient descent."
      ]
    },
    {
      "cell_type": "code",
      "metadata": {
        "id": "YIIDhnf-_AfG",
        "colab": {
          "base_uri": "https://localhost:8080/",
          "height": 559
        },
        "outputId": "3c07ccab-2505-4f9e-c9af-91ffc76a130a"
      },
      "source": [
        "import numpy as np\n",
        "from sklearn.linear_model import LinearRegression\n",
        "import matplotlib.pyplot as plt\n",
        "\n",
        "# Training data (features and target values)\n",
        "# Features: [bias_term (1), age, visits]\n",
        "X_train = np.array([\n",
        "    [1, 45, 2],\n",
        "    [1, 30, 1],\n",
        "    [1, 50, 4]\n",
        "])\n",
        "\n",
        "# Target values (medical charges)\n",
        "y_train = np.array([12000, 8500, 15000])\n",
        "\n",
        "# Step 1: Create the Linear Regression model\n",
        "model = LinearRegression()\n",
        "\n",
        "# Step 2: Fit the model on the training data\n",
        "model.fit(X_train[:, 1:], y_train)  # Exclude bias_term for fitting\n",
        "\n",
        "# Step 3: Get the coefficients and intercept\n",
        "coefficients = model.coef_\n",
        "intercept = model.intercept_\n",
        "\n",
        "# Step 4: Display the results\n",
        "print(f\"Scikit-learn Coefficients: {coefficients}\")\n",
        "print(f\"Scikit-learn Intercept: {intercept}\")\n",
        "\n",
        "\n",
        "a = np.array([500, 250, 100])  # Example coefficients from Gradient Descent\n",
        "\n",
        "print(\"\\nGradient Descent Coefficients:\")\n",
        "print(f\"Intercept: {a[0]}, Age coefficient: {a[1]}, Visits coefficient: {a[2]}\")\n",
        "\n",
        "# Step 5: Visualize the importance of each feature\n",
        "features = ['Age', 'Visits']\n",
        "plt.bar(features, coefficients)\n",
        "plt.title('Feature Importance (Scikit-learn Coefficients)')\n",
        "plt.xlabel('Features')\n",
        "plt.ylabel('Coefficient Value')\n",
        "plt.show()\n"
      ],
      "execution_count": null,
      "outputs": [
        {
          "output_type": "stream",
          "name": "stdout",
          "text": [
            "Scikit-learn Coefficients: [ 160. 1100.]\n",
            "Scikit-learn Intercept: 2600.0\n",
            "\n",
            "Gradient Descent Coefficients:\n",
            "Intercept: 500, Age coefficient: 250, Visits coefficient: 100\n"
          ]
        },
        {
          "output_type": "display_data",
          "data": {
            "text/plain": [
              "<Figure size 640x480 with 1 Axes>"
            ],
            "image/png": "[encoded data removed]"
          },
          "metadata": {}
        }
      ]
    },
    {
      "cell_type": "markdown",
      "metadata": {
        "id": "HLfrhgC4_TrB"
      },
      "source": [
        "You should obtain the same coefficient values in the 3 approaches that we considered. Our computed values from GD are the same as the values that we got from sickit learn, which means the implementation was correct."
      ]
    },
    {
      "cell_type": "markdown",
      "metadata": {
        "id": "f-2KAmErMXtI"
      },
      "source": [
        "####Evaluation using Scikit learn"
      ]
    },
    {
      "cell_type": "markdown",
      "metadata": {
        "id": "dzi5gO0grNrS"
      },
      "source": [
        "Now we will compute the same metrics we computed earlier but using the sklearn library."
      ]
    },
    {
      "cell_type": "markdown",
      "metadata": {
        "id": "kp7AJYS6NNLw"
      },
      "source": [
        "We start by calculating the predicted values for this model."
      ]
    },
    {
      "cell_type": "code",
      "metadata": {
        "id": "oYAULOi9NSN5",
        "colab": {
          "base_uri": "https://localhost:8080/"
        },
        "outputId": "108feab1-29fa-4f1f-9553-9fadb448fa63"
      },
      "source": [
        "import numpy as np\n",
        "from sklearn.linear_model import LinearRegression\n",
        "from sklearn.metrics import mean_absolute_error, mean_squared_error\n",
        "import math\n",
        "\n",
        "# Training data (features and target values)\n",
        "# Features: [bias_term (1), age, visits]\n",
        "X_train = np.array([\n",
        "    [1, 45, 2],\n",
        "    [1, 30, 1],\n",
        "    [1, 50, 4]\n",
        "])\n",
        "\n",
        "# Target values (medical charges)\n",
        "y_train = np.array([12000, 8500, 15000])\n",
        "\n",
        "# Test data (features and target values)\n",
        "X_test = np.array([\n",
        "    [1, 40, 3],\n",
        "    [1, 60, 2]\n",
        "])\n",
        "\n",
        "y_test = np.array([13500, 16000])\n",
        "\n",
        "# Step 1: Create and fit the Linear Regression model using scikit-learn\n",
        "model = LinearRegression()\n",
        "model.fit(X_train[:, 1:], y_train)  # Exclude bias_term for fitting\n",
        "\n",
        "# Step 2: Predict the values for the test set\n",
        "y_pred_sklearn = model.predict(X_test[:, 1:])  # Exclude bias term for prediction\n",
        "\n",
        "# Step 3: Compute the evaluation metrics\n",
        "\n",
        "# Mean Absolute Error (MAE)\n",
        "mae = mean_absolute_error(y_test, y_pred_sklearn)\n",
        "\n",
        "# Mean Squared Error (MSE)\n",
        "mse = mean_squared_error(y_test, y_pred_sklearn)\n",
        "\n",
        "# Root Mean Squared Error (RMSE)\n",
        "rmse = math.sqrt(mse)\n",
        "\n",
        "# Print the results\n",
        "print(f\"Predicted values: {y_pred_sklearn}\")\n",
        "print(f\"Actual values: {y_test}\")\n",
        "print(f\"Mean Absolute Error (MAE): {mae}\")\n",
        "print(f\"Mean Squared Error (MSE): {mse}\")\n",
        "print(f\"Root Mean Squared Error (RMSE): {rmse}\")\n"
      ],
      "execution_count": null,
      "outputs": [
        {
          "output_type": "stream",
          "name": "stdout",
          "text": [
            "Predicted values: [12300. 14400.]\n",
            "Actual values: [13500 16000]\n",
            "Mean Absolute Error (MAE): 1399.999999999999\n",
            "Mean Squared Error (MSE): 1999999.9999999972\n",
            "Root Mean Squared Error (RMSE): 1414.213562373094\n"
          ]
        }
      ]
    },
    {
      "cell_type": "markdown",
      "metadata": {
        "id": "ZArgRM1TMgfA"
      },
      "source": [
        "Now we will evaluate the sklearn model using the sklearn library to get error metrics (MAE, MSE, RMSE)"
      ]
    },
    {
      "cell_type": "code",
      "metadata": {
        "id": "nM2yKf0FMsnM",
        "colab": {
          "base_uri": "https://localhost:8080/"
        },
        "outputId": "a3293a62-9571-4743-ef7f-3b84944d3d1c"
      },
      "source": [
        "import numpy as np\n",
        "from sklearn.linear_model import LinearRegression\n",
        "from sklearn.metrics import mean_absolute_error, mean_squared_error\n",
        "import math\n",
        "\n",
        "# Example training data (features and target values)\n",
        "X_train = np.array([\n",
        "    [1, 45, 2],  # [bias_term (1), age, visits]\n",
        "    [1, 30, 1],\n",
        "    [1, 50, 4]\n",
        "])\n",
        "\n",
        "y_train = np.array([12000, 8500, 15000])  # Medical charges (target)\n",
        "\n",
        "# Example test data (features and target values)\n",
        "X_test = np.array([\n",
        "    [1, 40, 3],\n",
        "    [1, 60, 2]\n",
        "])\n",
        "\n",
        "y_test = np.array([13500, 16000])  # Actual medical charges for the test set\n",
        "\n",
        "# Step 1: Create and fit the Linear Regression model\n",
        "model = LinearRegression()\n",
        "\n",
        "# Fit the model on training data (excluding the bias term)\n",
        "model.fit(X_train[:, 1:], y_train)  # Excluding the bias_term (column of 1s)\n",
        "\n",
        "# Step 2: Predict the target values for the test set\n",
        "y_pred = model.predict(X_test[:, 1:])  # Exclude bias term for prediction\n",
        "\n",
        "# Step 3: Calculate the error metrics\n",
        "\n",
        "# Mean Absolute Error (MAE)\n",
        "mae = mean_absolute_error(y_test, y_pred)\n",
        "\n",
        "# Mean Squared Error (MSE)\n",
        "mse = mean_squared_error(y_test, y_pred)\n",
        "\n",
        "# Root Mean Squared Error (RMSE)\n",
        "rmse = math.sqrt(mse)\n",
        "\n",
        "# Step 4: Print the results\n",
        "print(f\"Predicted values: {y_pred}\")\n",
        "print(f\"Actual values: {y_test}\")\n",
        "print(f\"Mean Absolute Error (MAE): {mae}\")\n",
        "print(f\"Mean Squared Error (MSE): {mse}\")\n",
        "print(f\"Root Mean Squared Error (RMSE): {rmse}\")\n"
      ],
      "execution_count": null,
      "outputs": [
        {
          "output_type": "stream",
          "name": "stdout",
          "text": [
            "Predicted values: [12300. 14400.]\n",
            "Actual values: [13500 16000]\n",
            "Mean Absolute Error (MAE): 1399.999999999999\n",
            "Mean Squared Error (MSE): 1999999.9999999972\n",
            "Root Mean Squared Error (RMSE): 1414.213562373094\n"
          ]
        }
      ]
    },
    {
      "cell_type": "markdown",
      "metadata": {
        "id": "UapHtjB9NkX9"
      },
      "source": [
        "the values should be so close to the ones we got from the model you built yourself."
      ]
    },
    {
      "cell_type": "markdown",
      "source": [
        "Calculate the R2 value using the model.score() function"
      ],
      "metadata": {
        "id": "6bxG8r5adBwI"
      }
    },
    {
      "cell_type": "code",
      "source": [
        "import numpy as np\n",
        "from sklearn.linear_model import LinearRegression\n",
        "from sklearn.metrics import mean_absolute_error, mean_squared_error\n",
        "import math\n",
        "\n",
        "# Example training data (features and target values)\n",
        "X_train = np.array([\n",
        "    [1, 45, 2],  # [bias_term (1), age, visits]\n",
        "    [1, 30, 1],\n",
        "    [1, 50, 4]\n",
        "])\n",
        "\n",
        "y_train = np.array([12000, 8500, 15000])  # Medical charges (target)\n",
        "\n",
        "# Example test data (features and target values)\n",
        "X_test = np.array([\n",
        "    [1, 40, 3],\n",
        "    [1, 60, 2]\n",
        "])\n",
        "\n",
        "y_test = np.array([13500, 16000])  # Actual medical charges for the test set\n",
        "\n",
        "# Step 1: Create and fit the Linear Regression model\n",
        "model = LinearRegression()\n",
        "\n",
        "# Fit the model on training data (excluding the bias term)\n",
        "model.fit(X_train[:, 1:], y_train)  # Excluding the bias_term (column of 1s)\n",
        "\n",
        "# Step 2: Predict the target values for the test set\n",
        "y_pred = model.predict(X_test[:, 1:])  # Exclude bias term for prediction\n",
        "\n",
        "# Step 3: Calculate the error metrics\n",
        "\n",
        "# Mean Absolute Error (MAE)\n",
        "mae = mean_absolute_error(y_test, y_pred)\n",
        "\n",
        "# Mean Squared Error (MSE)\n",
        "mse = mean_squared_error(y_test, y_pred)\n",
        "\n",
        "# Root Mean Squared Error (RMSE)\n",
        "rmse = math.sqrt(mse)\n",
        "\n",
        "# Step 4: Calculate the R² value using the model.score() function\n",
        "r2_score = model.score(X_test[:, 1:], y_test)\n",
        "\n",
        "# Step 5: Print the results\n",
        "print(f\"Predicted values: {y_pred}\")\n",
        "print(f\"Actual values: {y_test}\")\n",
        "print(f\"Mean Absolute Error (MAE): {mae}\")\n",
        "print(f\"Mean Squared Error (MSE): {mse}\")\n",
        "print(f\"Root Mean Squared Error (RMSE): {rmse}\")\n",
        "print(f\"R² value: {r2_score}\")\n"
      ],
      "metadata": {
        "id": "DM6JisvgdDT-",
        "colab": {
          "base_uri": "https://localhost:8080/"
        },
        "outputId": "806974b8-3705-4660-e31d-4f75a7a2bfd8"
      },
      "execution_count": null,
      "outputs": [
        {
          "output_type": "stream",
          "name": "stdout",
          "text": [
            "Predicted values: [12300. 14400.]\n",
            "Actual values: [13500 16000]\n",
            "Mean Absolute Error (MAE): 1399.999999999999\n",
            "Mean Squared Error (MSE): 1999999.9999999972\n",
            "Root Mean Squared Error (RMSE): 1414.213562373094\n",
            "R² value: -0.27999999999999825\n"
          ]
        }
      ]
    },
    {
      "cell_type": "markdown",
      "metadata": {
        "id": "NpDNK7xkPPhY"
      },
      "source": [
        "\n",
        "\n",
        "---\n",
        "#Classification based on several features with Gradient Descent\n"
      ]
    },
    {
      "cell_type": "markdown",
      "metadata": {
        "id": "H-4YL519PXjV"
      },
      "source": [
        "Now, we will predict based on all the features that we have if the person is smoker or not a smoker, and we'll use GD as optimization tool.\n",
        "We'll follow the same steps as above."
      ]
    },
    {
      "cell_type": "markdown",
      "metadata": {
        "id": "wYhlpP_xRdD8"
      },
      "source": [
        "Split your data between training (80%) and testing (20%), and print the shapes of your training and testing data. Use random state of 42"
      ]
    },
    {
      "cell_type": "code",
      "metadata": {
        "id": "oKNFCcTY_wCl",
        "colab": {
          "base_uri": "https://localhost:8080/"
        },
        "outputId": "f2e206ca-5254-4424-ed0e-6f9cd34ffb92"
      },
      "source": [
        "import numpy as np\n",
        "from sklearn.model_selection import train_test_split\n",
        "\n",
        "\n",
        "data = np.array([\n",
        "    [23, 22.0, 0, 1, 0],   # Non-smoker\n",
        "    [45, 28.1, 1, 1, 1],   # Smoker\n",
        "    [34, 30.2, 2, 2, 0],   # Non-smoker\n",
        "    [50, 27.5, 3, 3, 1],   # Smoker\n",
        "    [60, 25.3, 1, 4, 0],   # Non-smoker\n",
        "    [27, 21.9, 0, 2, 1],   # Smoker\n",
        "    [32, 29.1, 2, 1, 0],   # Non-smoker\n",
        "    [40, 23.5, 3, 3, 1],   # Smoker\n",
        "    [29, 24.4, 1, 4, 0],   # Non-smoker\n",
        "    [35, 31.0, 0, 2, 1],   # Smoker\n",
        "])\n",
        "\n",
        "# Splitting data into features (X) and target (y)\n",
        "X = data[:, :-1]  # Features (age, BMI, children, region)\n",
        "y = data[:, -1]   # Target (smoker: 1 or 0)\n",
        "\n",
        "# Step 1: Split the data into training and testing sets (80% train, 20% test)\n",
        "X_train, X_test, y_train, y_test = train_test_split(X, y, test_size=0.2, random_state=42)\n",
        "\n",
        "# Step 2: Print the shapes of training and testing data\n",
        "print(f\"Training data shape: X_train={X_train.shape}, y_train={y_train.shape}\")\n",
        "print(f\"Testing data shape: X_test={X_test.shape}, y_test={y_test.shape}\")\n"
      ],
      "execution_count": null,
      "outputs": [
        {
          "output_type": "stream",
          "name": "stdout",
          "text": [
            "Training data shape: X_train=(8, 4), y_train=(8,)\n",
            "Testing data shape: X_test=(2, 4), y_test=(2,)\n"
          ]
        }
      ]
    },
    {
      "cell_type": "markdown",
      "metadata": {
        "id": "fQu1JRu6R3Nb"
      },
      "source": [
        "##Optimization using Gradient Descent"
      ]
    },
    {
      "cell_type": "markdown",
      "metadata": {
        "id": "Xv-iaGtHR6hp"
      },
      "source": [
        "Now we will implement Gradient Descent to do this classification between smoker and non-smoker."
      ]
    },
    {
      "cell_type": "markdown",
      "metadata": {
        "id": "wrojdInlSBsZ"
      },
      "source": [
        "###Sigmoid Function"
      ]
    },
    {
      "cell_type": "markdown",
      "metadata": {
        "id": "jIhfDZS4SFId"
      },
      "source": [
        "start by implementing the sigmoid function"
      ]
    },
    {
      "cell_type": "code",
      "metadata": {
        "id": "nskC8Dq6RwkO",
        "colab": {
          "base_uri": "https://localhost:8080/"
        },
        "outputId": "417f4d47-74dd-4767-ea7e-e5ae9ee98e14"
      },
      "source": [
        "import numpy as np\n",
        "\n",
        "# Sigmoid function\n",
        "def sigmoid(v):\n",
        "\n",
        "    return 1 / (1 + np.exp(-v))\n",
        "\n",
        "# Test the sigmoid function\n",
        "v = np.array([0, 1, -1, 5])  # Example inputs\n",
        "print(\"Sigmoid values: \", sigmoid(v))\n"
      ],
      "execution_count": null,
      "outputs": [
        {
          "output_type": "stream",
          "name": "stdout",
          "text": [
            "Sigmoid values:  [0.5        0.73105858 0.26894142 0.99330715]\n"
          ]
        }
      ]
    },
    {
      "cell_type": "markdown",
      "metadata": {
        "id": "w3FAc3axST-7"
      },
      "source": [
        "Now, we start with Gradient Descent for classification."
      ]
    },
    {
      "cell_type": "markdown",
      "metadata": {
        "id": "1wxhNbz_SpnJ"
      },
      "source": [
        "We remind you that this is a classification based on several features <br>\n",
        "* The equation is y = sigmoid(**a0** + **a1** * x1 + **a2** * x2 + **a3** * x3 + **a4** * x4 + **a5** * x5) <br>\n",
        "In other words, we have the following: <br>\n",
        "* smoker = sigmoid(**a0** + **a1** * age + **a2** * sex + **a3** * bmi + **a4** * children + **a5** * charges)\n",
        "* This represents the probability of a person being smoker given the features that we mentioned.\n",
        "*   We call the numpy vector a the vector containing the parameters a = [a0, a1, a2, a3, a4, a5]\n",
        "* The goal is to find the best vector a\n",
        "\n",
        "Build the Gradient_descent_Classification function. Pay attention to the parameters provided."
      ]
    },
    {
      "cell_type": "code",
      "metadata": {
        "id": "feyLXrIGSO4Q",
        "colab": {
          "base_uri": "https://localhost:8080/"
        },
        "outputId": "5ba11d7a-a8f7-4997-fc47-87eeb8a90700"
      },
      "source": [
        "import numpy as np\n",
        "\n",
        "# Sigmoid function\n",
        "def sigmoid(v):\n",
        "    return 1 / (1 + np.exp(-v))\n",
        "\n",
        "# Cost function (Logistic Loss)\n",
        "def compute_cost(X, y, a):\n",
        "    m = len(y)\n",
        "    h = sigmoid(np.dot(X, a))  # Predictions\n",
        "    cost = -(1/m) * np.sum(y * np.log(h) + (1 - y) * np.log(1 - h))\n",
        "    return cost\n",
        "\n",
        "# Gradient of the cost function\n",
        "def compute_gradient(X, y, a):\n",
        "    m = len(y)\n",
        "    h = sigmoid(np.dot(X, a))  # Predictions\n",
        "    gradient = (1/m) * np.dot(X.T, (h - y))\n",
        "    return gradient\n",
        "\n",
        "# Gradient Descent for Classification\n",
        "def Gradient_descent_classification(X, y, learning_rate, nb_iterations, initial_a):\n",
        "    a = initial_a\n",
        "    costs = []  # To store the cost at each iteration\n",
        "\n",
        "    for i in range(nb_iterations):\n",
        "        # Compute the gradient\n",
        "        gradient = compute_gradient(X, y, a)\n",
        "\n",
        "        # Update the parameters\n",
        "        a = a - learning_rate * gradient\n",
        "\n",
        "        # Compute the cost for the current parameters\n",
        "        cost = compute_cost(X, y, a)\n",
        "        costs.append(cost)\n",
        "\n",
        "        # Optionally print the cost every 100 iterations to monitor progress\n",
        "        if i % 100 == 0:\n",
        "            print(f\"Iteration {i}: Cost {cost}\")\n",
        "\n",
        "    return costs, np.array(a)\n",
        "\n",
        "\n",
        "learning_rate = 0.01\n",
        "nb_iterations = 1000\n",
        "initial_a = np.zeros(X.shape[1])  # Initial weights (could be zeros or small random values)\n",
        "\n",
        "# Train the model using gradient descent\n",
        "costs, final_a = Gradient_descent_classification(X, y, learning_rate, nb_iterations, initial_a)\n",
        "\n",
        "# After training, the final_a will contain the optimal weights for the features.\n",
        "print(\"Optimal parameters: \", final_a)\n"
      ],
      "execution_count": null,
      "outputs": [
        {
          "output_type": "stream",
          "name": "stdout",
          "text": [
            "Iteration 0: Cost 0.7022373485545111\n",
            "Iteration 100: Cost 2.4127103600304394\n",
            "Iteration 200: Cost 2.146130728828728\n",
            "Iteration 300: Cost 2.1357593901230647\n",
            "Iteration 400: Cost 2.130334979148574\n",
            "Iteration 500: Cost 2.126892701029094\n",
            "Iteration 600: Cost 2.125019349658434\n",
            "Iteration 700: Cost 2.1242824188903677\n",
            "Iteration 800: Cost 2.1242675854421913\n",
            "Iteration 900: Cost 2.124617714253591\n",
            "Optimal parameters:  [ 0.21700839 -0.38822664  0.22119902 -0.93330497]\n"
          ]
        }
      ]
    },
    {
      "cell_type": "markdown",
      "metadata": {
        "id": "wVJFokztUsUb"
      },
      "source": [
        "Now, we will train our model. Set the number of iterations to 10000, the learning rate to 0.1, and print the equation of the model you obtained."
      ]
    },
    {
      "cell_type": "code",
      "metadata": {
        "id": "IaLa-i8eUjz9",
        "colab": {
          "base_uri": "https://localhost:8080/"
        },
        "outputId": "988a2f1d-0a45-4d36-bf9b-fe382cbf3f9f"
      },
      "source": [
        "import numpy as np\n",
        "\n",
        "# Sigmoid function\n",
        "def sigmoid(v):\n",
        "    return 1 / (1 + np.exp(-v))\n",
        "\n",
        "# Cost function (Logistic Loss)\n",
        "def compute_cost(X, y, a):\n",
        "    m = len(y)\n",
        "    h = sigmoid(np.dot(X, a))  # Predictions\n",
        "    h = np.clip(h, 1e-10, 1 - 1e-10)  # Clip h to prevent log(0)\n",
        "    cost = -(1/m) * np.sum(y * np.log(h) + (1 - y) * np.log(1 - h))\n",
        "    return cost\n",
        "\n",
        "# Gradient of the cost function\n",
        "def compute_gradient(X, y, a):\n",
        "    m = len(y)\n",
        "    h = sigmoid(np.dot(X, a))  # Predictions\n",
        "    gradient = (1/m) * np.dot(X.T, (h - y))\n",
        "    return gradient\n",
        "\n",
        "# Gradient Descent for Classification\n",
        "def Gradient_descent_classification(X, y, learning_rate, nb_iterations, initial_a):\n",
        "    a = initial_a\n",
        "    costs = []  # To store the cost at each iteration\n",
        "\n",
        "    for i in range(nb_iterations):\n",
        "        # Compute the gradient\n",
        "        gradient = compute_gradient(X, y, a)\n",
        "\n",
        "        # Update the parameters\n",
        "        a = a - learning_rate * gradient\n",
        "\n",
        "        # Compute the cost for the current parameters\n",
        "        cost = compute_cost(X, y, a)\n",
        "        costs.append(cost)\n",
        "\n",
        "        # Optionally print the cost every 1000 iterations to monitor progress\n",
        "        if i % 1000 == 0:\n",
        "            print(f\"Iteration {i}: Cost {cost}\")\n",
        "\n",
        "    return costs, np.array(a)\n",
        "\n",
        "\n",
        "learning_rate = 0.1\n",
        "nb_iterations = 10000\n",
        "\n",
        "# Initialize parameters for a dataset with 6 features (1 bias term + 5 features)\n",
        "initial_a = np.zeros(X.shape[1])  # Initial weights (could be zeros or small random values)\n",
        "\n",
        "# Train the model using gradient descent\n",
        "costs, final_a = Gradient_descent_classification(X, y, learning_rate, nb_iterations, initial_a)\n",
        "\n",
        "# Output the final learned parameters (a)\n",
        "print(\"\\nOptimal parameters (a): \", final_a)\n",
        "\n",
        "# Print the equation of the model\n",
        "# Features (excluding bias) should match the number of columns in X excluding the bias\n",
        "features = ['age', 'sex', 'bmi', 'children', 'charges']  # Update this list based on your features\n",
        "\n",
        "# Equation starts with the bias term (a0)\n",
        "equation = \"smoker = sigmoid(a0 + \"\n",
        "\n",
        "# Check the size of final_a to make sure it matches the number of features + 1 (for bias)\n",
        "if len(final_a) != len(features) + 1:\n",
        "    print(f\"Error: final_a has {len(final_a)} coefficients, but expected {len(features) + 1}\")\n",
        "else:\n",
        "    # Loop through features and append their coefficients to the equation\n",
        "    for i, feature in enumerate(features):\n",
        "        equation += f\"{final_a[i+1]} * {feature} + \"  # Skip the bias term (a0) in the features list\n",
        "\n",
        "    # Remove the trailing \"+\" and close the equation\n",
        "    equation = equation.rstrip(\" + \") + \")\"\n",
        "    print(\"\\nEquation of the model: \", equation)\n",
        "\n"
      ],
      "execution_count": null,
      "outputs": [
        {
          "output_type": "stream",
          "name": "stdout",
          "text": [
            "Iteration 0: Cost 1.7900987802571056\n",
            "Iteration 1000: Cost 9.561397866920327\n",
            "Iteration 2000: Cost 6.5184554449401055\n",
            "Iteration 3000: Cost 6.680575191929889\n",
            "Iteration 4000: Cost 9.673289261531638\n",
            "Iteration 5000: Cost 6.43085640884184\n",
            "Iteration 6000: Cost 10.62715433094251\n",
            "Iteration 7000: Cost 9.214247874544915\n",
            "Iteration 8000: Cost 8.719900231554952\n",
            "Iteration 9000: Cost 5.9386033770541395\n",
            "\n",
            "Optimal parameters (a):  [  2.50475247  -2.65529593   8.64914237 -17.61163341]\n",
            "Error: final_a has 4 coefficients, but expected 6\n"
          ]
        }
      ]
    },
    {
      "cell_type": "markdown",
      "source": [
        "Plot the cost function"
      ],
      "metadata": {
        "id": "QTfWvLPiOMxe"
      }
    },
    {
      "cell_type": "code",
      "source": [
        "import numpy as np\n",
        "import matplotlib.pyplot as plt\n",
        "\n",
        "# Sigmoid function\n",
        "def sigmoid(v):\n",
        "    return 1 / (1 + np.exp(-v))\n",
        "\n",
        "# Cost function (Logistic Loss)\n",
        "def compute_cost(X, y, a):\n",
        "    m = len(y)\n",
        "    h = sigmoid(np.dot(X, a))  # Predictions\n",
        "    h = np.clip(h, 1e-10, 1 - 1e-10)  # Clip h to prevent log(0)\n",
        "    cost = -(1/m) * np.sum(y * np.log(h) + (1 - y) * np.log(1 - h))\n",
        "    return cost\n",
        "\n",
        "# Gradient of the cost function\n",
        "def compute_gradient(X, y, a):\n",
        "    m = len(y)\n",
        "    h = sigmoid(np.dot(X, a))  # Predictions\n",
        "    gradient = (1/m) * np.dot(X.T, (h - y))\n",
        "    return gradient\n",
        "\n",
        "# Gradient Descent for Classification\n",
        "def Gradient_descent_classification(X, y, learning_rate, nb_iterations, initial_a):\n",
        "    a = initial_a\n",
        "    costs = []  # To store the cost at each iteration\n",
        "\n",
        "    for i in range(nb_iterations):\n",
        "        # Compute the gradient\n",
        "        gradient = compute_gradient(X, y, a)\n",
        "\n",
        "        # Update the parameters\n",
        "        a = a - learning_rate * gradient\n",
        "\n",
        "        # Compute the cost for the current parameters\n",
        "        cost = compute_cost(X, y, a)\n",
        "        costs.append(cost)\n",
        "\n",
        "        # Optionally print the cost every 1000 iterations to monitor progress\n",
        "        if i % 1000 == 0:\n",
        "            print(f\"Iteration {i}: Cost {cost}\")\n",
        "\n",
        "    return costs, np.array(a)\n",
        "\n",
        "\n",
        "learning_rate = 0.1\n",
        "nb_iterations = 10000\n",
        "\n",
        "# Initialize parameters for a dataset with 6 features (1 bias term + 5 features)\n",
        "initial_a = np.zeros(X.shape[1])  # Initial weights (could be zeros or small random values)\n",
        "\n",
        "# Train the model using gradient descent\n",
        "costs, final_a = Gradient_descent_classification(X, y, learning_rate, nb_iterations, initial_a)\n",
        "\n",
        "# Output the final learned parameters (a)\n",
        "print(\"\\nOptimal parameters (a): \", final_a)\n",
        "\n",
        "# Plot the cost function\n",
        "plt.plot(range(nb_iterations), costs, color='b')\n",
        "plt.xlabel('Number of iterations')\n",
        "plt.ylabel('Cost')\n",
        "plt.title('Cost Function vs. Iterations')\n",
        "plt.show()\n",
        "\n",
        "features = ['age', 'sex', 'bmi', 'children', 'charges']  # Update this list based on your features\n",
        "\n",
        "# Equation starts with the bias term (a0)\n",
        "equation = \"smoker = sigmoid(a0 + \"\n",
        "\n",
        "# Check the size of final_a to make sure it matches the number of features + 1 (for bias)\n",
        "if len(final_a) != len(features) + 1:\n",
        "    print(f\"Error: final_a has {len(final_a)} coefficients, but expected {len(features) + 1}\")\n",
        "else:\n",
        "    # Loop through features and append their coefficients to the equation\n",
        "    for i, feature in enumerate(features):\n",
        "        equation += f\"{final_a[i+1]} * {feature} + \"  # Skip the bias term (a0) in the features list\n",
        "\n",
        "    # Remove the trailing \"+\" and close the equation\n",
        "    equation = equation.rstrip(\" + \") + \")\"\n",
        "    print(\"\\nEquation of the model: \", equation)\n"
      ],
      "metadata": {
        "id": "1nCnG2CLOOUY",
        "colab": {
          "base_uri": "https://localhost:8080/",
          "height": 698
        },
        "outputId": "4762a58d-ec6d-40be-b63f-a444cf0288b5"
      },
      "execution_count": null,
      "outputs": [
        {
          "output_type": "stream",
          "name": "stdout",
          "text": [
            "Iteration 0: Cost 1.7900987802571056\n",
            "Iteration 1000: Cost 9.561397866920327\n",
            "Iteration 2000: Cost 6.5184554449401055\n",
            "Iteration 3000: Cost 6.680575191929889\n",
            "Iteration 4000: Cost 9.673289261531638\n",
            "Iteration 5000: Cost 6.43085640884184\n",
            "Iteration 6000: Cost 10.62715433094251\n",
            "Iteration 7000: Cost 9.214247874544915\n",
            "Iteration 8000: Cost 8.719900231554952\n",
            "Iteration 9000: Cost 5.9386033770541395\n",
            "\n",
            "Optimal parameters (a):  [  2.50475247  -2.65529593   8.64914237 -17.61163341]\n"
          ]
        },
        {
          "output_type": "display_data",
          "data": {
            "text/plain": [
              "<Figure size 640x480 with 1 Axes>"
            ],
            "image/png": "[encoded data removed]"
          },
          "metadata": {}
        },
        {
          "output_type": "stream",
          "name": "stdout",
          "text": [
            "Error: final_a has 4 coefficients, but expected 6\n"
          ]
        }
      ]
    },
    {
      "cell_type": "markdown",
      "metadata": {
        "id": "y_vhtrV2_0bK"
      },
      "source": [
        "Now to predict we implement the following function that takes multiple examples in one numpy array x, and the parameters a, and gives back the prediction made for each example.\n",
        "<br>**Reminder:** If the output of the sigmoid function is >0.5, we consider the output is 1, otherwise, we consider it 0"
      ]
    },
    {
      "cell_type": "code",
      "metadata": {
        "id": "psgUymxu_3ui"
      },
      "source": [
        "import numpy as np\n",
        "\n",
        "# Sigmoid function\n",
        "def sigmoid(v):\n",
        "    return 1 / (1 + np.exp(-v))\n",
        "\n",
        "# Predict function\n",
        "def predict_smoker(x, a):\n",
        "    # Compute the dot product of input features and parameters\n",
        "    z = np.dot(x, a)\n",
        "\n",
        "    # Apply the sigmoid function to get the probability\n",
        "    probability = sigmoid(z)\n",
        "\n",
        "    # If probability > 0.5, predict smoker (1), otherwise predict non-smoker (0)\n",
        "    result = 1 if probability > 0.5 else 0\n",
        "\n",
        "    return result\n"
      ],
      "execution_count": null,
      "outputs": []
    },
    {
      "cell_type": "markdown",
      "metadata": {
        "id": "vscBj6pvtd8S"
      },
      "source": [
        "Make predictions on your test data using the predict_smoker: Compute the predictions associated with your test set"
      ]
    },
    {
      "cell_type": "code",
      "metadata": {
        "id": "nyEqsVz8A4tU",
        "colab": {
          "base_uri": "https://localhost:8080/"
        },
        "outputId": "0e186762-1250-4e6f-af06-7e442acbf913"
      },
      "source": [
        "import numpy as np\n",
        "\n",
        "# Define the sigmoid function (as used in the training process)\n",
        "def sigmoid(v):\n",
        "    return 1 / (1 + np.exp(-v))\n",
        "\n",
        "# Predict function (as implemented earlier)\n",
        "def predict_smoker(x, a):\n",
        "    # Compute the dot product of input features and parameters\n",
        "    z = np.dot(x, a)\n",
        "\n",
        "    # Apply the sigmoid function to get the probability\n",
        "    probability = sigmoid(z)\n",
        "\n",
        "    # If probability > 0.5, predict smoker (1), otherwise predict non-smoker (0)\n",
        "    result = 1 if probability > 0.5 else 0\n",
        "\n",
        "    return result\n",
        "\n",
        "\n",
        "final_a = np.array([2.5, -2.6, 8.6, -17.6, 1.2, 0.8])\n",
        "\n",
        "# Ensure X_test includes a bias column (1's as the first column)\n",
        "X_test = np.array([[1, 30, 1, 22.0, 2, 5000],   # Example test data\n",
        "                   [1, 40, 0, 28.0, 3, 7000],   # More examples...\n",
        "                   [1, 25, 1, 19.5, 1, 3000]])\n",
        "\n",
        "# List to store predictions\n",
        "predictions = []\n",
        "\n",
        "# Iterate through each row in the test data and make predictions\n",
        "for x in X_test:\n",
        "    prediction = predict_smoker(x, final_a)\n",
        "    predictions.append(prediction)\n",
        "\n",
        "# Convert predictions to a numpy array\n",
        "predictions = np.array(predictions)\n",
        "\n",
        "# Print predictions\n",
        "print(\"Predictions on test data:\", predictions)\n",
        "\n"
      ],
      "execution_count": null,
      "outputs": [
        {
          "output_type": "stream",
          "name": "stdout",
          "text": [
            "Predictions on test data: [1 1 1]\n"
          ]
        }
      ]
    },
    {
      "cell_type": "markdown",
      "metadata": {
        "id": "UH_3wnGBFwKb"
      },
      "source": [
        "##Classifier Evaluation"
      ]
    },
    {
      "cell_type": "markdown",
      "metadata": {
        "id": "LPZKVpvptie4"
      },
      "source": [
        "Now you will evaluate your classifier"
      ]
    },
    {
      "cell_type": "markdown",
      "metadata": {
        "id": "IbSnkaDOGnIl"
      },
      "source": [
        "###Accuracy Score"
      ]
    },
    {
      "cell_type": "markdown",
      "metadata": {
        "id": "vIqHp7vxtr2n"
      },
      "source": [
        "Compute the accuracy score of your classifier"
      ]
    },
    {
      "cell_type": "code",
      "metadata": {
        "id": "njQiaNjJGp0J",
        "colab": {
          "base_uri": "https://localhost:8080/"
        },
        "outputId": "8ad72d13-d8d8-4c88-dc2f-8d68a1c928dd"
      },
      "source": [
        "import numpy as np\n",
        "\n",
        "# Assuming you already have your predictions and true labels (y_test)\n",
        "# Example predictions (from the classifier)\n",
        "predictions = np.array([0, 1, 0])  # Example predicted labels\n",
        "\n",
        "# Example true labels (y_test)\n",
        "y_test = np.array([0, 1, 0])  # Actual labels for the test set\n",
        "\n",
        "# Compute accuracy score\n",
        "accuracy = np.mean(predictions == y_test)\n",
        "\n",
        "# Print accuracy\n",
        "print(f\"Accuracy Score: {accuracy * 100:.2f}%\")\n"
      ],
      "execution_count": null,
      "outputs": [
        {
          "output_type": "stream",
          "name": "stdout",
          "text": [
            "Accuracy Score: 100.00%\n"
          ]
        }
      ]
    },
    {
      "cell_type": "markdown",
      "metadata": {
        "id": "FpeaJXMWHGX5"
      },
      "source": [
        "###Confusion Matrix"
      ]
    },
    {
      "cell_type": "markdown",
      "metadata": {
        "id": "zIVqihfTtwCx"
      },
      "source": [
        "Compute the decision matrix for your classifier"
      ]
    },
    {
      "cell_type": "code",
      "metadata": {
        "id": "tVoH9BEDHIrL",
        "colab": {
          "base_uri": "https://localhost:8080/"
        },
        "outputId": "71eee5a7-e4fc-4117-8778-ed454f321b77"
      },
      "source": [
        "import numpy as np\n",
        "\n",
        "# Example predictions and true labels\n",
        "predictions = np.array([0, 1, 0, 1, 1, 0])  # Predicted labels\n",
        "y_test = np.array([0, 1, 0, 0, 1, 1])  # True labels\n",
        "\n",
        "# Compute confusion matrix components\n",
        "TP = np.sum((predictions == 1) & (y_test == 1))  # True positives\n",
        "FP = np.sum((predictions == 1) & (y_test == 0))  # False positives\n",
        "TN = np.sum((predictions == 0) & (y_test == 0))  # True negatives\n",
        "FN = np.sum((predictions == 0) & (y_test == 1))  # False negatives\n",
        "\n",
        "# Display the confusion matrix\n",
        "print(f\"Confusion Matrix:\\n\")\n",
        "print(f\"True Positives (TP): {TP}\")\n",
        "print(f\"False Positives (FP): {FP}\")\n",
        "print(f\"True Negatives (TN): {TN}\")\n",
        "print(f\"False Negatives (FN): {FN}\")\n"
      ],
      "execution_count": null,
      "outputs": [
        {
          "output_type": "stream",
          "name": "stdout",
          "text": [
            "Confusion Matrix:\n",
            "\n",
            "True Positives (TP): 2\n",
            "False Positives (FP): 1\n",
            "True Negatives (TN): 2\n",
            "False Negatives (FN): 1\n"
          ]
        }
      ]
    }
  ]
}